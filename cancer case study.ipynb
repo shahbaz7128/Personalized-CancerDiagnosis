{
 "cells": [
  {
   "cell_type": "markdown",
   "metadata": {},
   "source": [
    "# CANCER CASE STUDY"
   ]
  },
  {
   "cell_type": "markdown",
   "metadata": {},
   "source": [
    "# Problem statement\n",
    " clasify the given genetic variations/mutations based on evidence from text-based clinical literature"
   ]
  },
  {
   "cell_type": "code",
   "execution_count": 1,
   "metadata": {},
   "outputs": [],
   "source": [
    "import pandas as pd\n",
    "import matplotlib.pyplot as plt\n",
    "import re\n",
    "import time\n",
    "import warnings\n",
    "import numpy as np\n",
    "from nltk.corpus import stopwords\n",
    "from sklearn.decomposition import TruncatedSVD\n",
    "from sklearn.preprocessing import normalize\n",
    "from sklearn.feature_extraction.text import CountVectorizer\n",
    "from sklearn.manifold import TSNE\n",
    "import seaborn as sns\n",
    "from sklearn.neighbors import KNeighborsClassifier\n",
    "from sklearn.metrics import confusion_matrix\n",
    "from sklearn.metrics import accuracy_score, log_loss\n",
    "from sklearn.feature_extraction.text import TfidfVectorizer\n",
    "from sklearn.linear_model import SGDClassifier\n",
    "from collections import Counter\n",
    "from scipy.sparse import hstack\n",
    "from sklearn.multiclass import OneVsRestClassifier\n",
    "from sklearn.svm import SVC\n",
    "from sklearn.model_selection import StratifiedKFold \n",
    "from collections import Counter, defaultdict\n",
    "from sklearn.calibration import CalibratedClassifierCV\n",
    "from sklearn.naive_bayes import MultinomialNB\n",
    "from sklearn.naive_bayes import GaussianNB\n",
    "from sklearn.model_selection import train_test_split\n",
    "from sklearn.model_selection import GridSearchCV\n",
    "import math\n",
    "from sklearn.metrics import normalized_mutual_info_score\n",
    "from sklearn.ensemble import RandomForestClassifier\n",
    "warnings.filterwarnings(\"ignore\")\n",
    "\n",
    "from mlxtend.classifier import StackingClassifier\n",
    "\n",
    "from sklearn import model_selection\n",
    "from sklearn.linear_model import LogisticRegression\n"
   ]
  },
  {
   "cell_type": "code",
   "execution_count": 2,
   "metadata": {},
   "outputs": [],
   "source": [
    "df=pd.read_csv('C:\\\\Users\\\\SHAHBAZ\\\\Desktop\\\\data science\\\\AppliedAI\\\\cancer case study\\\\training_variants.zip')\n"
   ]
  },
  {
   "cell_type": "code",
   "execution_count": 3,
   "metadata": {},
   "outputs": [
    {
     "name": "stdout",
     "output_type": "stream",
     "text": [
      "Number of data points: 3321\n",
      "Number of features: 4\n",
      "features: ['ID' 'Gene' 'Variation' 'Class']\n"
     ]
    }
   ],
   "source": [
    "print('Number of data points:',df.shape[0])\n",
    "print('Number of features:',df.shape[1])\n",
    "print('features:',df.columns.values)"
   ]
  },
  {
   "cell_type": "code",
   "execution_count": 4,
   "metadata": {},
   "outputs": [
    {
     "data": {
      "text/html": [
       "<div>\n",
       "<style scoped>\n",
       "    .dataframe tbody tr th:only-of-type {\n",
       "        vertical-align: middle;\n",
       "    }\n",
       "\n",
       "    .dataframe tbody tr th {\n",
       "        vertical-align: top;\n",
       "    }\n",
       "\n",
       "    .dataframe thead th {\n",
       "        text-align: right;\n",
       "    }\n",
       "</style>\n",
       "<table border=\"1\" class=\"dataframe\">\n",
       "  <thead>\n",
       "    <tr style=\"text-align: right;\">\n",
       "      <th></th>\n",
       "      <th>ID</th>\n",
       "      <th>Gene</th>\n",
       "      <th>Variation</th>\n",
       "      <th>Class</th>\n",
       "    </tr>\n",
       "  </thead>\n",
       "  <tbody>\n",
       "    <tr>\n",
       "      <th>0</th>\n",
       "      <td>0</td>\n",
       "      <td>FAM58A</td>\n",
       "      <td>Truncating Mutations</td>\n",
       "      <td>1</td>\n",
       "    </tr>\n",
       "    <tr>\n",
       "      <th>1</th>\n",
       "      <td>1</td>\n",
       "      <td>CBL</td>\n",
       "      <td>W802*</td>\n",
       "      <td>2</td>\n",
       "    </tr>\n",
       "    <tr>\n",
       "      <th>2</th>\n",
       "      <td>2</td>\n",
       "      <td>CBL</td>\n",
       "      <td>Q249E</td>\n",
       "      <td>2</td>\n",
       "    </tr>\n",
       "    <tr>\n",
       "      <th>3</th>\n",
       "      <td>3</td>\n",
       "      <td>CBL</td>\n",
       "      <td>N454D</td>\n",
       "      <td>3</td>\n",
       "    </tr>\n",
       "    <tr>\n",
       "      <th>4</th>\n",
       "      <td>4</td>\n",
       "      <td>CBL</td>\n",
       "      <td>L399V</td>\n",
       "      <td>4</td>\n",
       "    </tr>\n",
       "  </tbody>\n",
       "</table>\n",
       "</div>"
      ],
      "text/plain": [
       "   ID    Gene             Variation  Class\n",
       "0   0  FAM58A  Truncating Mutations      1\n",
       "1   1     CBL                 W802*      2\n",
       "2   2     CBL                 Q249E      2\n",
       "3   3     CBL                 N454D      3\n",
       "4   4     CBL                 L399V      4"
      ]
     },
     "execution_count": 4,
     "metadata": {},
     "output_type": "execute_result"
    }
   ],
   "source": [
    "df.head()"
   ]
  },
  {
   "cell_type": "code",
   "execution_count": 5,
   "metadata": {},
   "outputs": [],
   "source": [
    "data=pd.read_csv('C:\\\\Users\\\\SHAHBAZ\\\\Desktop\\\\data science\\\\AppliedAI\\\\cancer case study\\\\training_text\\\\training_text', sep=\"\\|\\|\", engine='python',names=[\"ID\",\"TEXT\"],skiprows=1)"
   ]
  },
  {
   "cell_type": "code",
   "execution_count": 6,
   "metadata": {},
   "outputs": [
    {
     "data": {
      "text/html": [
       "<div>\n",
       "<style scoped>\n",
       "    .dataframe tbody tr th:only-of-type {\n",
       "        vertical-align: middle;\n",
       "    }\n",
       "\n",
       "    .dataframe tbody tr th {\n",
       "        vertical-align: top;\n",
       "    }\n",
       "\n",
       "    .dataframe thead th {\n",
       "        text-align: right;\n",
       "    }\n",
       "</style>\n",
       "<table border=\"1\" class=\"dataframe\">\n",
       "  <thead>\n",
       "    <tr style=\"text-align: right;\">\n",
       "      <th></th>\n",
       "      <th>ID</th>\n",
       "      <th>TEXT</th>\n",
       "    </tr>\n",
       "  </thead>\n",
       "  <tbody>\n",
       "    <tr>\n",
       "      <th>0</th>\n",
       "      <td>0</td>\n",
       "      <td>Cyclin-dependent kinases (CDKs) regulate a var...</td>\n",
       "    </tr>\n",
       "    <tr>\n",
       "      <th>1</th>\n",
       "      <td>1</td>\n",
       "      <td>Abstract Background  Non-small cell lung canc...</td>\n",
       "    </tr>\n",
       "    <tr>\n",
       "      <th>2</th>\n",
       "      <td>2</td>\n",
       "      <td>Abstract Background  Non-small cell lung canc...</td>\n",
       "    </tr>\n",
       "    <tr>\n",
       "      <th>3</th>\n",
       "      <td>3</td>\n",
       "      <td>Recent evidence has demonstrated that acquired...</td>\n",
       "    </tr>\n",
       "    <tr>\n",
       "      <th>4</th>\n",
       "      <td>4</td>\n",
       "      <td>Oncogenic mutations in the monomeric Casitas B...</td>\n",
       "    </tr>\n",
       "  </tbody>\n",
       "</table>\n",
       "</div>"
      ],
      "text/plain": [
       "   ID                                               TEXT\n",
       "0   0  Cyclin-dependent kinases (CDKs) regulate a var...\n",
       "1   1   Abstract Background  Non-small cell lung canc...\n",
       "2   2   Abstract Background  Non-small cell lung canc...\n",
       "3   3  Recent evidence has demonstrated that acquired...\n",
       "4   4  Oncogenic mutations in the monomeric Casitas B..."
      ]
     },
     "execution_count": 6,
     "metadata": {},
     "output_type": "execute_result"
    }
   ],
   "source": [
    "data.head()"
   ]
  },
  {
   "cell_type": "code",
   "execution_count": 7,
   "metadata": {},
   "outputs": [
    {
     "name": "stdout",
     "output_type": "stream",
     "text": [
      "Number of data points: 3321\n",
      "Number of features: 2\n"
     ]
    }
   ],
   "source": [
    "print('Number of data points:',data.shape[0])\n",
    "print('Number of features:',data.shape[1])"
   ]
  },
  {
   "cell_type": "markdown",
   "metadata": {},
   "source": [
    "# Preprocessing "
   ]
  },
  {
   "cell_type": "code",
   "execution_count": 8,
   "metadata": {},
   "outputs": [
    {
     "name": "stderr",
     "output_type": "stream",
     "text": [
      "[nltk_data] Downloading package stopwords to\n",
      "[nltk_data]     C:\\Users\\SHAHBAZ\\AppData\\Roaming\\nltk_data...\n",
      "[nltk_data]   Package stopwords is already up-to-date!\n"
     ]
    },
    {
     "data": {
      "text/plain": [
       "True"
      ]
     },
     "execution_count": 8,
     "metadata": {},
     "output_type": "execute_result"
    }
   ],
   "source": [
    "#downloading the stopwords\n",
    "import nltk\n",
    "nltk.download('stopwords')"
   ]
  },
  {
   "cell_type": "code",
   "execution_count": 9,
   "metadata": {},
   "outputs": [
    {
     "data": {
      "text/plain": [
       "['i',\n",
       " 'me',\n",
       " 'my',\n",
       " 'myself',\n",
       " 'we',\n",
       " 'our',\n",
       " 'ours',\n",
       " 'ourselves',\n",
       " 'you',\n",
       " \"you're\",\n",
       " \"you've\",\n",
       " \"you'll\",\n",
       " \"you'd\",\n",
       " 'your',\n",
       " 'yours',\n",
       " 'yourself',\n",
       " 'yourselves',\n",
       " 'he',\n",
       " 'him',\n",
       " 'his',\n",
       " 'himself',\n",
       " 'she',\n",
       " \"she's\",\n",
       " 'her',\n",
       " 'hers',\n",
       " 'herself',\n",
       " 'it',\n",
       " \"it's\",\n",
       " 'its',\n",
       " 'itself',\n",
       " 'they',\n",
       " 'them',\n",
       " 'their',\n",
       " 'theirs',\n",
       " 'themselves',\n",
       " 'what',\n",
       " 'which',\n",
       " 'who',\n",
       " 'whom',\n",
       " 'this',\n",
       " 'that',\n",
       " \"that'll\",\n",
       " 'these',\n",
       " 'those',\n",
       " 'am',\n",
       " 'is',\n",
       " 'are',\n",
       " 'was',\n",
       " 'were',\n",
       " 'be',\n",
       " 'been',\n",
       " 'being',\n",
       " 'have',\n",
       " 'has',\n",
       " 'had',\n",
       " 'having',\n",
       " 'do',\n",
       " 'does',\n",
       " 'did',\n",
       " 'doing',\n",
       " 'a',\n",
       " 'an',\n",
       " 'the',\n",
       " 'and',\n",
       " 'but',\n",
       " 'if',\n",
       " 'or',\n",
       " 'because',\n",
       " 'as',\n",
       " 'until',\n",
       " 'while',\n",
       " 'of',\n",
       " 'at',\n",
       " 'by',\n",
       " 'for',\n",
       " 'with',\n",
       " 'about',\n",
       " 'against',\n",
       " 'between',\n",
       " 'into',\n",
       " 'through',\n",
       " 'during',\n",
       " 'before',\n",
       " 'after',\n",
       " 'above',\n",
       " 'below',\n",
       " 'to',\n",
       " 'from',\n",
       " 'up',\n",
       " 'down',\n",
       " 'in',\n",
       " 'out',\n",
       " 'on',\n",
       " 'off',\n",
       " 'over',\n",
       " 'under',\n",
       " 'again',\n",
       " 'further',\n",
       " 'then',\n",
       " 'once',\n",
       " 'here',\n",
       " 'there',\n",
       " 'when',\n",
       " 'where',\n",
       " 'why',\n",
       " 'how',\n",
       " 'all',\n",
       " 'any',\n",
       " 'both',\n",
       " 'each',\n",
       " 'few',\n",
       " 'more',\n",
       " 'most',\n",
       " 'other',\n",
       " 'some',\n",
       " 'such',\n",
       " 'no',\n",
       " 'nor',\n",
       " 'not',\n",
       " 'only',\n",
       " 'own',\n",
       " 'same',\n",
       " 'so',\n",
       " 'than',\n",
       " 'too',\n",
       " 'very',\n",
       " 's',\n",
       " 't',\n",
       " 'can',\n",
       " 'will',\n",
       " 'just',\n",
       " 'don',\n",
       " \"don't\",\n",
       " 'should',\n",
       " \"should've\",\n",
       " 'now',\n",
       " 'd',\n",
       " 'll',\n",
       " 'm',\n",
       " 'o',\n",
       " 're',\n",
       " 've',\n",
       " 'y',\n",
       " 'ain',\n",
       " 'aren',\n",
       " \"aren't\",\n",
       " 'couldn',\n",
       " \"couldn't\",\n",
       " 'didn',\n",
       " \"didn't\",\n",
       " 'doesn',\n",
       " \"doesn't\",\n",
       " 'hadn',\n",
       " \"hadn't\",\n",
       " 'hasn',\n",
       " \"hasn't\",\n",
       " 'haven',\n",
       " \"haven't\",\n",
       " 'isn',\n",
       " \"isn't\",\n",
       " 'ma',\n",
       " 'mightn',\n",
       " \"mightn't\",\n",
       " 'mustn',\n",
       " \"mustn't\",\n",
       " 'needn',\n",
       " \"needn't\",\n",
       " 'shan',\n",
       " \"shan't\",\n",
       " 'shouldn',\n",
       " \"shouldn't\",\n",
       " 'wasn',\n",
       " \"wasn't\",\n",
       " 'weren',\n",
       " \"weren't\",\n",
       " 'won',\n",
       " \"won't\",\n",
       " 'wouldn',\n",
       " \"wouldn't\"]"
      ]
     },
     "execution_count": 9,
     "metadata": {},
     "output_type": "execute_result"
    }
   ],
   "source": [
    "stopwords=nltk.corpus.stopwords.words('english')\n",
    "stopwords[0:]"
   ]
  },
  {
   "cell_type": "code",
   "execution_count": 10,
   "metadata": {},
   "outputs": [],
   "source": [
    "def nlp_preprocessing(total_text, index, column):\n",
    "    if type(total_text) is not int:\n",
    "        string = \"\"\n",
    "        # replace every special char with space\n",
    "        total_text = re.sub('[^a-zA-Z0-9\\n]', ' ', total_text)\n",
    "        # replace multiple spaces with single space\n",
    "        total_text = re.sub('\\s+',' ', total_text)\n",
    "        # converting all the chars into lower-case.\n",
    "        total_text = total_text.lower()\n",
    "        \n",
    "        for word in total_text.split():\n",
    "        # if the word is a not a stop word then retain that word from the data\n",
    "            if not word in stop_words:\n",
    "                string += word + \" \"\n",
    "        \n",
    "        data_text[column][index] = string"
   ]
  },
  {
   "cell_type": "code",
   "execution_count": 11,
   "metadata": {},
   "outputs": [
    {
     "data": {
      "text/html": [
       "<div>\n",
       "<style scoped>\n",
       "    .dataframe tbody tr th:only-of-type {\n",
       "        vertical-align: middle;\n",
       "    }\n",
       "\n",
       "    .dataframe tbody tr th {\n",
       "        vertical-align: top;\n",
       "    }\n",
       "\n",
       "    .dataframe thead th {\n",
       "        text-align: right;\n",
       "    }\n",
       "</style>\n",
       "<table border=\"1\" class=\"dataframe\">\n",
       "  <thead>\n",
       "    <tr style=\"text-align: right;\">\n",
       "      <th></th>\n",
       "      <th>ID</th>\n",
       "      <th>Gene</th>\n",
       "      <th>Variation</th>\n",
       "      <th>Class</th>\n",
       "      <th>TEXT</th>\n",
       "    </tr>\n",
       "  </thead>\n",
       "  <tbody>\n",
       "    <tr>\n",
       "      <th>0</th>\n",
       "      <td>0</td>\n",
       "      <td>FAM58A</td>\n",
       "      <td>Truncating Mutations</td>\n",
       "      <td>1</td>\n",
       "      <td>Cyclin-dependent kinases (CDKs) regulate a var...</td>\n",
       "    </tr>\n",
       "    <tr>\n",
       "      <th>1</th>\n",
       "      <td>1</td>\n",
       "      <td>CBL</td>\n",
       "      <td>W802*</td>\n",
       "      <td>2</td>\n",
       "      <td>Abstract Background  Non-small cell lung canc...</td>\n",
       "    </tr>\n",
       "    <tr>\n",
       "      <th>2</th>\n",
       "      <td>2</td>\n",
       "      <td>CBL</td>\n",
       "      <td>Q249E</td>\n",
       "      <td>2</td>\n",
       "      <td>Abstract Background  Non-small cell lung canc...</td>\n",
       "    </tr>\n",
       "    <tr>\n",
       "      <th>3</th>\n",
       "      <td>3</td>\n",
       "      <td>CBL</td>\n",
       "      <td>N454D</td>\n",
       "      <td>3</td>\n",
       "      <td>Recent evidence has demonstrated that acquired...</td>\n",
       "    </tr>\n",
       "    <tr>\n",
       "      <th>4</th>\n",
       "      <td>4</td>\n",
       "      <td>CBL</td>\n",
       "      <td>L399V</td>\n",
       "      <td>4</td>\n",
       "      <td>Oncogenic mutations in the monomeric Casitas B...</td>\n",
       "    </tr>\n",
       "  </tbody>\n",
       "</table>\n",
       "</div>"
      ],
      "text/plain": [
       "   ID    Gene             Variation  Class  \\\n",
       "0   0  FAM58A  Truncating Mutations      1   \n",
       "1   1     CBL                 W802*      2   \n",
       "2   2     CBL                 Q249E      2   \n",
       "3   3     CBL                 N454D      3   \n",
       "4   4     CBL                 L399V      4   \n",
       "\n",
       "                                                TEXT  \n",
       "0  Cyclin-dependent kinases (CDKs) regulate a var...  \n",
       "1   Abstract Background  Non-small cell lung canc...  \n",
       "2   Abstract Background  Non-small cell lung canc...  \n",
       "3  Recent evidence has demonstrated that acquired...  \n",
       "4  Oncogenic mutations in the monomeric Casitas B...  "
      ]
     },
     "execution_count": 11,
     "metadata": {},
     "output_type": "execute_result"
    }
   ],
   "source": [
    "#combining both the files\n",
    "result=pd.merge(df,data,on='ID',how='left')\n",
    "result.head()"
   ]
  },
  {
   "cell_type": "code",
   "execution_count": 12,
   "metadata": {},
   "outputs": [
    {
     "data": {
      "text/html": [
       "<div>\n",
       "<style scoped>\n",
       "    .dataframe tbody tr th:only-of-type {\n",
       "        vertical-align: middle;\n",
       "    }\n",
       "\n",
       "    .dataframe tbody tr th {\n",
       "        vertical-align: top;\n",
       "    }\n",
       "\n",
       "    .dataframe thead th {\n",
       "        text-align: right;\n",
       "    }\n",
       "</style>\n",
       "<table border=\"1\" class=\"dataframe\">\n",
       "  <thead>\n",
       "    <tr style=\"text-align: right;\">\n",
       "      <th></th>\n",
       "      <th>ID</th>\n",
       "      <th>Gene</th>\n",
       "      <th>Variation</th>\n",
       "      <th>Class</th>\n",
       "      <th>TEXT</th>\n",
       "    </tr>\n",
       "  </thead>\n",
       "  <tbody>\n",
       "    <tr>\n",
       "      <th>1109</th>\n",
       "      <td>1109</td>\n",
       "      <td>FANCA</td>\n",
       "      <td>S1088F</td>\n",
       "      <td>1</td>\n",
       "      <td>NaN</td>\n",
       "    </tr>\n",
       "    <tr>\n",
       "      <th>1277</th>\n",
       "      <td>1277</td>\n",
       "      <td>ARID5B</td>\n",
       "      <td>Truncating Mutations</td>\n",
       "      <td>1</td>\n",
       "      <td>NaN</td>\n",
       "    </tr>\n",
       "    <tr>\n",
       "      <th>1407</th>\n",
       "      <td>1407</td>\n",
       "      <td>FGFR3</td>\n",
       "      <td>K508M</td>\n",
       "      <td>6</td>\n",
       "      <td>NaN</td>\n",
       "    </tr>\n",
       "    <tr>\n",
       "      <th>1639</th>\n",
       "      <td>1639</td>\n",
       "      <td>FLT1</td>\n",
       "      <td>Amplification</td>\n",
       "      <td>6</td>\n",
       "      <td>NaN</td>\n",
       "    </tr>\n",
       "    <tr>\n",
       "      <th>2755</th>\n",
       "      <td>2755</td>\n",
       "      <td>BRAF</td>\n",
       "      <td>G596C</td>\n",
       "      <td>7</td>\n",
       "      <td>NaN</td>\n",
       "    </tr>\n",
       "  </tbody>\n",
       "</table>\n",
       "</div>"
      ],
      "text/plain": [
       "        ID    Gene             Variation  Class TEXT\n",
       "1109  1109   FANCA                S1088F      1  NaN\n",
       "1277  1277  ARID5B  Truncating Mutations      1  NaN\n",
       "1407  1407   FGFR3                 K508M      6  NaN\n",
       "1639  1639    FLT1         Amplification      6  NaN\n",
       "2755  2755    BRAF                 G596C      7  NaN"
      ]
     },
     "execution_count": 12,
     "metadata": {},
     "output_type": "execute_result"
    }
   ],
   "source": [
    "#get the null values\n",
    "result[result.isnull().any(axis=1)]"
   ]
  },
  {
   "cell_type": "code",
   "execution_count": 13,
   "metadata": {},
   "outputs": [],
   "source": [
    "result.loc[result['TEXT'].isnull(),'TEXT'] = result['Gene'] +' '+result['Variation']"
   ]
  },
  {
   "cell_type": "code",
   "execution_count": 14,
   "metadata": {},
   "outputs": [
    {
     "data": {
      "text/html": [
       "<div>\n",
       "<style scoped>\n",
       "    .dataframe tbody tr th:only-of-type {\n",
       "        vertical-align: middle;\n",
       "    }\n",
       "\n",
       "    .dataframe tbody tr th {\n",
       "        vertical-align: top;\n",
       "    }\n",
       "\n",
       "    .dataframe thead th {\n",
       "        text-align: right;\n",
       "    }\n",
       "</style>\n",
       "<table border=\"1\" class=\"dataframe\">\n",
       "  <thead>\n",
       "    <tr style=\"text-align: right;\">\n",
       "      <th></th>\n",
       "      <th>ID</th>\n",
       "      <th>Gene</th>\n",
       "      <th>Variation</th>\n",
       "      <th>Class</th>\n",
       "      <th>TEXT</th>\n",
       "    </tr>\n",
       "  </thead>\n",
       "  <tbody>\n",
       "    <tr>\n",
       "      <th>1109</th>\n",
       "      <td>1109</td>\n",
       "      <td>FANCA</td>\n",
       "      <td>S1088F</td>\n",
       "      <td>1</td>\n",
       "      <td>FANCA S1088F</td>\n",
       "    </tr>\n",
       "  </tbody>\n",
       "</table>\n",
       "</div>"
      ],
      "text/plain": [
       "        ID   Gene Variation  Class          TEXT\n",
       "1109  1109  FANCA    S1088F      1  FANCA S1088F"
      ]
     },
     "execution_count": 14,
     "metadata": {},
     "output_type": "execute_result"
    }
   ],
   "source": [
    "result[result['ID']==1109]"
   ]
  },
  {
   "cell_type": "code",
   "execution_count": 15,
   "metadata": {},
   "outputs": [],
   "source": [
    "result.Gene=result.Gene.str.replace('\\s+','_')\n",
    "result.Variation=result.Variation.str.replace('\\s+','_')"
   ]
  },
  {
   "cell_type": "markdown",
   "metadata": {},
   "source": [
    "# split data into train, test, cross validation"
   ]
  },
  {
   "cell_type": "code",
   "execution_count": 16,
   "metadata": {},
   "outputs": [],
   "source": [
    "#split into trian and test maintaining the distribution\n",
    "x_train,x_test,y_train,y_test=train_test_split(result,result['Class'].values,test_size=0.2,stratify=result['Class'].values)\n",
    "#plit into trian and cross validation maintaining the distribution\n",
    "train_df,cv_train,y_train,cv_test=train_test_split(x_train,y_train,test_size=0.2,stratify=y_train)"
   ]
  },
  {
   "cell_type": "code",
   "execution_count": 17,
   "metadata": {},
   "outputs": [
    {
     "name": "stdout",
     "output_type": "stream",
     "text": [
      "number of feature in train data:  2124\n",
      "number of feature in test data:  665\n",
      "number of feature in cv data:  532\n"
     ]
    }
   ],
   "source": [
    "print('number of feature in train data: ',train_df.shape[0])\n",
    "print('number of feature in test data: ',x_test.shape[0])\n",
    "print('number of feature in cv data: ',cv_train.shape[0])"
   ]
  },
  {
   "cell_type": "markdown",
   "metadata": {},
   "source": [
    "# distribution of y_i's in train, test and cv  "
   ]
  },
  {
   "cell_type": "code",
   "execution_count": 18,
   "metadata": {},
   "outputs": [
    {
     "data": {
      "image/png": "[encoded data removed]",
      "text/plain": [
       "<Figure size 432x288 with 1 Axes>"
      ]
     },
     "metadata": {
      "needs_background": "light"
     },
     "output_type": "display_data"
    },
    {
     "name": "stdout",
     "output_type": "stream",
     "text": [
      "Number of data points in class 7 : 609 ( 28.672 %)\n",
      "Number of data points in class 4 : 439 ( 20.669 %)\n",
      "Number of data points in class 1 : 363 ( 17.09 %)\n",
      "Number of data points in class 2 : 289 ( 13.606 %)\n",
      "Number of data points in class 6 : 176 ( 8.286 %)\n",
      "Number of data points in class 5 : 155 ( 7.298 %)\n",
      "Number of data points in class 3 : 57 ( 2.684 %)\n",
      "Number of data points in class 9 : 24 ( 1.13 %)\n",
      "Number of data points in class 8 : 12 ( 0.565 %)\n"
     ]
    },
    {
     "data": {
      "image/png": "[encoded data removed]",
      "text/plain": [
       "<Figure size 432x288 with 1 Axes>"
      ]
     },
     "metadata": {
      "needs_background": "light"
     },
     "output_type": "display_data"
    },
    {
     "name": "stdout",
     "output_type": "stream",
     "text": [
      "Number of data points in class 7 : 191 ( 28.722 %)\n",
      "Number of data points in class 4 : 137 ( 20.602 %)\n",
      "Number of data points in class 1 : 114 ( 17.143 %)\n",
      "Number of data points in class 2 : 91 ( 13.684 %)\n",
      "Number of data points in class 6 : 55 ( 8.271 %)\n",
      "Number of data points in class 5 : 48 ( 7.218 %)\n",
      "Number of data points in class 3 : 18 ( 2.707 %)\n",
      "Number of data points in class 9 : 7 ( 1.053 %)\n",
      "Number of data points in class 8 : 4 ( 0.602 %)\n"
     ]
    },
    {
     "data": {
      "image/png": "[encoded data removed]",
      "text/plain": [
       "<Figure size 432x288 with 1 Axes>"
      ]
     },
     "metadata": {
      "needs_background": "light"
     },
     "output_type": "display_data"
    },
    {
     "name": "stdout",
     "output_type": "stream",
     "text": [
      "Number of data points in class 7 : 153 ( 28.759 %)\n",
      "Number of data points in class 4 : 110 ( 20.677 %)\n",
      "Number of data points in class 1 : 91 ( 17.105 %)\n",
      "Number of data points in class 2 : 72 ( 13.534 %)\n",
      "Number of data points in class 6 : 44 ( 8.271 %)\n",
      "Number of data points in class 5 : 39 ( 7.331 %)\n",
      "Number of data points in class 3 : 14 ( 2.632 %)\n",
      "Number of data points in class 9 : 6 ( 1.128 %)\n",
      "Number of data points in class 8 : 3 ( 0.564 %)\n"
     ]
    }
   ],
   "source": [
    "train_class_distribution=train_df['Class'].value_counts().sort_index()\n",
    "test_class_distribution=x_test['Class'].value_counts().sort_index()\n",
    "cv_class_distribution=cv_train['Class'].value_counts().sort_index()\n",
    "\n",
    "my_colors = 'rgbkymc'\n",
    "train_class_distribution.plot(kind='bar')\n",
    "plt.xlabel('Class')\n",
    "plt.ylabel('Data points per Class')\n",
    "plt.title('Distribution of yi in train data')\n",
    "plt.grid()\n",
    "plt.show()\n",
    "\n",
    "\n",
    "# -(train_class_distribution.values): the minus sign will give us in decreasing order\n",
    "sorted_yi = np.argsort(-train_class_distribution.values)\n",
    "for i in sorted_yi:\n",
    "    print('Number of data points in class', i+1, ':',train_class_distribution.values[i], '(', np.round((train_class_distribution.values[i]/train_df.shape[0]*100), 3), '%)')\n",
    "    \n",
    "my_colors = 'rgbkymc'\n",
    "test_class_distribution.plot(kind='bar')\n",
    "plt.xlabel('Class')\n",
    "plt.ylabel('Data points per Class')\n",
    "plt.title('Distribution of yi in test data')\n",
    "plt.grid()\n",
    "plt.show()\n",
    "\n",
    "\n",
    "# -(train_class_distribution.values): the minus sign will give us in decreasing order\n",
    "sorted_yi = np.argsort(-test_class_distribution.values)\n",
    "for i in sorted_yi:\n",
    "    print('Number of data points in class', i+1, ':',test_class_distribution.values[i], '(', np.round((test_class_distribution.values[i]/x_test.shape[0]*100), 3), '%)')  \n",
    "    \n",
    "    \n",
    "my_colors = 'rgbkymc'\n",
    "train_class_distribution.plot(kind='bar')\n",
    "plt.xlabel('Class')\n",
    "plt.ylabel('Data points per Class')\n",
    "plt.title('Distribution of yi in cv data')\n",
    "plt.grid()\n",
    "plt.show()\n",
    "\n",
    "\n",
    "# -(train_class_distribution.values): the minus sign will give us in decreasing order\n",
    "sorted_yi = np.argsort(-cv_class_distribution.values)\n",
    "for i in sorted_yi:\n",
    "    print('Number of data points in class', i+1, ':',cv_class_distribution.values[i], '(', np.round((cv_class_distribution.values[i]/cv_train.shape[0]*100), 3), '%)')    "
   ]
  },
  {
   "cell_type": "markdown",
   "metadata": {},
   "source": [
    "from the plot we can see that there is imbalanced data in train,test and cross validation"
   ]
  },
  {
   "cell_type": "code",
   "execution_count": 19,
   "metadata": {},
   "outputs": [],
   "source": [
    "def plot_confusion_matrix(test_y, predict_y):\n",
    "    C = confusion_matrix(test_y, predict_y)\n",
    "    \n",
    "    A =(((C.T)/(C.sum(axis=1))).T)\n",
    "  \n",
    "    B =(C/C.sum(axis=0))\n",
    "\n",
    "    # representing A in heatmap format\n",
    "    print(\"-\"*20, \"Confusion matrix\", \"-\"*20)\n",
    "    plt.figure(figsize=(20,7))\n",
    "    sns.heatmap(C, annot=True, cmap=\"YlGnBu\", fmt=\".3f\", xticklabels='auto', yticklabels='auto')\n",
    "    plt.xlabel('Predicted Class')\n",
    "    plt.ylabel('Original Class')\n",
    "    plt.show()\n",
    "\n",
    "    print(\"-\"*20, \"Precision matrix (Columm Sum=1)\", \"-\"*20)\n",
    "    plt.figure(figsize=(20,7))\n",
    "    sns.heatmap(B, annot=True, cmap=\"YlGnBu\", fmt=\".3f\", xticklabels='auto', yticklabels='auto')\n",
    "    plt.xlabel('Predicted Class')\n",
    "    plt.ylabel('Original Class')\n",
    "    plt.show()\n",
    "    \n",
    "    # representing B in heatmap format\n",
    "    print(\"-\"*20, \"Recall matrix (Row sum=1)\", \"-\"*20)\n",
    "    plt.figure(figsize=(20,7))\n",
    "    sns.heatmap(A, annot=True, cmap=\"YlGnBu\", fmt=\".3f\", xticklabels='auto', yticklabels='auto')\n",
    "    plt.xlabel('Predicted Class')\n",
    "    plt.ylabel('Original Class')\n",
    "    plt.show()"
   ]
  },
  {
   "cell_type": "code",
   "execution_count": 20,
   "metadata": {},
   "outputs": [
    {
     "name": "stdout",
     "output_type": "stream",
     "text": [
      "Log loss on Cross Validation Data using Random Model 2.527547120006959\n",
      "Log loss on Test Data using Random Model 2.4864879036951013\n",
      "-------------------- Confusion matrix --------------------\n"
     ]
    },
    {
     "data": {
      "image/png": "[encoded data removed]",
      "text/plain": [
       "<Figure size 1440x504 with 2 Axes>"
      ]
     },
     "metadata": {
      "needs_background": "light"
     },
     "output_type": "display_data"
    },
    {
     "name": "stdout",
     "output_type": "stream",
     "text": [
      "-------------------- Precision matrix (Columm Sum=1) --------------------\n"
     ]
    },
    {
     "data": {
      "image/png": "[encoded data removed]",
      "text/plain": [
       "<Figure size 1440x504 with 2 Axes>"
      ]
     },
     "metadata": {
      "needs_background": "light"
     },
     "output_type": "display_data"
    },
    {
     "name": "stdout",
     "output_type": "stream",
     "text": [
      "-------------------- Recall matrix (Row sum=1) --------------------\n"
     ]
    },
    {
     "data": {
      "image/png": "[encoded data removed]",
      "text/plain": [
       "<Figure size 1440x504 with 2 Axes>"
      ]
     },
     "metadata": {
      "needs_background": "light"
     },
     "output_type": "display_data"
    }
   ],
   "source": [
    "test_data_len = x_test.shape[0]\n",
    "cv_data_len = cv_train.shape[0]\n",
    "\n",
    "# we create a output array that has exactly same size as the CV data\n",
    "cv_predicted_y = np.zeros((cv_data_len,9))\n",
    "for i in range(cv_data_len):\n",
    "    rand_probs = np.random.rand(1,9)\n",
    "    cv_predicted_y[i] = ((rand_probs/sum(sum(rand_probs)))[0])\n",
    "print(\"Log loss on Cross Validation Data using Random Model\",log_loss(cv_test,cv_predicted_y, eps=1e-15))\n",
    "\n",
    "\n",
    "# Test-Set error.\n",
    "#we create a output array that has exactly same as the test data\n",
    "test_predicted_y = np.zeros((test_data_len,9))\n",
    "for i in range(test_data_len):\n",
    "    rand_probs = np.random.rand(1,9)\n",
    "    test_predicted_y[i] = ((rand_probs/sum(sum(rand_probs)))[0])\n",
    "print(\"Log loss on Test Data using Random Model\",log_loss(y_test,test_predicted_y, eps=1e-15))\n",
    "\n",
    "predicted_y =np.argmax(test_predicted_y, axis=1)\n",
    "plot_confusion_matrix(y_test, predicted_y+1)"
   ]
  },
  {
   "cell_type": "code",
   "execution_count": 21,
   "metadata": {},
   "outputs": [],
   "source": [
    "# get_gv_fea_dict: Get Gene varaition Feature Dict\n",
    "def get_gv_fea_dict(alpha, feature, df):\n",
    "    \n",
    "    value_count = train_df[feature].value_counts()\n",
    "    \n",
    "    # gv_dict : Gene Variation Dict, which contains the probability array for each gene/variation\n",
    "    gv_dict = dict()\n",
    "    \n",
    "    # denominator will contain the number of time that particular feature occured in whole data\n",
    "    for i, denominator in value_count.items():\n",
    "        \n",
    "        vec = []\n",
    "        for k in range(1,10):\n",
    "           \n",
    "            cls_cnt = train_df.loc[(train_df['Class']==k) & (train_df[feature]==i)]\n",
    "            \n",
    "            # cls_cnt.shape[0](numerator) will contain the number of time that particular feature occured in whole data\n",
    "            vec.append((cls_cnt.shape[0] + alpha*10)/ (denominator + 90*alpha))\n",
    "\n",
    "        # we are adding the gene/variation to the dict as key and vec as value\n",
    "        gv_dict[i]=vec\n",
    "    return gv_dict\n",
    "\n",
    "# Get Gene variation feature\n",
    "def get_gv_feature(alpha, feature, df):\n",
    "   \n",
    "    gv_dict = get_gv_fea_dict(alpha, feature, df)\n",
    "    # value_count is similar in get_gv_fea_dict\n",
    "    value_count = train_df[feature].value_counts()\n",
    "    \n",
    "   \n",
    "    gv_fea = []\n",
    "   \n",
    "    for index, row in df.iterrows():\n",
    "        if row[feature] in dict(value_count).keys():\n",
    "            gv_fea.append(gv_dict[row[feature]])\n",
    "        else:\n",
    "            gv_fea.append([1/9,1/9,1/9,1/9,1/9,1/9,1/9,1/9,1/9])\n",
    "#             gv_fea.append([-1,-1,-1,-1,-1,-1,-1,-1,-1])\n",
    "    return gv_fea"
   ]
  },
  {
   "cell_type": "markdown",
   "metadata": {},
   "source": [
    "# Univariate analysis of gene feature"
   ]
  },
  {
   "cell_type": "code",
   "execution_count": 22,
   "metadata": {},
   "outputs": [
    {
     "name": "stdout",
     "output_type": "stream",
     "text": [
      "number of unique gene: 231\n"
     ]
    },
    {
     "data": {
      "text/plain": [
       "BRCA1    164\n",
       "TP53     106\n",
       "EGFR      86\n",
       "PTEN      74\n",
       "BRCA2     69\n",
       "Name: Gene, dtype: int64"
      ]
     },
     "execution_count": 22,
     "metadata": {},
     "output_type": "execute_result"
    }
   ],
   "source": [
    "unique_genes=train_df['Gene'].value_counts()\n",
    "print('number of unique gene:',unique_genes.shape[0])\n",
    "unique_genes.head()"
   ]
  },
  {
   "cell_type": "code",
   "execution_count": 23,
   "metadata": {},
   "outputs": [
    {
     "data": {
      "image/png": "[encoded data removed]",
      "text/plain": [
       "<Figure size 432x288 with 1 Axes>"
      ]
     },
     "metadata": {
      "needs_background": "light"
     },
     "output_type": "display_data"
    }
   ],
   "source": [
    "s = sum(unique_genes.values);\n",
    "h = unique_genes.values/s;\n",
    "plt.plot(h, label=\"Histrogram of Genes\")\n",
    "plt.xlabel('Index of a Gene')\n",
    "plt.ylabel('Number of Occurances')\n",
    "plt.legend()\n",
    "plt.grid()\n",
    "plt.show()\n"
   ]
  },
  {
   "cell_type": "code",
   "execution_count": 24,
   "metadata": {},
   "outputs": [
    {
     "data": {
      "image/png": "[encoded data removed]",
      "text/plain": [
       "<Figure size 432x288 with 1 Axes>"
      ]
     },
     "metadata": {
      "needs_background": "light"
     },
     "output_type": "display_data"
    }
   ],
   "source": [
    "c=np.cumsum(h)\n",
    "plt.plot(c,label='cumulative distribution of gene')\n",
    "plt.grid()\n",
    "plt.legend()\n",
    "plt.show()"
   ]
  },
  {
   "cell_type": "code",
   "execution_count": 25,
   "metadata": {},
   "outputs": [],
   "source": [
    "#response-coding of the Gene feature\n",
    "# alpha is used for laplace smoothing\n",
    "alpha = 1\n",
    "# train gene feature\n",
    "train_gene_feature_responseCoding = np.array(get_gv_feature(alpha, \"Gene\", train_df))\n",
    "# test gene feature\n",
    "test_gene_feature_responseCoding = np.array(get_gv_feature(alpha, \"Gene\", x_test))\n",
    "# cross validation gene feature\n",
    "cv_gene_feature_responseCoding = np.array(get_gv_feature(alpha, \"Gene\", cv_train))"
   ]
  },
  {
   "cell_type": "code",
   "execution_count": 26,
   "metadata": {},
   "outputs": [],
   "source": [
    "# one-hot encoding of Gene feature.\n",
    "gene_vectorizer = CountVectorizer()\n",
    "train_gene_feature_onehotCoding = gene_vectorizer.fit_transform(train_df['Gene'])\n",
    "test_gene_feature_onehotCoding = gene_vectorizer.transform(x_test['Gene'])\n",
    "cv_gene_feature_onehotCoding = gene_vectorizer.transform(cv_train['Gene'])"
   ]
  },
  {
   "cell_type": "code",
   "execution_count": 27,
   "metadata": {},
   "outputs": [
    {
     "name": "stdout",
     "output_type": "stream",
     "text": [
      "For values of alpha =  1e-05 The log loss is: 1.1924057110569113\n",
      "For values of alpha =  0.0001 The log loss is: 1.1765690856281394\n",
      "For values of alpha =  0.001 The log loss is: 1.229936830362411\n",
      "For values of alpha =  0.01 The log loss is: 1.343558480814123\n",
      "For values of alpha =  0.1 The log loss is: 1.4448560470362168\n",
      "For values of alpha =  1 The log loss is: 1.488396271967678\n"
     ]
    },
    {
     "data": {
      "image/png": "[encoded data removed]",
      "text/plain": [
       "<Figure size 432x288 with 1 Axes>"
      ]
     },
     "metadata": {
      "needs_background": "light"
     },
     "output_type": "display_data"
    },
    {
     "name": "stdout",
     "output_type": "stream",
     "text": [
      "For values of best alpha =  0.0001 The train log loss is: 1.0010431800116248\n",
      "For values of best alpha =  0.0001 The cross validation log loss is: 1.1765690856281394\n",
      "For values of best alpha =  0.0001 The test log loss is: 1.1475175217748734\n"
     ]
    }
   ],
   "source": [
    "alpha = [10 ** x for x in range(-5, 1)] # hyperparam for SGD classifier.\n",
    "\n",
    "\n",
    "cv_log_error_array=[]\n",
    "for i in alpha:\n",
    "    clf = SGDClassifier(alpha=i, penalty='l2', loss='log', random_state=42)\n",
    "    clf.fit(train_gene_feature_onehotCoding, y_train)\n",
    "    sig_clf = CalibratedClassifierCV(clf, method=\"sigmoid\")\n",
    "    sig_clf.fit(train_gene_feature_onehotCoding, y_train)\n",
    "    predict_y = sig_clf.predict_proba(cv_gene_feature_onehotCoding)\n",
    "    cv_log_error_array.append(log_loss(cv_test, predict_y, labels=clf.classes_, eps=1e-15))\n",
    "    print('For values of alpha = ', i, \"The log loss is:\",log_loss(cv_test, predict_y, labels=clf.classes_, eps=1e-15))\n",
    "\n",
    "fig, ax = plt.subplots()\n",
    "ax.plot(alpha, cv_log_error_array,c='g')\n",
    "for i, txt in enumerate(np.round(cv_log_error_array,3)):\n",
    "    ax.annotate((alpha[i],np.round(txt,3)), (alpha[i],cv_log_error_array[i]))\n",
    "plt.grid()\n",
    "plt.title(\"Cross Validation Error for each alpha\")\n",
    "plt.xlabel(\"Alpha i's\")\n",
    "plt.ylabel(\"Error measure\")\n",
    "plt.show()\n",
    "\n",
    "\n",
    "\n",
    "best_alpha = np.argmin(cv_log_error_array)\n",
    "clf = SGDClassifier(alpha=alpha[best_alpha], penalty='l2', loss='log', random_state=42)\n",
    "clf.fit(train_gene_feature_onehotCoding, y_train)\n",
    "sig_clf = CalibratedClassifierCV(clf, method=\"sigmoid\")\n",
    "sig_clf.fit(train_gene_feature_onehotCoding, y_train)\n",
    "\n",
    "predict_y = sig_clf.predict_proba(train_gene_feature_onehotCoding)\n",
    "print('For values of best alpha = ', alpha[best_alpha], \"The train log loss is:\",log_loss(y_train, predict_y, labels=clf.classes_, eps=1e-15))\n",
    "predict_y = sig_clf.predict_proba(cv_gene_feature_onehotCoding)\n",
    "print('For values of best alpha = ', alpha[best_alpha], \"The cross validation log loss is:\",log_loss(cv_test, predict_y, labels=clf.classes_, eps=1e-15))\n",
    "predict_y = sig_clf.predict_proba(test_gene_feature_onehotCoding)\n",
    "print('For values of best alpha = ', alpha[best_alpha], \"The test log loss is:\",log_loss(y_test, predict_y, labels=clf.classes_, eps=1e-15))\n"
   ]
  },
  {
   "cell_type": "code",
   "execution_count": 28,
   "metadata": {},
   "outputs": [
    {
     "name": "stdout",
     "output_type": "stream",
     "text": [
      "Q6. How many data points in Test and CV datasets are covered by the  231  genes in train dataset?\n",
      "Ans\n",
      "1. In test data 641 out of 665 : 96.39097744360903\n",
      "2. In cross validation data 515 out of  532 : 96.80451127819549\n"
     ]
    }
   ],
   "source": [
    "print(\"Q6. How many data points in Test and CV datasets are covered by the \", unique_genes.shape[0], \" genes in train dataset?\")\n",
    "\n",
    "test_coverage=x_test[x_test['Gene'].isin(list(set(train_df['Gene'])))].shape[0]\n",
    "cv_coverage=cv_train[cv_train['Gene'].isin(list(set(train_df['Gene'])))].shape[0]\n",
    "\n",
    "print('Ans\\n1. In test data',test_coverage, 'out of',x_test.shape[0], \":\",(test_coverage/x_test.shape[0])*100)\n",
    "print('2. In cross validation data',cv_coverage, 'out of ',cv_train.shape[0],\":\" ,(cv_coverage/cv_train.shape[0])*100)"
   ]
  },
  {
   "cell_type": "markdown",
   "metadata": {},
   "source": [
    "# univariate analysis of variation feature"
   ]
  },
  {
   "cell_type": "code",
   "execution_count": 29,
   "metadata": {},
   "outputs": [
    {
     "name": "stdout",
     "output_type": "stream",
     "text": [
      "number of unique variation: 1930\n"
     ]
    },
    {
     "data": {
      "text/plain": [
       "Truncating_Mutations    53\n",
       "Deletion                48\n",
       "Amplification           46\n",
       "Fusions                 26\n",
       "Overexpression           4\n",
       "Name: Variation, dtype: int64"
      ]
     },
     "execution_count": 29,
     "metadata": {},
     "output_type": "execute_result"
    }
   ],
   "source": [
    "unique_variation=train_df['Variation'].value_counts()\n",
    "print('number of unique variation:',unique_variation.shape[0])\n",
    "unique_variation.head()"
   ]
  },
  {
   "cell_type": "code",
   "execution_count": 30,
   "metadata": {},
   "outputs": [
    {
     "data": {
      "image/png": "[encoded data removed]",
      "text/plain": [
       "<Figure size 432x288 with 1 Axes>"
      ]
     },
     "metadata": {
      "needs_background": "light"
     },
     "output_type": "display_data"
    }
   ],
   "source": [
    "s=sum(unique_variation.values);\n",
    "h=unique_variation.values/s;\n",
    "plt.plot(h, label=\"Histrogram of Variations\")\n",
    "plt.xlabel('Index of a Variation')\n",
    "plt.ylabel('Number of Occurances')\n",
    "plt.legend()\n",
    "plt.grid()\n",
    "plt.show()"
   ]
  },
  {
   "cell_type": "code",
   "execution_count": 31,
   "metadata": {},
   "outputs": [
    {
     "name": "stdout",
     "output_type": "stream",
     "text": [
      "[0.02495292 0.04755179 0.06920904 ... 0.99905838 0.99952919 1.        ]\n"
     ]
    },
    {
     "data": {
      "image/png": "[encoded data removed]",
      "text/plain": [
       "<Figure size 432x288 with 1 Axes>"
      ]
     },
     "metadata": {
      "needs_background": "light"
     },
     "output_type": "display_data"
    }
   ],
   "source": [
    "c=np.cumsum(h)\n",
    "print(c)\n",
    "plt.plot(c, label=\"cumulative distribution of Variations\")\n",
    "plt.legend()\n",
    "plt.grid()\n",
    "plt.show()"
   ]
  },
  {
   "cell_type": "code",
   "execution_count": 32,
   "metadata": {},
   "outputs": [],
   "source": [
    "#response-coding of the Gene feature\n",
    "# alpha is used for laplace smoothing\n",
    "alpha = 1\n",
    "# train gene feature\n",
    "train_variation_feature_responseCoding = np.array(get_gv_feature(alpha, \"Variation\", train_df))\n",
    "# test gene feature\n",
    "test_variation_feature_responseCoding = np.array(get_gv_feature(alpha, \"Variation\", x_test))\n",
    "# cross validation gene feature\n",
    "cv_variation_feature_responseCoding = np.array(get_gv_feature(alpha, \"Variation\", cv_train))"
   ]
  },
  {
   "cell_type": "code",
   "execution_count": 33,
   "metadata": {},
   "outputs": [],
   "source": [
    "# one-hot encoding of Gene feature.\n",
    "Variation_vectorizer = CountVectorizer()\n",
    "train_Variation_feature_onehotCoding =Variation_vectorizer.fit_transform(train_df['Variation'])\n",
    "test_variation_feature_onehotCoding =Variation_vectorizer.transform(x_test['Variation'])\n",
    "cv_variation_feature_onehotCoding = Variation_vectorizer.transform(cv_train['Variation'])"
   ]
  },
  {
   "cell_type": "code",
   "execution_count": 34,
   "metadata": {},
   "outputs": [
    {
     "name": "stdout",
     "output_type": "stream",
     "text": [
      "For values of alpha =  1e-05 The log loss is: 1.7031473926927079\n",
      "For values of alpha =  0.0001 The log loss is: 1.6972579203066083\n",
      "For values of alpha =  0.001 The log loss is: 1.6974160498667157\n",
      "For values of alpha =  0.01 The log loss is: 1.7063940105534237\n",
      "For values of alpha =  0.1 The log loss is: 1.7169003540159629\n",
      "For values of alpha =  1 The log loss is: 1.716753421126175\n"
     ]
    },
    {
     "data": {
      "image/png": "[encoded data removed]",
      "text/plain": [
       "<Figure size 432x288 with 1 Axes>"
      ]
     },
     "metadata": {
      "needs_background": "light"
     },
     "output_type": "display_data"
    },
    {
     "name": "stdout",
     "output_type": "stream",
     "text": [
      "For values of best alpha =  0.0001 The train log loss is: 0.6227706990067154\n",
      "For values of best alpha =  0.0001 The cross validation log loss is: 1.6972579203066083\n",
      "For values of best alpha =  0.0001 The test log loss is: 1.7387649050156928\n"
     ]
    }
   ],
   "source": [
    "alpha = [10 ** x for x in range(-5, 1)] # hyperparam for SGD classifier.\n",
    "\n",
    "\n",
    "cv_log_error_array=[]\n",
    "for i in alpha:\n",
    "    clf = SGDClassifier(alpha=i, penalty='l2', loss='log', random_state=42)\n",
    "    clf.fit(train_Variation_feature_onehotCoding, y_train)\n",
    "    sig_clf = CalibratedClassifierCV(clf, method=\"sigmoid\")\n",
    "    sig_clf.fit(train_Variation_feature_onehotCoding, y_train)\n",
    "    predict_y = sig_clf.predict_proba(cv_variation_feature_onehotCoding)\n",
    "    cv_log_error_array.append(log_loss(cv_test, predict_y, labels=clf.classes_, eps=1e-15))\n",
    "    print('For values of alpha = ', i, \"The log loss is:\",log_loss(cv_test, predict_y, labels=clf.classes_, eps=1e-15))\n",
    "\n",
    "fig, ax = plt.subplots()\n",
    "ax.plot(alpha, cv_log_error_array,c='g')\n",
    "for i, txt in enumerate(np.round(cv_log_error_array,3)):\n",
    "    ax.annotate((alpha[i],np.round(txt,3)), (alpha[i],cv_log_error_array[i]))\n",
    "plt.grid()\n",
    "plt.title(\"Cross Validation Error for each alpha\")\n",
    "plt.xlabel(\"Alpha i's\")\n",
    "plt.ylabel(\"Error measure\")\n",
    "plt.show()\n",
    "\n",
    "\n",
    "\n",
    "best_alpha = np.argmin(cv_log_error_array)\n",
    "clf = SGDClassifier(alpha=alpha[best_alpha], penalty='l2', loss='log', random_state=42)\n",
    "clf.fit(train_Variation_feature_onehotCoding, y_train)\n",
    "sig_clf = CalibratedClassifierCV(clf, method=\"sigmoid\")\n",
    "sig_clf.fit(train_Variation_feature_onehotCoding, y_train)\n",
    "\n",
    "predict_y = sig_clf.predict_proba(train_Variation_feature_onehotCoding)\n",
    "print('For values of best alpha = ', alpha[best_alpha], \"The train log loss is:\",log_loss(y_train, predict_y, labels=clf.classes_, eps=1e-15))\n",
    "predict_y = sig_clf.predict_proba(cv_variation_feature_onehotCoding)\n",
    "print('For values of best alpha = ', alpha[best_alpha], \"The cross validation log loss is:\",log_loss(cv_test, predict_y, labels=clf.classes_, eps=1e-15))\n",
    "predict_y = sig_clf.predict_proba(test_variation_feature_onehotCoding)\n",
    "print('For values of best alpha = ', alpha[best_alpha], \"The test log loss is:\",log_loss(y_test, predict_y, labels=clf.classes_, eps=1e-15))\n"
   ]
  },
  {
   "cell_type": "code",
   "execution_count": 35,
   "metadata": {},
   "outputs": [
    {
     "name": "stdout",
     "output_type": "stream",
     "text": [
      "Q6. How many data points in Test and CV datasets are covered by the  1930  variation in train dataset?\n",
      "Ans\n",
      "1. In test data 71 out of 665 : 10.676691729323307\n",
      "2. In cross validation data 56 out of  532 : 10.526315789473683\n"
     ]
    }
   ],
   "source": [
    "print(\"Q6. How many data points in Test and CV datasets are covered by the \", unique_variation.shape[0], \" variation in train dataset?\")\n",
    "\n",
    "test_coverage=x_test[x_test['Variation'].isin(list(set(train_df['Variation'])))].shape[0]\n",
    "cv_coverage=cv_train[cv_train['Variation'].isin(list(set(train_df['Variation'])))].shape[0]\n",
    "\n",
    "print('Ans\\n1. In test data',test_coverage, 'out of',x_test.shape[0], \":\",(test_coverage/x_test.shape[0])*100)\n",
    "print('2. In cross validation data',cv_coverage, 'out of ',cv_train.shape[0],\":\" ,(cv_coverage/cv_train.shape[0])*100)"
   ]
  },
  {
   "cell_type": "markdown",
   "metadata": {},
   "source": [
    "# univariate analysis of text"
   ]
  },
  {
   "cell_type": "code",
   "execution_count": 36,
   "metadata": {},
   "outputs": [],
   "source": [
    "def extract_dictionary_paddle(cls_text):\n",
    "    dictionary = defaultdict(int)\n",
    "    for index, row in cls_text.iterrows():\n",
    "        for word in row['TEXT'].split():\n",
    "            dictionary[word] +=1\n",
    "    return dictionary"
   ]
  },
  {
   "cell_type": "code",
   "execution_count": 37,
   "metadata": {},
   "outputs": [],
   "source": [
    "import math\n",
    "def get_text_responsecoding(df):\n",
    "    text_feature_responseCoding = np.zeros((df.shape[0],9))\n",
    "    for i in range(0,9):\n",
    "        row_index = 0\n",
    "        for index, row in df.iterrows():\n",
    "            sum_prob = 0\n",
    "            for word in row['TEXT'].split():\n",
    "                sum_prob += math.log(((dict_list[i].get(word,0)+10 )/(total_dict.get(word,0)+90)))\n",
    "            text_feature_responseCoding[row_index][i] = math.exp(sum_prob/len(row['TEXT'].split()))\n",
    "            row_index += 1\n",
    "    return text_feature_responseCoding"
   ]
  },
  {
   "cell_type": "code",
   "execution_count": 38,
   "metadata": {},
   "outputs": [
    {
     "name": "stdout",
     "output_type": "stream",
     "text": [
      "Total number of unique words in train data : 53731\n"
     ]
    }
   ],
   "source": [
    "# building a CountVectorizer with all the words that occured minimum 3 times in train data\n",
    "text_vectorizer = CountVectorizer(min_df=3)\n",
    "train_text_feature_onehotCoding = text_vectorizer.fit_transform(train_df['TEXT'])\n",
    "# getting all the feature names (words)\n",
    "train_text_features= text_vectorizer.get_feature_names()\n",
    "\n",
    "# train_text_feature_onehotCoding.sum(axis=0).A1 will sum every row and returns (1*number of features) vector\n",
    "train_text_fea_counts = train_text_feature_onehotCoding.sum(axis=0).A1\n",
    "\n",
    "# zip(list(text_features),text_fea_counts) will zip a word with its number of times it occured\n",
    "text_fea_dict = dict(zip(list(train_text_features),train_text_fea_counts))\n",
    "\n",
    "\n",
    "print(\"Total number of unique words in train data :\", len(train_text_features))"
   ]
  },
  {
   "cell_type": "code",
   "execution_count": 39,
   "metadata": {},
   "outputs": [],
   "source": [
    "dict_list = []\n",
    "# dict_list =[] contains 9 dictoinaries each corresponds to a class\n",
    "for i in range(1,10):\n",
    "    cls_text = train_df[train_df['Class']==i]\n",
    "    # build a word dict based on the words in that class\n",
    "    dict_list.append(extract_dictionary_paddle(cls_text))\n",
    "    # append it to dict_list\n",
    "\n",
    "# dict_list[i] is build on i'th  class text data\n",
    "# total_dict is buid on whole training text data\n",
    "total_dict = extract_dictionary_paddle(train_df)\n",
    "\n",
    "\n",
    "confuse_array = []\n",
    "for i in train_text_features:\n",
    "    ratios = []\n",
    "    max_val = -1\n",
    "    for j in range(0,9):\n",
    "        ratios.append((dict_list[j][i]+10 )/(total_dict[i]+90))\n",
    "    confuse_array.append(ratios)\n",
    "confuse_array = np.array(confuse_array)"
   ]
  },
  {
   "cell_type": "code",
   "execution_count": 40,
   "metadata": {},
   "outputs": [],
   "source": [
    "#response coding of text features\n",
    "train_text_feature_responseCoding  = get_text_responsecoding(train_df)\n",
    "test_text_feature_responseCoding  = get_text_responsecoding(x_test)\n",
    "cv_text_feature_responseCoding  = get_text_responsecoding(cv_train)"
   ]
  },
  {
   "cell_type": "code",
   "execution_count": 41,
   "metadata": {},
   "outputs": [],
   "source": [
    "# we convert each row values such that they sum to 1  \n",
    "train_text_feature_responseCoding = (train_text_feature_responseCoding.T/train_text_feature_responseCoding.sum(axis=1)).T\n",
    "test_text_feature_responseCoding = (test_text_feature_responseCoding.T/test_text_feature_responseCoding.sum(axis=1)).T\n",
    "cv_text_feature_responseCoding = (cv_text_feature_responseCoding.T/cv_text_feature_responseCoding.sum(axis=1)).T"
   ]
  },
  {
   "cell_type": "code",
   "execution_count": 42,
   "metadata": {},
   "outputs": [],
   "source": [
    "# don't forget to normalize every feature\n",
    "train_text_feature_onehotCoding = normalize(train_text_feature_onehotCoding, axis=0)\n",
    "\n",
    "# we use the same vectorizer that was trained on train data\n",
    "test_text_feature_onehotCoding = text_vectorizer.transform(x_test['TEXT'])\n",
    "# don't forget to normalize every feature\n",
    "test_text_feature_onehotCoding = normalize(test_text_feature_onehotCoding, axis=0)\n",
    "\n",
    "# we use the same vectorizer that was trained on train data\n",
    "cv_text_feature_onehotCoding = text_vectorizer.transform(cv_train['TEXT'])\n",
    "# don't forget to normalize every feature\n",
    "cv_text_feature_onehotCoding = normalize(cv_text_feature_onehotCoding, axis=0)"
   ]
  },
  {
   "cell_type": "code",
   "execution_count": 43,
   "metadata": {},
   "outputs": [],
   "source": [
    "sorted_text_fea_dict = dict(sorted(text_fea_dict.items(), key=lambda x: x[1] , reverse=True))\n",
    "sorted_text_occur = np.array(list(sorted_text_fea_dict.values()))"
   ]
  },
  {
   "cell_type": "code",
   "execution_count": 44,
   "metadata": {},
   "outputs": [
    {
     "name": "stdout",
     "output_type": "stream",
     "text": [
      "Counter({3: 5207, 4: 3493, 5: 3127, 6: 2807, 8: 2444, 7: 1962, 9: 1515, 11: 1475, 12: 1230, 10: 1214, 13: 1053, 15: 1005, 16: 874, 14: 803, 18: 682, 20: 550, 17: 548, 22: 543, 21: 539, 24: 537, 19: 477, 33: 453, 23: 452, 32: 370, 28: 364, 25: 359, 26: 354, 30: 345, 27: 319, 31: 303, 36: 290, 29: 286, 42: 266, 51: 250, 35: 243, 34: 232, 40: 222, 38: 214, 48: 209, 37: 208, 45: 185, 43: 185, 52: 177, 39: 177, 41: 173, 46: 167, 56: 162, 44: 161, 49: 158, 50: 157, 66: 152, 47: 151, 55: 144, 54: 142, 53: 137, 57: 136, 84: 128, 60: 120, 59: 120, 64: 119, 58: 118, 63: 116, 62: 107, 67: 106, 72: 103, 61: 101, 75: 98, 73: 97, 70: 95, 69: 95, 68: 95, 81: 92, 78: 92, 80: 89, 74: 83, 65: 83, 76: 82, 71: 81, 83: 75, 90: 73, 77: 72, 82: 71, 88: 70, 85: 70, 79: 70, 95: 68, 105: 65, 108: 64, 91: 64, 87: 63, 86: 63, 98: 61, 102: 60, 96: 60, 92: 60, 103: 58, 89: 58, 99: 56, 112: 53, 93: 52, 121: 51, 126: 50, 110: 50, 109: 50, 114: 48, 104: 48, 94: 48, 124: 47, 115: 47, 111: 47, 118: 46, 101: 46, 120: 45, 100: 45, 97: 45, 106: 44, 132: 43, 129: 43, 128: 43, 125: 42, 131: 41, 123: 41, 141: 40, 140: 40, 133: 39, 122: 39, 119: 38, 161: 37, 138: 37, 130: 37, 134: 36, 116: 36, 149: 35, 139: 35, 127: 35, 144: 34, 143: 34, 160: 33, 210: 32, 153: 32, 152: 32, 145: 32, 136: 32, 117: 32, 107: 32, 113: 31, 165: 30, 154: 30, 135: 30, 216: 29, 200: 29, 167: 29, 166: 29, 163: 29, 212: 28, 180: 28, 146: 28, 147: 27, 137: 27, 224: 26, 184: 26, 142: 26, 214: 25, 188: 25, 182: 25, 181: 25, 171: 25, 168: 25, 162: 25, 157: 25, 204: 24, 203: 24, 202: 24, 195: 24, 187: 24, 186: 24, 164: 24, 151: 24, 156: 23, 254: 22, 247: 22, 194: 22, 189: 22, 183: 22, 148: 22, 217: 21, 215: 21, 209: 21, 205: 21, 172: 21, 159: 21, 198: 20, 197: 20, 191: 20, 175: 20, 173: 20, 158: 20, 150: 20, 258: 19, 252: 19, 223: 19, 199: 19, 185: 19, 285: 18, 250: 18, 240: 18, 231: 18, 207: 18, 201: 18, 193: 18, 174: 18, 169: 18, 155: 18, 321: 17, 276: 17, 260: 17, 251: 17, 249: 17, 235: 17, 230: 17, 228: 17, 208: 17, 179: 17, 178: 17, 170: 17, 300: 16, 274: 16, 273: 16, 269: 16, 246: 16, 244: 16, 239: 16, 233: 16, 206: 16, 196: 16, 177: 16, 315: 15, 298: 15, 292: 15, 282: 15, 275: 15, 264: 15, 263: 15, 256: 15, 248: 15, 245: 15, 242: 15, 241: 15, 237: 15, 236: 15, 232: 15, 227: 15, 222: 15, 220: 15, 219: 15, 192: 15, 176: 15, 299: 14, 280: 14, 259: 14, 255: 14, 221: 14, 211: 14, 467: 13, 379: 13, 364: 13, 351: 13, 330: 13, 294: 13, 288: 13, 283: 13, 281: 13, 279: 13, 277: 13, 261: 13, 243: 13, 238: 13, 234: 13, 225: 13, 218: 13, 378: 12, 346: 12, 342: 12, 333: 12, 309: 12, 306: 12, 287: 12, 271: 12, 268: 12, 229: 12, 213: 12, 408: 11, 380: 11, 367: 11, 366: 11, 352: 11, 345: 11, 341: 11, 337: 11, 313: 11, 305: 11, 297: 11, 291: 11, 278: 11, 270: 11, 518: 10, 488: 10, 453: 10, 415: 10, 401: 10, 383: 10, 350: 10, 336: 10, 329: 10, 323: 10, 316: 10, 314: 10, 312: 10, 267: 10, 265: 10, 257: 10, 190: 10, 512: 9, 508: 9, 458: 9, 449: 9, 442: 9, 428: 9, 406: 9, 404: 9, 399: 9, 395: 9, 377: 9, 362: 9, 355: 9, 343: 9, 338: 9, 335: 9, 324: 9, 317: 9, 311: 9, 304: 9, 303: 9, 302: 9, 295: 9, 290: 9, 266: 9, 551: 8, 546: 8, 507: 8, 481: 8, 479: 8, 461: 8, 457: 8, 426: 8, 416: 8, 403: 8, 402: 8, 388: 8, 382: 8, 361: 8, 356: 8, 347: 8, 340: 8, 334: 8, 328: 8, 327: 8, 320: 8, 301: 8, 262: 8, 812: 7, 669: 7, 622: 7, 621: 7, 601: 7, 596: 7, 585: 7, 560: 7, 540: 7, 536: 7, 505: 7, 502: 7, 497: 7, 463: 7, 462: 7, 460: 7, 455: 7, 450: 7, 448: 7, 444: 7, 437: 7, 434: 7, 423: 7, 414: 7, 412: 7, 407: 7, 397: 7, 396: 7, 394: 7, 392: 7, 389: 7, 385: 7, 376: 7, 375: 7, 371: 7, 370: 7, 363: 7, 359: 7, 358: 7, 357: 7, 353: 7, 349: 7, 344: 7, 339: 7, 332: 7, 331: 7, 319: 7, 293: 7, 284: 7, 272: 7, 253: 7, 226: 7, 1167: 6, 879: 6, 868: 6, 858: 6, 840: 6, 803: 6, 786: 6, 762: 6, 708: 6, 697: 6, 674: 6, 666: 6, 650: 6, 645: 6, 643: 6, 638: 6, 624: 6, 614: 6, 603: 6, 559: 6, 547: 6, 543: 6, 537: 6, 534: 6, 532: 6, 514: 6, 504: 6, 495: 6, 494: 6, 483: 6, 466: 6, 459: 6, 440: 6, 436: 6, 425: 6, 421: 6, 393: 6, 390: 6, 373: 6, 372: 6, 365: 6, 354: 6, 322: 6, 310: 6, 308: 6, 307: 6, 296: 6, 1274: 5, 1228: 5, 1039: 5, 1024: 5, 1013: 5, 985: 5, 916: 5, 877: 5, 835: 5, 805: 5, 792: 5, 782: 5, 779: 5, 757: 5, 751: 5, 748: 5, 742: 5, 739: 5, 734: 5, 730: 5, 722: 5, 721: 5, 720: 5, 715: 5, 711: 5, 703: 5, 692: 5, 682: 5, 667: 5, 664: 5, 653: 5, 648: 5, 637: 5, 636: 5, 633: 5, 620: 5, 618: 5, 615: 5, 606: 5, 604: 5, 583: 5, 579: 5, 576: 5, 569: 5, 568: 5, 562: 5, 557: 5, 549: 5, 533: 5, 525: 5, 517: 5, 510: 5, 509: 5, 506: 5, 496: 5, 492: 5, 490: 5, 480: 5, 475: 5, 474: 5, 472: 5, 471: 5, 456: 5, 445: 5, 435: 5, 424: 5, 422: 5, 420: 5, 419: 5, 418: 5, 410: 5, 409: 5, 405: 5, 398: 5, 386: 5, 384: 5, 374: 5, 368: 5, 360: 5, 325: 5, 318: 5, 1994: 4, 1771: 4, 1547: 4, 1498: 4, 1442: 4, 1422: 4, 1343: 4, 1319: 4, 1308: 4, 1233: 4, 1152: 4, 1150: 4, 1137: 4, 1133: 4, 1132: 4, 1125: 4, 1119: 4, 1045: 4, 1037: 4, 1034: 4, 1017: 4, 1012: 4, 974: 4, 971: 4, 970: 4, 961: 4, 954: 4, 951: 4, 946: 4, 938: 4, 931: 4, 918: 4, 911: 4, 909: 4, 899: 4, 894: 4, 863: 4, 861: 4, 856: 4, 854: 4, 852: 4, 841: 4, 826: 4, 823: 4, 819: 4, 809: 4, 799: 4, 776: 4, 760: 4, 756: 4, 745: 4, 743: 4, 740: 4, 724: 4, 705: 4, 694: 4, 689: 4, 675: 4, 665: 4, 662: 4, 655: 4, 654: 4, 649: 4, 644: 4, 634: 4, 631: 4, 628: 4, 626: 4, 625: 4, 623: 4, 611: 4, 610: 4, 595: 4, 594: 4, 589: 4, 586: 4, 584: 4, 580: 4, 575: 4, 574: 4, 571: 4, 566: 4, 565: 4, 558: 4, 556: 4, 555: 4, 554: 4, 550: 4, 548: 4, 545: 4, 531: 4, 530: 4, 527: 4, 524: 4, 523: 4, 521: 4, 520: 4, 519: 4, 515: 4, 513: 4, 503: 4, 500: 4, 487: 4, 484: 4, 478: 4, 477: 4, 473: 4, 470: 4, 468: 4, 465: 4, 452: 4, 447: 4, 446: 4, 441: 4, 439: 4, 438: 4, 431: 4, 417: 4, 411: 4, 400: 4, 391: 4, 387: 4, 369: 4, 348: 4, 326: 4, 4077: 3, 3475: 3, 3188: 3, 2815: 3, 2760: 3, 2744: 3, 2300: 3, 2294: 3, 2273: 3, 2205: 3, 2131: 3, 2125: 3, 2102: 3, 2044: 3, 2040: 3, 1998: 3, 1972: 3, 1961: 3, 1934: 3, 1915: 3, 1885: 3, 1851: 3, 1849: 3, 1835: 3, 1834: 3, 1800: 3, 1780: 3, 1750: 3, 1731: 3, 1705: 3, 1697: 3, 1637: 3, 1612: 3, 1590: 3, 1578: 3, 1571: 3, 1512: 3, 1470: 3, 1438: 3, 1433: 3, 1417: 3, 1415: 3, 1394: 3, 1383: 3, 1374: 3, 1361: 3, 1359: 3, 1328: 3, 1322: 3, 1303: 3, 1280: 3, 1271: 3, 1268: 3, 1267: 3, 1252: 3, 1246: 3, 1230: 3, 1226: 3, 1219: 3, 1213: 3, 1211: 3, 1206: 3, 1174: 3, 1161: 3, 1157: 3, 1151: 3, 1148: 3, 1136: 3, 1085: 3, 1079: 3, 1060: 3, 1055: 3, 1051: 3, 1046: 3, 1027: 3, 1025: 3, 1016: 3, 1003: 3, 996: 3, 994: 3, 980: 3, 959: 3, 958: 3, 952: 3, 950: 3, 939: 3, 928: 3, 927: 3, 917: 3, 915: 3, 913: 3, 910: 3, 907: 3, 905: 3, 891: 3, 888: 3, 886: 3, 884: 3, 882: 3, 881: 3, 873: 3, 865: 3, 862: 3, 859: 3, 853: 3, 847: 3, 843: 3, 838: 3, 831: 3, 829: 3, 828: 3, 824: 3, 822: 3, 816: 3, 808: 3, 806: 3, 804: 3, 798: 3, 794: 3, 791: 3, 790: 3, 788: 3, 784: 3, 774: 3, 772: 3, 765: 3, 754: 3, 741: 3, 737: 3, 735: 3, 723: 3, 718: 3, 716: 3, 712: 3, 710: 3, 707: 3, 706: 3, 695: 3, 680: 3, 678: 3, 673: 3, 668: 3, 660: 3, 659: 3, 651: 3, 647: 3, 642: 3, 639: 3, 617: 3, 613: 3, 612: 3, 607: 3, 602: 3, 600: 3, 592: 3, 591: 3, 581: 3, 577: 3, 573: 3, 572: 3, 570: 3, 567: 3, 553: 3, 542: 3, 541: 3, 538: 3, 535: 3, 516: 3, 501: 3, 499: 3, 498: 3, 491: 3, 486: 3, 485: 3, 476: 3, 464: 3, 454: 3, 443: 3, 432: 3, 429: 3, 413: 3, 12685: 2, 12669: 2, 10135: 2, 7947: 2, 7347: 2, 6903: 2, 6425: 2, 5566: 2, 5380: 2, 4579: 2, 4508: 2, 4305: 2, 4133: 2, 4093: 2, 4087: 2, 4078: 2, 4075: 2, 4045: 2, 3982: 2, 3942: 2, 3925: 2, 3896: 2, 3813: 2, 3760: 2, 3621: 2, 3603: 2, 3557: 2, 3516: 2, 3500: 2, 3492: 2, 3491: 2, 3453: 2, 3404: 2, 3321: 2, 3298: 2, 3233: 2, 3226: 2, 3195: 2, 3182: 2, 3173: 2, 3164: 2, 3161: 2, 3133: 2, 3109: 2, 3106: 2, 3055: 2, 3042: 2, 2998: 2, 2961: 2, 2900: 2, 2874: 2, 2769: 2, 2683: 2, 2679: 2, 2676: 2, 2666: 2, 2661: 2, 2620: 2, 2603: 2, 2587: 2, 2572: 2, 2557: 2, 2549: 2, 2539: 2, 2532: 2, 2521: 2, 2506: 2, 2497: 2, 2494: 2, 2467: 2, 2458: 2, 2455: 2, 2453: 2, 2444: 2, 2441: 2, 2412: 2, 2406: 2, 2385: 2, 2360: 2, 2351: 2, 2342: 2, 2305: 2, 2281: 2, 2275: 2, 2257: 2, 2230: 2, 2229: 2, 2221: 2, 2211: 2, 2184: 2, 2182: 2, 2169: 2, 2168: 2, 2109: 2, 2095: 2, 2093: 2, 2088: 2, 2004: 2, 1993: 2, 1978: 2, 1977: 2, 1962: 2, 1960: 2, 1928: 2, 1906: 2, 1905: 2, 1901: 2, 1896: 2, 1894: 2, 1892: 2, 1891: 2, 1884: 2, 1883: 2, 1877: 2, 1869: 2, 1857: 2, 1852: 2, 1848: 2, 1841: 2, 1833: 2, 1812: 2, 1801: 2, 1799: 2, 1796: 2, 1789: 2, 1788: 2, 1783: 2, 1782: 2, 1778: 2, 1769: 2, 1752: 2, 1748: 2, 1747: 2, 1741: 2, 1711: 2, 1702: 2, 1684: 2, 1672: 2, 1661: 2, 1659: 2, 1656: 2, 1655: 2, 1650: 2, 1649: 2, 1646: 2, 1642: 2, 1631: 2, 1625: 2, 1622: 2, 1619: 2, 1615: 2, 1609: 2, 1604: 2, 1601: 2, 1600: 2, 1593: 2, 1589: 2, 1587: 2, 1582: 2, 1576: 2, 1574: 2, 1573: 2, 1566: 2, 1549: 2, 1548: 2, 1534: 2, 1531: 2, 1523: 2, 1521: 2, 1515: 2, 1510: 2, 1499: 2, 1497: 2, 1494: 2, 1475: 2, 1472: 2, 1462: 2, 1449: 2, 1448: 2, 1432: 2, 1427: 2, 1426: 2, 1425: 2, 1414: 2, 1412: 2, 1409: 2, 1402: 2, 1393: 2, 1389: 2, 1388: 2, 1385: 2, 1379: 2, 1366: 2, 1346: 2, 1336: 2, 1331: 2, 1330: 2, 1327: 2, 1326: 2, 1324: 2, 1323: 2, 1321: 2, 1316: 2, 1311: 2, 1310: 2, 1305: 2, 1304: 2, 1301: 2, 1299: 2, 1295: 2, 1293: 2, 1292: 2, 1291: 2, 1290: 2, 1288: 2, 1287: 2, 1273: 2, 1269: 2, 1265: 2, 1259: 2, 1258: 2, 1251: 2, 1249: 2, 1247: 2, 1242: 2, 1235: 2, 1234: 2, 1229: 2, 1227: 2, 1220: 2, 1214: 2, 1200: 2, 1198: 2, 1196: 2, 1194: 2, 1193: 2, 1189: 2, 1188: 2, 1178: 2, 1175: 2, 1171: 2, 1166: 2, 1165: 2, 1163: 2, 1159: 2, 1153: 2, 1145: 2, 1142: 2, 1141: 2, 1139: 2, 1134: 2, 1131: 2, 1127: 2, 1123: 2, 1120: 2, 1117: 2, 1109: 2, 1107: 2, 1100: 2, 1097: 2, 1096: 2, 1095: 2, 1087: 2, 1086: 2, 1084: 2, 1074: 2, 1069: 2, 1064: 2, 1062: 2, 1059: 2, 1048: 2, 1044: 2, 1042: 2, 1040: 2, 1036: 2, 1035: 2, 1033: 2, 1032: 2, 1028: 2, 1026: 2, 1023: 2, 1021: 2, 1010: 2, 1009: 2, 1005: 2, 1001: 2, 999: 2, 992: 2, 990: 2, 988: 2, 983: 2, 981: 2, 976: 2, 975: 2, 973: 2, 968: 2, 964: 2, 963: 2, 957: 2, 956: 2, 955: 2, 944: 2, 940: 2, 936: 2, 933: 2, 932: 2, 930: 2, 924: 2, 923: 2, 904: 2, 900: 2, 897: 2, 885: 2, 883: 2, 878: 2, 875: 2, 872: 2, 870: 2, 864: 2, 857: 2, 850: 2, 848: 2, 842: 2, 839: 2, 837: 2, 836: 2, 834: 2, 821: 2, 820: 2, 815: 2, 814: 2, 813: 2, 801: 2, 797: 2, 796: 2, 795: 2, 787: 2, 785: 2, 781: 2, 778: 2, 777: 2, 775: 2, 771: 2, 770: 2, 769: 2, 767: 2, 761: 2, 759: 2, 749: 2, 738: 2, 736: 2, 733: 2, 732: 2, 729: 2, 727: 2, 719: 2, 714: 2, 709: 2, 704: 2, 701: 2, 696: 2, 690: 2, 687: 2, 686: 2, 685: 2, 683: 2, 681: 2, 676: 2, 672: 2, 671: 2, 670: 2, 663: 2, 661: 2, 652: 2, 646: 2, 640: 2, 635: 2, 632: 2, 630: 2, 627: 2, 619: 2, 605: 2, 598: 2, 593: 2, 587: 2, 578: 2, 564: 2, 563: 2, 561: 2, 544: 2, 539: 2, 529: 2, 526: 2, 522: 2, 493: 2, 489: 2, 451: 2, 433: 2, 430: 2, 427: 2, 381: 2, 289: 2, 286: 2, 988002: 1, 806348: 1, 608076: 1, 596244: 1, 370451: 1, 252918: 1, 188779: 1, 178817: 1, 168222: 1, 153485: 1, 139703: 1, 138941: 1, 136659: 1, 126535: 1, 119822: 1, 107769: 1, 95906: 1, 91404: 1, 86472: 1, 83014: 1, 82003: 1, 76504: 1, 74377: 1, 73464: 1, 68355: 1, 67586: 1, 67451: 1, 66262: 1, 66106: 1, 64635: 1, 63428: 1, 62900: 1, 59106: 1, 55545: 1, 54375: 1, 52232: 1, 50839: 1, 50432: 1, 49413: 1, 48749: 1, 47296: 1, 45167: 1, 44450: 1, 43425: 1, 43375: 1, 42804: 1, 42093: 1, 41728: 1, 41266: 1, 40877: 1, 39324: 1, 39116: 1, 38233: 1, 37478: 1, 37196: 1, 36182: 1, 35700: 1, 35650: 1, 34877: 1, 34297: 1, 34147: 1, 34122: 1, 33711: 1, 32963: 1, 32352: 1, 31434: 1, 30824: 1, 30559: 1, 29805: 1, 29773: 1, 28537: 1, 28065: 1, 27679: 1, 27607: 1, 27206: 1, 26445: 1, 26317: 1, 26181: 1, 26109: 1, 25919: 1, 25365: 1, 25135: 1, 24770: 1, 24444: 1, 24154: 1, 23961: 1, 23917: 1, 23701: 1, 23665: 1, 23641: 1, 23265: 1, 22991: 1, 22453: 1, 22369: 1, 21911: 1, 21889: 1, 21879: 1, 21761: 1, 21466: 1, 21442: 1, 21398: 1, 21286: 1, 20858: 1, 20746: 1, 20692: 1, 20520: 1, 20399: 1, 20376: 1, 20227: 1, 20189: 1, 19934: 1, 19909: 1, 19876: 1, 19864: 1, 19823: 1, 19683: 1, 19642: 1, 19308: 1, 19108: 1, 19015: 1, 18911: 1, 18759: 1, 18714: 1, 18657: 1, 18552: 1, 18281: 1, 18244: 1, 18223: 1, 17917: 1, 17903: 1, 17851: 1, 17803: 1, 17678: 1, 17656: 1, 17645: 1, 17543: 1, 17508: 1, 17497: 1, 17417: 1, 17375: 1, 17309: 1, 17248: 1, 17199: 1, 17110: 1, 16755: 1, 16471: 1, 16201: 1, 16145: 1, 15934: 1, 15920: 1, 15860: 1, 15764: 1, 15747: 1, 15491: 1, 15478: 1, 15468: 1, 15448: 1, 15442: 1, 15352: 1, 15205: 1, 15082: 1, 14979: 1, 14858: 1, 14671: 1, 14512: 1, 14461: 1, 14424: 1, 14423: 1, 14269: 1, 14224: 1, 13917: 1, 13818: 1, 13721: 1, 13709: 1, 13673: 1, 13602: 1, 13543: 1, 13498: 1, 13493: 1, 13489: 1, 13292: 1, 13193: 1, 13189: 1, 13114: 1, 13055: 1, 12989: 1, 12955: 1, 12948: 1, 12911: 1, 12885: 1, 12853: 1, 12840: 1, 12802: 1, 12764: 1, 12705: 1, 12617: 1, 12603: 1, 12595: 1, 12546: 1, 12505: 1, 12492: 1, 12449: 1, 12390: 1, 12379: 1, 12358: 1, 12317: 1, 12293: 1, 12263: 1, 12233: 1, 12198: 1, 12123: 1, 12103: 1, 12054: 1, 12040: 1, 12028: 1, 12008: 1, 12007: 1, 11987: 1, 11949: 1, 11928: 1, 11891: 1, 11853: 1, 11801: 1, 11787: 1, 11772: 1, 11602: 1, 11601: 1, 11589: 1, 11553: 1, 11485: 1, 11405: 1, 11261: 1, 11220: 1, 11118: 1, 11107: 1, 11097: 1, 11004: 1, 10912: 1, 10910: 1, 10901: 1, 10811: 1, 10782: 1, 10748: 1, 10715: 1, 10633: 1, 10547: 1, 10523: 1, 10498: 1, 10425: 1, 10344: 1, 10325: 1, 10323: 1, 10299: 1, 10076: 1, 10030: 1, 10028: 1, 10019: 1, 9963: 1, 9942: 1, 9933: 1, 9930: 1, 9859: 1, 9852: 1, 9848: 1, 9763: 1, 9747: 1, 9711: 1, 9705: 1, 9592: 1, 9433: 1, 9426: 1, 9422: 1, 9408: 1, 9406: 1, 9398: 1, 9391: 1, 9382: 1, 9381: 1, 9362: 1, 9328: 1, 9321: 1, 9305: 1, 9303: 1, 9286: 1, 9276: 1, 9268: 1, 9246: 1, 9213: 1, 9195: 1, 9107: 1, 9101: 1, 9098: 1, 9074: 1, 9067: 1, 9034: 1, 9002: 1, 8999: 1, 8922: 1, 8917: 1, 8860: 1, 8858: 1, 8791: 1, 8717: 1, 8686: 1, 8609: 1, 8608: 1, 8569: 1, 8527: 1, 8467: 1, 8466: 1, 8456: 1, 8429: 1, 8335: 1, 8320: 1, 8280: 1, 8276: 1, 8254: 1, 8238: 1, 8236: 1, 8226: 1, 8210: 1, 8196: 1, 8178: 1, 8156: 1, 8154: 1, 8128: 1, 8109: 1, 8013: 1, 7976: 1, 7974: 1, 7971: 1, 7966: 1, 7922: 1, 7919: 1, 7915: 1, 7898: 1, 7887: 1, 7830: 1, 7825: 1, 7805: 1, 7773: 1, 7772: 1, 7767: 1, 7762: 1, 7746: 1, 7716: 1, 7714: 1, 7711: 1, 7709: 1, 7706: 1, 7683: 1, 7677: 1, 7650: 1, 7646: 1, 7645: 1, 7572: 1, 7561: 1, 7540: 1, 7533: 1, 7532: 1, 7516: 1, 7462: 1, 7433: 1, 7413: 1, 7393: 1, 7391: 1, 7360: 1, 7346: 1, 7315: 1, 7306: 1, 7299: 1, 7264: 1, 7243: 1, 7225: 1, 7223: 1, 7214: 1, 7172: 1, 7153: 1, 7121: 1, 7103: 1, 7084: 1, 7047: 1, 6995: 1, 6967: 1, 6950: 1, 6936: 1, 6934: 1, 6925: 1, 6913: 1, 6910: 1, 6902: 1, 6901: 1, 6900: 1, 6890: 1, 6885: 1, 6884: 1, 6876: 1, 6864: 1, 6857: 1, 6818: 1, 6763: 1, 6751: 1, 6734: 1, 6715: 1, 6710: 1, 6662: 1, 6659: 1, 6646: 1, 6633: 1, 6626: 1, 6620: 1, 6616: 1, 6609: 1, 6596: 1, 6588: 1, 6567: 1, 6558: 1, 6556: 1, 6546: 1, 6499: 1, 6482: 1, 6459: 1, 6447: 1, 6440: 1, 6439: 1, 6412: 1, 6411: 1, 6401: 1, 6394: 1, 6392: 1, 6389: 1, 6355: 1, 6327: 1, 6311: 1, 6306: 1, 6300: 1, 6279: 1, 6255: 1, 6245: 1, 6233: 1, 6232: 1, 6206: 1, 6192: 1, 6174: 1, 6171: 1, 6161: 1, 6155: 1, 6151: 1, 6132: 1, 6122: 1, 6120: 1, 6098: 1, 6084: 1, 6075: 1, 6070: 1, 6063: 1, 6042: 1, 6025: 1, 6011: 1, 5978: 1, 5972: 1, 5949: 1, 5921: 1, 5906: 1, 5901: 1, 5899: 1, 5882: 1, 5876: 1, 5872: 1, 5853: 1, 5848: 1, 5845: 1, 5831: 1, 5825: 1, 5820: 1, 5815: 1, 5795: 1, 5793: 1, 5786: 1, 5774: 1, 5771: 1, 5761: 1, 5740: 1, 5737: 1, 5736: 1, 5709: 1, 5699: 1, 5690: 1, 5686: 1, 5673: 1, 5655: 1, 5633: 1, 5625: 1, 5624: 1, 5608: 1, 5603: 1, 5601: 1, 5585: 1, 5540: 1, 5515: 1, 5514: 1, 5508: 1, 5504: 1, 5468: 1, 5451: 1, 5441: 1, 5426: 1, 5418: 1, 5407: 1, 5405: 1, 5391: 1, 5383: 1, 5369: 1, 5367: 1, 5362: 1, 5361: 1, 5356: 1, 5350: 1, 5348: 1, 5332: 1, 5320: 1, 5315: 1, 5313: 1, 5280: 1, 5247: 1, 5234: 1, 5231: 1, 5198: 1, 5190: 1, 5181: 1, 5179: 1, 5178: 1, 5164: 1, 5153: 1, 5150: 1, 5126: 1, 5123: 1, 5122: 1, 5111: 1, 5108: 1, 5100: 1, 5092: 1, 5089: 1, 5079: 1, 5078: 1, 5073: 1, 5066: 1, 5055: 1, 5051: 1, 5045: 1, 5029: 1, 5015: 1, 5006: 1, 4998: 1, 4990: 1, 4988: 1, 4968: 1, 4953: 1, 4951: 1, 4941: 1, 4939: 1, 4932: 1, 4928: 1, 4927: 1, 4926: 1, 4917: 1, 4914: 1, 4894: 1, 4889: 1, 4887: 1, 4884: 1, 4881: 1, 4856: 1, 4844: 1, 4841: 1, 4828: 1, 4819: 1, 4807: 1, 4805: 1, 4801: 1, 4800: 1, 4799: 1, 4753: 1, 4734: 1, 4726: 1, 4724: 1, 4713: 1, 4710: 1, 4703: 1, 4685: 1, 4682: 1, 4679: 1, 4678: 1, 4672: 1, 4664: 1, 4650: 1, 4649: 1, 4635: 1, 4612: 1, 4608: 1, 4602: 1, 4587: 1, 4576: 1, 4574: 1, 4572: 1, 4563: 1, 4558: 1, 4555: 1, 4550: 1, 4548: 1, 4547: 1, 4545: 1, 4527: 1, 4518: 1, 4505: 1, 4491: 1, 4481: 1, 4466: 1, 4465: 1, 4453: 1, 4452: 1, 4448: 1, 4443: 1, 4441: 1, 4433: 1, 4430: 1, 4420: 1, 4412: 1, 4396: 1, 4387: 1, 4372: 1, 4363: 1, 4360: 1, 4358: 1, 4352: 1, 4344: 1, 4330: 1, 4327: 1, 4307: 1, 4304: 1, 4299: 1, 4290: 1, 4289: 1, 4266: 1, 4264: 1, 4262: 1, 4257: 1, 4249: 1, 4238: 1, 4221: 1, 4220: 1, 4215: 1, 4208: 1, 4207: 1, 4200: 1, 4190: 1, 4184: 1, 4179: 1, 4164: 1, 4163: 1, 4162: 1, 4160: 1, 4144: 1, 4143: 1, 4130: 1, 4129: 1, 4118: 1, 4117: 1, 4116: 1, 4109: 1, 4108: 1, 4099: 1, 4096: 1, 4089: 1, 4082: 1, 4081: 1, 4076: 1, 4066: 1, 4061: 1, 4057: 1, 4040: 1, 4038: 1, 4033: 1, 4032: 1, 4019: 1, 4000: 1, 3991: 1, 3983: 1, 3975: 1, 3969: 1, 3962: 1, 3944: 1, 3938: 1, 3937: 1, 3922: 1, 3902: 1, 3880: 1, 3879: 1, 3873: 1, 3870: 1, 3861: 1, 3859: 1, 3854: 1, 3846: 1, 3832: 1, 3831: 1, 3830: 1, 3819: 1, 3817: 1, 3808: 1, 3805: 1, 3804: 1, 3794: 1, 3789: 1, 3784: 1, 3767: 1, 3763: 1, 3754: 1, 3751: 1, 3745: 1, 3744: 1, 3740: 1, 3735: 1, 3732: 1, 3726: 1, 3718: 1, 3717: 1, 3709: 1, 3695: 1, 3691: 1, 3686: 1, 3677: 1, 3676: 1, 3670: 1, 3665: 1, 3662: 1, 3661: 1, 3653: 1, 3651: 1, 3646: 1, 3645: 1, 3642: 1, 3630: 1, 3629: 1, 3628: 1, 3624: 1, 3618: 1, 3617: 1, 3616: 1, 3615: 1, 3608: 1, 3602: 1, 3601: 1, 3593: 1, 3590: 1, 3588: 1, 3584: 1, 3555: 1, 3553: 1, 3537: 1, 3522: 1, 3520: 1, 3514: 1, 3508: 1, 3506: 1, 3498: 1, 3497: 1, 3486: 1, 3485: 1, 3484: 1, 3481: 1, 3467: 1, 3466: 1, 3465: 1, 3457: 1, 3455: 1, 3447: 1, 3439: 1, 3435: 1, 3431: 1, 3423: 1, 3420: 1, 3419: 1, 3417: 1, 3414: 1, 3413: 1, 3402: 1, 3400: 1, 3395: 1, 3389: 1, 3381: 1, 3380: 1, 3378: 1, 3377: 1, 3369: 1, 3365: 1, 3362: 1, 3349: 1, 3344: 1, 3343: 1, 3340: 1, 3339: 1, 3333: 1, 3329: 1, 3328: 1, 3326: 1, 3320: 1, 3319: 1, 3316: 1, 3313: 1, 3309: 1, 3301: 1, 3293: 1, 3292: 1, 3291: 1, 3287: 1, 3285: 1, 3284: 1, 3283: 1, 3279: 1, 3271: 1, 3266: 1, 3259: 1, 3253: 1, 3248: 1, 3246: 1, 3242: 1, 3228: 1, 3220: 1, 3207: 1, 3199: 1, 3193: 1, 3185: 1, 3184: 1, 3172: 1, 3171: 1, 3167: 1, 3153: 1, 3150: 1, 3147: 1, 3144: 1, 3141: 1, 3134: 1, 3132: 1, 3121: 1, 3117: 1, 3110: 1, 3108: 1, 3101: 1, 3099: 1, 3095: 1, 3094: 1, 3075: 1, 3071: 1, 3063: 1, 3060: 1, 3056: 1, 3054: 1, 3053: 1, 3049: 1, 3043: 1, 3040: 1, 3037: 1, 3034: 1, 3028: 1, 3026: 1, 3024: 1, 3018: 1, 3012: 1, 3003: 1, 2995: 1, 2994: 1, 2992: 1, 2985: 1, 2983: 1, 2969: 1, 2959: 1, 2956: 1, 2950: 1, 2934: 1, 2924: 1, 2922: 1, 2917: 1, 2910: 1, 2903: 1, 2892: 1, 2877: 1, 2875: 1, 2860: 1, 2853: 1, 2846: 1, 2845: 1, 2840: 1, 2835: 1, 2834: 1, 2832: 1, 2830: 1, 2823: 1, 2813: 1, 2811: 1, 2807: 1, 2796: 1, 2791: 1, 2784: 1, 2779: 1, 2778: 1, 2777: 1, 2774: 1, 2762: 1, 2759: 1, 2755: 1, 2754: 1, 2752: 1, 2742: 1, 2734: 1, 2733: 1, 2731: 1, 2728: 1, 2723: 1, 2722: 1, 2705: 1, 2698: 1, 2696: 1, 2693: 1, 2692: 1, 2691: 1, 2686: 1, 2684: 1, 2680: 1, 2671: 1, 2670: 1, 2664: 1, 2660: 1, 2656: 1, 2652: 1, 2649: 1, 2647: 1, 2641: 1, 2640: 1, 2638: 1, 2629: 1, 2627: 1, 2625: 1, 2624: 1, 2621: 1, 2615: 1, 2610: 1, 2607: 1, 2604: 1, 2600: 1, 2594: 1, 2593: 1, 2582: 1, 2580: 1, 2578: 1, 2576: 1, 2575: 1, 2569: 1, 2561: 1, 2560: 1, 2554: 1, 2552: 1, 2547: 1, 2545: 1, 2543: 1, 2542: 1, 2535: 1, 2533: 1, 2525: 1, 2520: 1, 2509: 1, 2505: 1, 2503: 1, 2500: 1, 2498: 1, 2495: 1, 2493: 1, 2490: 1, 2488: 1, 2480: 1, 2477: 1, 2475: 1, 2474: 1, 2471: 1, 2469: 1, 2468: 1, 2466: 1, 2460: 1, 2456: 1, 2451: 1, 2445: 1, 2438: 1, 2434: 1, 2429: 1, 2428: 1, 2427: 1, 2422: 1, 2421: 1, 2420: 1, 2418: 1, 2411: 1, 2409: 1, 2402: 1, 2400: 1, 2391: 1, 2387: 1, 2383: 1, 2373: 1, 2372: 1, 2371: 1, 2370: 1, 2369: 1, 2367: 1, 2359: 1, 2357: 1, 2355: 1, 2348: 1, 2346: 1, 2345: 1, 2344: 1, 2341: 1, 2339: 1, 2338: 1, 2336: 1, 2334: 1, 2331: 1, 2329: 1, 2326: 1, 2323: 1, 2322: 1, 2320: 1, 2309: 1, 2306: 1, 2303: 1, 2302: 1, 2293: 1, 2290: 1, 2282: 1, 2270: 1, 2263: 1, 2260: 1, 2259: 1, 2256: 1, 2255: 1, 2248: 1, 2243: 1, 2241: 1, 2237: 1, 2236: 1, 2234: 1, 2224: 1, 2220: 1, 2219: 1, 2213: 1, 2210: 1, 2209: 1, 2204: 1, 2203: 1, 2201: 1, 2199: 1, 2197: 1, 2194: 1, 2193: 1, 2192: 1, 2191: 1, 2187: 1, 2186: 1, 2185: 1, 2183: 1, 2180: 1, 2179: 1, 2174: 1, 2166: 1, 2162: 1, 2159: 1, 2158: 1, 2154: 1, 2150: 1, 2146: 1, 2145: 1, 2134: 1, 2129: 1, 2124: 1, 2123: 1, 2118: 1, 2112: 1, 2108: 1, 2107: 1, 2105: 1, 2104: 1, 2103: 1, 2092: 1, 2090: 1, 2083: 1, 2079: 1, 2075: 1, 2074: 1, 2067: 1, 2066: 1, 2065: 1, 2064: 1, 2061: 1, 2057: 1, 2055: 1, 2054: 1, 2053: 1, 2052: 1, 2050: 1, 2048: 1, 2047: 1, 2038: 1, 2034: 1, 2031: 1, 2028: 1, 2026: 1, 2025: 1, 2022: 1, 2019: 1, 2015: 1, 2014: 1, 2011: 1, 2008: 1, 2005: 1, 1997: 1, 1996: 1, 1995: 1, 1991: 1, 1989: 1, 1988: 1, 1986: 1, 1984: 1, 1981: 1, 1974: 1, 1973: 1, 1968: 1, 1966: 1, 1955: 1, 1949: 1, 1946: 1, 1942: 1, 1938: 1, 1935: 1, 1930: 1, 1929: 1, 1927: 1, 1926: 1, 1919: 1, 1918: 1, 1911: 1, 1903: 1, 1900: 1, 1899: 1, 1895: 1, 1893: 1, 1889: 1, 1887: 1, 1886: 1, 1882: 1, 1881: 1, 1874: 1, 1872: 1, 1871: 1, 1870: 1, 1868: 1, 1867: 1, 1865: 1, 1862: 1, 1856: 1, 1845: 1, 1843: 1, 1840: 1, 1837: 1, 1836: 1, 1830: 1, 1829: 1, 1828: 1, 1827: 1, 1823: 1, 1822: 1, 1821: 1, 1819: 1, 1816: 1, 1815: 1, 1813: 1, 1811: 1, 1806: 1, 1795: 1, 1794: 1, 1793: 1, 1792: 1, 1790: 1, 1787: 1, 1786: 1, 1781: 1, 1779: 1, 1777: 1, 1776: 1, 1774: 1, 1765: 1, 1764: 1, 1761: 1, 1758: 1, 1756: 1, 1749: 1, 1739: 1, 1737: 1, 1736: 1, 1735: 1, 1733: 1, 1732: 1, 1727: 1, 1723: 1, 1722: 1, 1720: 1, 1713: 1, 1710: 1, 1709: 1, 1704: 1, 1703: 1, 1700: 1, 1699: 1, 1695: 1, 1694: 1, 1691: 1, 1686: 1, 1685: 1, 1681: 1, 1676: 1, 1675: 1, 1671: 1, 1670: 1, 1669: 1, 1667: 1, 1666: 1, 1665: 1, 1663: 1, 1658: 1, 1653: 1, 1652: 1, 1648: 1, 1645: 1, 1644: 1, 1636: 1, 1635: 1, 1634: 1, 1629: 1, 1626: 1, 1624: 1, 1621: 1, 1618: 1, 1617: 1, 1616: 1, 1611: 1, 1606: 1, 1599: 1, 1597: 1, 1596: 1, 1594: 1, 1588: 1, 1586: 1, 1585: 1, 1584: 1, 1581: 1, 1569: 1, 1565: 1, 1564: 1, 1563: 1, 1562: 1, 1561: 1, 1556: 1, 1555: 1, 1546: 1, 1545: 1, 1544: 1, 1542: 1, 1539: 1, 1538: 1, 1537: 1, 1536: 1, 1535: 1, 1533: 1, 1530: 1, 1529: 1, 1528: 1, 1525: 1, 1520: 1, 1519: 1, 1518: 1, 1516: 1, 1514: 1, 1513: 1, 1505: 1, 1503: 1, 1501: 1, 1500: 1, 1496: 1, 1493: 1, 1492: 1, 1491: 1, 1490: 1, 1489: 1, 1488: 1, 1483: 1, 1482: 1, 1479: 1, 1477: 1, 1474: 1, 1473: 1, 1468: 1, 1467: 1, 1466: 1, 1465: 1, 1464: 1, 1463: 1, 1461: 1, 1459: 1, 1454: 1, 1453: 1, 1451: 1, 1446: 1, 1443: 1, 1437: 1, 1436: 1, 1435: 1, 1434: 1, 1431: 1, 1430: 1, 1428: 1, 1424: 1, 1423: 1, 1421: 1, 1413: 1, 1411: 1, 1410: 1, 1407: 1, 1404: 1, 1403: 1, 1399: 1, 1398: 1, 1397: 1, 1391: 1, 1390: 1, 1387: 1, 1386: 1, 1381: 1, 1375: 1, 1373: 1, 1372: 1, 1371: 1, 1370: 1, 1369: 1, 1364: 1, 1363: 1, 1362: 1, 1360: 1, 1357: 1, 1356: 1, 1344: 1, 1341: 1, 1339: 1, 1338: 1, 1337: 1, 1335: 1, 1334: 1, 1329: 1, 1320: 1, 1318: 1, 1317: 1, 1315: 1, 1314: 1, 1313: 1, 1309: 1, 1306: 1, 1300: 1, 1298: 1, 1297: 1, 1296: 1, 1289: 1, 1285: 1, 1282: 1, 1279: 1, 1277: 1, 1275: 1, 1266: 1, 1264: 1, 1263: 1, 1257: 1, 1256: 1, 1255: 1, 1253: 1, 1250: 1, 1248: 1, 1245: 1, 1244: 1, 1243: 1, 1241: 1, 1240: 1, 1238: 1, 1237: 1, 1236: 1, 1225: 1, 1224: 1, 1221: 1, 1216: 1, 1215: 1, 1212: 1, 1205: 1, 1204: 1, 1199: 1, 1197: 1, 1192: 1, 1191: 1, 1187: 1, 1185: 1, 1182: 1, 1181: 1, 1177: 1, 1176: 1, 1170: 1, 1164: 1, 1162: 1, 1156: 1, 1155: 1, 1154: 1, 1149: 1, 1147: 1, 1146: 1, 1144: 1, 1138: 1, 1135: 1, 1130: 1, 1129: 1, 1122: 1, 1118: 1, 1116: 1, 1114: 1, 1113: 1, 1111: 1, 1110: 1, 1106: 1, 1105: 1, 1103: 1, 1102: 1, 1099: 1, 1098: 1, 1093: 1, 1092: 1, 1091: 1, 1088: 1, 1082: 1, 1080: 1, 1078: 1, 1075: 1, 1073: 1, 1071: 1, 1068: 1, 1066: 1, 1065: 1, 1061: 1, 1057: 1, 1056: 1, 1054: 1, 1052: 1, 1049: 1, 1030: 1, 1029: 1, 1015: 1, 1011: 1, 1008: 1, 1007: 1, 1006: 1, 1004: 1, 998: 1, 995: 1, 991: 1, 989: 1, 987: 1, 979: 1, 972: 1, 969: 1, 967: 1, 966: 1, 960: 1, 953: 1, 949: 1, 947: 1, 943: 1, 941: 1, 937: 1, 935: 1, 934: 1, 926: 1, 925: 1, 922: 1, 921: 1, 920: 1, 912: 1, 908: 1, 903: 1, 902: 1, 901: 1, 892: 1, 890: 1, 889: 1, 887: 1, 880: 1, 874: 1, 871: 1, 869: 1, 867: 1, 866: 1, 860: 1, 855: 1, 851: 1, 845: 1, 844: 1, 832: 1, 830: 1, 825: 1, 817: 1, 811: 1, 810: 1, 800: 1, 793: 1, 783: 1, 780: 1, 773: 1, 768: 1, 766: 1, 764: 1, 763: 1, 753: 1, 752: 1, 750: 1, 746: 1, 731: 1, 728: 1, 726: 1, 725: 1, 717: 1, 702: 1, 693: 1, 691: 1, 688: 1, 684: 1, 677: 1, 658: 1, 657: 1, 656: 1, 641: 1, 629: 1, 616: 1, 609: 1, 608: 1, 599: 1, 597: 1, 590: 1, 588: 1, 582: 1, 552: 1, 528: 1, 511: 1, 482: 1})\n"
     ]
    }
   ],
   "source": [
    "print(Counter(sorted_text_occur))"
   ]
  },
  {
   "cell_type": "code",
   "execution_count": 45,
   "metadata": {},
   "outputs": [
    {
     "name": "stdout",
     "output_type": "stream",
     "text": [
      "For values of alpha =  1e-05 The log loss is: 1.309760002353238\n",
      "For values of alpha =  0.0001 The log loss is: 1.1881654277441511\n",
      "For values of alpha =  0.001 The log loss is: 1.2083733690883565\n",
      "For values of alpha =  0.01 The log loss is: 1.304828728283921\n",
      "For values of alpha =  0.1 The log loss is: 1.5085578409109794\n",
      "For values of alpha =  1 The log loss is: 1.6671339474262443\n"
     ]
    },
    {
     "data": {
      "image/png": "[encoded data removed]",
      "text/plain": [
       "<Figure size 432x288 with 1 Axes>"
      ]
     },
     "metadata": {
      "needs_background": "light"
     },
     "output_type": "display_data"
    },
    {
     "name": "stdout",
     "output_type": "stream",
     "text": [
      "For values of best alpha =  0.0001 The train log loss is: 0.6402864096116012\n",
      "For values of best alpha =  0.0001 The cross validation log loss is: 1.1881654277441511\n",
      "For values of best alpha =  0.0001 The test log loss is: 1.1467414801048021\n"
     ]
    }
   ],
   "source": [
    "# Train a Logistic regression+Calibration model using text features whicha re on-hot encoded\n",
    "alpha = [10 ** x for x in range(-5, 1)]\n",
    "\n",
    "cv_log_error_array=[]\n",
    "for i in alpha:\n",
    "    clf = SGDClassifier(alpha=i, penalty='l2', loss='log', random_state=42)\n",
    "    clf.fit(train_text_feature_onehotCoding, y_train)\n",
    "    \n",
    "    sig_clf = CalibratedClassifierCV(clf, method=\"sigmoid\")\n",
    "    sig_clf.fit(train_text_feature_onehotCoding, y_train)\n",
    "    predict_y = sig_clf.predict_proba(cv_text_feature_onehotCoding)\n",
    "    cv_log_error_array.append(log_loss(cv_test, predict_y, labels=clf.classes_, eps=1e-15))\n",
    "    print('For values of alpha = ', i, \"The log loss is:\",log_loss(cv_test, predict_y, labels=clf.classes_, eps=1e-15))\n",
    "\n",
    "fig, ax = plt.subplots()\n",
    "ax.plot(alpha, cv_log_error_array,c='g')\n",
    "for i, txt in enumerate(np.round(cv_log_error_array,3)):\n",
    "    ax.annotate((alpha[i],np.round(txt,3)), (alpha[i],cv_log_error_array[i]))\n",
    "plt.grid()\n",
    "plt.title(\"Cross Validation Error for each alpha\")\n",
    "plt.xlabel(\"Alpha i's\")\n",
    "plt.ylabel(\"Error measure\")\n",
    "plt.show()\n",
    "\n",
    "\n",
    "best_alpha = np.argmin(cv_log_error_array)\n",
    "clf = SGDClassifier(alpha=alpha[best_alpha], penalty='l2', loss='log', random_state=42)\n",
    "clf.fit(train_text_feature_onehotCoding, y_train)\n",
    "sig_clf = CalibratedClassifierCV(clf, method=\"sigmoid\")\n",
    "sig_clf.fit(train_text_feature_onehotCoding, y_train)\n",
    "\n",
    "predict_y = sig_clf.predict_proba(train_text_feature_onehotCoding)\n",
    "print('For values of best alpha = ', alpha[best_alpha], \"The train log loss is:\",log_loss(y_train, predict_y, labels=clf.classes_, eps=1e-15))\n",
    "predict_y = sig_clf.predict_proba(cv_text_feature_onehotCoding)\n",
    "print('For values of best alpha = ', alpha[best_alpha], \"The cross validation log loss is:\",log_loss(cv_test, predict_y, labels=clf.classes_, eps=1e-15))\n",
    "predict_y = sig_clf.predict_proba(test_text_feature_onehotCoding)\n",
    "print('For values of best alpha = ', alpha[best_alpha], \"The test log loss is:\",log_loss(y_test, predict_y, labels=clf.classes_, eps=1e-15))\n"
   ]
  },
  {
   "cell_type": "code",
   "execution_count": 46,
   "metadata": {},
   "outputs": [],
   "source": [
    "def get_intersec_text(df):\n",
    "    df_text_vec = CountVectorizer(min_df=3)\n",
    "    df_text_fea = df_text_vec.fit_transform(df['TEXT'])\n",
    "    df_text_features = df_text_vec.get_feature_names()\n",
    "\n",
    "    df_text_fea_counts = df_text_fea.sum(axis=0).A1\n",
    "    df_text_fea_dict = dict(zip(list(df_text_features),df_text_fea_counts))\n",
    "    len1 = len(set(df_text_features))\n",
    "    len2 = len(set(train_text_features) & set(df_text_features))\n",
    "    return len1,len2"
   ]
  },
  {
   "cell_type": "code",
   "execution_count": 47,
   "metadata": {},
   "outputs": [
    {
     "name": "stdout",
     "output_type": "stream",
     "text": [
      "96.043 % of word of test data appeared in train data\n",
      "98.659 % of word of Cross Validation appeared in train data\n"
     ]
    }
   ],
   "source": [
    "len1,len2 = get_intersec_text(x_test)\n",
    "print(np.round((len2/len1)*100, 3), \"% of word of test data appeared in train data\")\n",
    "len1,len2 = get_intersec_text(cv_train)\n",
    "print(np.round((len2/len1)*100, 3), \"% of word of Cross Validation appeared in train data\")"
   ]
  },
  {
   "cell_type": "markdown",
   "metadata": {},
   "source": [
    "# Machine Learning Model"
   ]
  },
  {
   "cell_type": "code",
   "execution_count": 48,
   "metadata": {},
   "outputs": [],
   "source": [
    "#Data preparation for ML models.\n",
    "\n",
    "#Misc. functionns for ML models\n",
    "\n",
    "\n",
    "def predict_and_plot_confusion_matrix(train_x, train_y,test_x, test_y, clf):\n",
    "    clf.fit(train_x, train_y)\n",
    "    sig_clf = CalibratedClassifierCV(clf, method=\"sigmoid\")\n",
    "    sig_clf.fit(train_x, train_y)\n",
    "    pred_y = sig_clf.predict(test_x)\n",
    "\n",
    "    # for calculating log_loss we willl provide the array of probabilities belongs to each class\n",
    "    print(\"Log loss :\",log_loss(test_y, sig_clf.predict_proba(test_x)))\n",
    "    # calculating the number of data points that are misclassified\n",
    "    print(\"Number of mis-classified points :\", np.count_nonzero((pred_y- test_y))/test_y.shape[0])\n",
    "    plot_confusion_matrix(test_y, pred_y)"
   ]
  },
  {
   "cell_type": "code",
   "execution_count": 49,
   "metadata": {},
   "outputs": [],
   "source": [
    "def report_log_loss(train_x, train_y, test_x, test_y,  clf):\n",
    "    clf.fit(train_x, train_y)\n",
    "    sig_clf = CalibratedClassifierCV(clf, method=\"sigmoid\")\n",
    "    sig_clf.fit(train_x, train_y)\n",
    "    sig_clf_probs = sig_clf.predict_proba(test_x)\n",
    "    return log_loss(test_y, sig_clf_probs, eps=1e-15)"
   ]
  },
  {
   "cell_type": "code",
   "execution_count": 50,
   "metadata": {},
   "outputs": [],
   "source": [
    "# this function will be used just for naive bayes\n",
    "# for the given indices, we will print the name of the features\n",
    "# and we will check whether the feature present in the test point text or not\n",
    "def get_impfeature_names(indices, text, gene, var, no_features):\n",
    "    gene_count_vec = CountVectorizer()\n",
    "    var_count_vec = CountVectorizer()\n",
    "    text_count_vec = CountVectorizer(min_df=3)\n",
    "    \n",
    "    gene_vec = gene_count_vec.fit(train_df['Gene'])\n",
    "    var_vec  = var_count_vec.fit(train_df['Variation'])\n",
    "    text_vec = text_count_vec.fit(train_df['TEXT'])\n",
    "    \n",
    "    fea1_len = len(gene_vec.get_feature_names())\n",
    "    fea2_len = len(var_count_vec.get_feature_names())\n",
    "    \n",
    "    word_present = 0\n",
    "    for i,v in enumerate(indices):\n",
    "        if (v < fea1_len):\n",
    "            word = gene_vec.get_feature_names()[v]\n",
    "            yes_no = True if word == gene else False\n",
    "            if yes_no:\n",
    "                word_present += 1\n",
    "                print(i, \"Gene feature [{}] present in test data point [{}]\".format(word,yes_no))\n",
    "        elif (v < fea1_len+fea2_len):\n",
    "            word = var_vec.get_feature_names()[v-(fea1_len)]\n",
    "            yes_no = True if word == var else False\n",
    "            if yes_no:\n",
    "                word_present += 1\n",
    "                print(i, \"variation feature [{}] present in test data point [{}]\".format(word,yes_no))\n",
    "        else:\n",
    "            word = text_vec.get_feature_names()[v-(fea1_len+fea2_len)]\n",
    "            yes_no = True if word in text.split() else False\n",
    "            if yes_no:\n",
    "                word_present += 1\n",
    "                print(i, \"Text feature [{}] present in test data point [{}]\".format(word,yes_no))\n",
    "\n",
    "    print(\"Out of the top \",no_features,\" features \", word_present, \"are present in query point\")"
   ]
  },
  {
   "cell_type": "markdown",
   "metadata": {},
   "source": [
    "# stacking the three type of features"
   ]
  },
  {
   "cell_type": "code",
   "execution_count": 51,
   "metadata": {},
   "outputs": [],
   "source": [
    "train_gene_var_onehotCoding = hstack((train_gene_feature_onehotCoding,train_Variation_feature_onehotCoding))\n",
    "test_gene_var_onehotCoding = hstack((test_gene_feature_onehotCoding,test_variation_feature_onehotCoding))\n",
    "cv_gene_var_onehotCoding = hstack((cv_gene_feature_onehotCoding,cv_variation_feature_onehotCoding))\n",
    "\n",
    "train_x_onehotCoding = hstack((train_gene_var_onehotCoding, train_text_feature_onehotCoding)).tocsr()\n",
    "train_y = np.array(list(train_df['Class']))\n",
    "\n",
    "test_x_onehotCoding = hstack((test_gene_var_onehotCoding, test_text_feature_onehotCoding)).tocsr()\n",
    "test_y = np.array(list(x_test['Class']))\n",
    "\n",
    "cv_x_onehotCoding = hstack((cv_gene_var_onehotCoding, cv_text_feature_onehotCoding)).tocsr()\n",
    "cv_y = np.array(list(cv_train['Class']))"
   ]
  },
  {
   "cell_type": "code",
   "execution_count": 52,
   "metadata": {},
   "outputs": [
    {
     "name": "stdout",
     "output_type": "stream",
     "text": [
      "One hot encoding features :\n",
      "(number of data points * number of features) in train data =  (2124, 55916)\n",
      "(number of data points * number of features) in test data =  (665, 55916)\n",
      "(number of data points * number of features) in cross validation data = (532, 55916)\n"
     ]
    }
   ],
   "source": [
    "print(\"One hot encoding features :\")\n",
    "print(\"(number of data points * number of features) in train data = \", train_x_onehotCoding.shape)\n",
    "print(\"(number of data points * number of features) in test data = \", test_x_onehotCoding.shape)\n",
    "print(\"(number of data points * number of features) in cross validation data =\", cv_x_onehotCoding.shape)"
   ]
  },
  {
   "cell_type": "code",
   "execution_count": 53,
   "metadata": {},
   "outputs": [],
   "source": [
    "\n",
    "train_gene_var_responseCoding = np.hstack((train_gene_feature_responseCoding,train_variation_feature_responseCoding))\n",
    "test_gene_var_responseCoding = np.hstack((test_gene_feature_responseCoding,test_variation_feature_responseCoding))\n",
    "cv_gene_var_responseCoding = np.hstack((cv_gene_feature_responseCoding,cv_variation_feature_responseCoding))\n",
    "\n",
    "train_x_responseCoding = np.hstack((train_gene_var_responseCoding, train_text_feature_responseCoding))\n",
    "test_x_responseCoding = np.hstack((test_gene_var_responseCoding, test_text_feature_responseCoding))\n",
    "cv_x_responseCoding = np.hstack((cv_gene_var_responseCoding, cv_text_feature_responseCoding))\n"
   ]
  },
  {
   "cell_type": "code",
   "execution_count": 54,
   "metadata": {},
   "outputs": [
    {
     "name": "stdout",
     "output_type": "stream",
     "text": [
      " Response encoding features :\n",
      "(number of data points * number of features) in train data =  (2124, 27)\n",
      "(number of data points * number of features) in test data =  (665, 27)\n",
      "(number of data points * number of features) in cross validation data = (532, 27)\n"
     ]
    }
   ],
   "source": [
    "print(\" Response encoding features :\")\n",
    "print(\"(number of data points * number of features) in train data = \", train_x_responseCoding.shape)\n",
    "print(\"(number of data points * number of features) in test data = \", test_x_responseCoding.shape)\n",
    "print(\"(number of data points * number of features) in cross validation data =\", cv_x_responseCoding.shape)"
   ]
  },
  {
   "cell_type": "markdown",
   "metadata": {},
   "source": [
    "# Base line model"
   ]
  },
  {
   "cell_type": "markdown",
   "metadata": {},
   "source": [
    "# 1) Naive Bayes"
   ]
  },
  {
   "cell_type": "code",
   "execution_count": 55,
   "metadata": {},
   "outputs": [
    {
     "name": "stdout",
     "output_type": "stream",
     "text": [
      "for alpha = 1e-05\n",
      "Log Loss : 1.3006990298435575\n",
      "for alpha = 0.0001\n",
      "Log Loss : 1.2963405750056496\n",
      "for alpha = 0.001\n",
      "Log Loss : 1.289909170111246\n",
      "for alpha = 0.1\n",
      "Log Loss : 1.2904209483968596\n",
      "for alpha = 1\n",
      "Log Loss : 1.317218154291694\n",
      "for alpha = 10\n",
      "Log Loss : 1.4327190457619765\n",
      "for alpha = 100\n",
      "Log Loss : 1.414678069246811\n",
      "for alpha = 1000\n",
      "Log Loss : 1.355267200159391\n"
     ]
    },
    {
     "data": {
      "image/png": "[encoded data removed]",
      "text/plain": [
       "<Figure size 432x288 with 1 Axes>"
      ]
     },
     "metadata": {
      "needs_background": "light"
     },
     "output_type": "display_data"
    },
    {
     "name": "stdout",
     "output_type": "stream",
     "text": [
      "For values of best alpha =  0.001 The train log loss is: 0.8456107195220322\n",
      "For values of best alpha =  0.001 The cross validation log loss is: 1.289909170111246\n",
      "For values of best alpha =  0.001 The test log loss is: 1.2646681665769732\n"
     ]
    }
   ],
   "source": [
    "# hyperparameter tuning\n",
    "alpha = [0.00001, 0.0001, 0.001, 0.1, 1, 10, 100,1000]\n",
    "cv_log_error_array = []\n",
    "for i in alpha:\n",
    "    print(\"for alpha =\", i)\n",
    "    clf = MultinomialNB(alpha=i)\n",
    "    clf.fit(train_x_onehotCoding, train_y)\n",
    "    sig_clf = CalibratedClassifierCV(clf, method=\"sigmoid\")\n",
    "    sig_clf.fit(train_x_onehotCoding, train_y)\n",
    "    sig_clf_probs = sig_clf.predict_proba(cv_x_onehotCoding)\n",
    "    cv_log_error_array.append(log_loss(cv_y, sig_clf_probs, labels=clf.classes_, eps=1e-15))\n",
    "    # to avoid rounding error while multiplying probabilites we use log-probability estimates\n",
    "    print(\"Log Loss :\",log_loss(cv_y, sig_clf_probs)) \n",
    "\n",
    "fig, ax = plt.subplots()\n",
    "ax.plot(np.log10(alpha), cv_log_error_array,c='g')\n",
    "for i, txt in enumerate(np.round(cv_log_error_array,3)):\n",
    "    ax.annotate((alpha[i],str(txt)), (np.log10(alpha[i]),cv_log_error_array[i]))\n",
    "plt.grid()\n",
    "plt.xticks(np.log10(alpha))\n",
    "plt.title(\"Cross Validation Error for each alpha\")\n",
    "plt.xlabel(\"Alpha i's\")\n",
    "plt.ylabel(\"Error measure\")\n",
    "plt.show()\n",
    "\n",
    "\n",
    "best_alpha = np.argmin(cv_log_error_array)\n",
    "clf = MultinomialNB(alpha=alpha[best_alpha])\n",
    "clf.fit(train_x_onehotCoding, train_y)\n",
    "sig_clf = CalibratedClassifierCV(clf, method=\"sigmoid\")\n",
    "sig_clf.fit(train_x_onehotCoding, train_y)\n",
    "\n",
    "\n",
    "predict_y = sig_clf.predict_proba(train_x_onehotCoding)\n",
    "print('For values of best alpha = ', alpha[best_alpha], \"The train log loss is:\",log_loss(y_train, predict_y, labels=clf.classes_, eps=1e-15))\n",
    "predict_y = sig_clf.predict_proba(cv_x_onehotCoding)\n",
    "print('For values of best alpha = ', alpha[best_alpha], \"The cross validation log loss is:\",log_loss(cv_test, predict_y, labels=clf.classes_, eps=1e-15))\n",
    "predict_y = sig_clf.predict_proba(test_x_onehotCoding)\n",
    "print('For values of best alpha = ', alpha[best_alpha], \"The test log loss is:\",log_loss(y_test, predict_y, labels=clf.classes_, eps=1e-15))\n"
   ]
  },
  {
   "cell_type": "code",
   "execution_count": 56,
   "metadata": {},
   "outputs": [
    {
     "name": "stdout",
     "output_type": "stream",
     "text": [
      "Predicted Class : 2\n",
      "Predicted Class Probabilities: [[0.0946 0.4431 0.0112 0.1283 0.0406 0.0408 0.2296 0.006  0.0058]]\n",
      "Actual Class : 5\n",
      "--------------------------------------------------\n",
      "16 Text feature [identified] present in test data point [True]\n",
      "17 Text feature [harbored] present in test data point [True]\n",
      "18 Text feature [novel] present in test data point [True]\n",
      "19 Text feature [molecular] present in test data point [True]\n",
      "24 Text feature [clinical] present in test data point [True]\n",
      "25 Text feature [sequencing] present in test data point [True]\n",
      "26 Text feature [all] present in test data point [True]\n",
      "27 Text feature [including] present in test data point [True]\n",
      "28 Text feature [or] present in test data point [True]\n",
      "29 Text feature [in] present in test data point [True]\n",
      "30 Text feature [using] present in test data point [True]\n",
      "31 Text feature [and] present in test data point [True]\n",
      "32 Text feature [other] present in test data point [True]\n",
      "33 Text feature [identification] present in test data point [True]\n",
      "35 Text feature [identify] present in test data point [True]\n",
      "36 Text feature [patient] present in test data point [True]\n",
      "37 Text feature [have] present in test data point [True]\n",
      "38 Text feature [present] present in test data point [True]\n",
      "39 Text feature [confirmed] present in test data point [True]\n",
      "40 Text feature [revealed] present in test data point [True]\n",
      "41 Text feature [an] present in test data point [True]\n",
      "42 Text feature [more] present in test data point [True]\n",
      "43 Text feature [well] present in test data point [True]\n",
      "44 Text feature [gene] present in test data point [True]\n",
      "45 Text feature [may] present in test data point [True]\n",
      "46 Text feature [most] present in test data point [True]\n",
      "47 Text feature [was] present in test data point [True]\n",
      "48 Text feature [different] present in test data point [True]\n",
      "50 Text feature [to] present in test data point [True]\n",
      "51 Text feature [of] present in test data point [True]\n",
      "52 Text feature [number] present in test data point [True]\n",
      "53 Text feature [recently] present in test data point [True]\n",
      "54 Text feature [with] present in test data point [True]\n",
      "55 Text feature [as] present in test data point [True]\n",
      "56 Text feature [tumor] present in test data point [True]\n",
      "57 Text feature [samples] present in test data point [True]\n",
      "58 Text feature [such] present in test data point [True]\n",
      "59 Text feature [were] present in test data point [True]\n",
      "60 Text feature [we] present in test data point [True]\n",
      "61 Text feature [new] present in test data point [True]\n",
      "62 Text feature [for] present in test data point [True]\n",
      "63 Text feature [mutational] present in test data point [True]\n",
      "64 Text feature [from] present in test data point [True]\n",
      "65 Text feature [than] present in test data point [True]\n",
      "67 Text feature [found] present in test data point [True]\n",
      "68 Text feature [which] present in test data point [True]\n",
      "69 Text feature [findings] present in test data point [True]\n",
      "70 Text feature [performed] present in test data point [True]\n",
      "71 Text feature [mutations] present in test data point [True]\n",
      "73 Text feature [both] present in test data point [True]\n",
      "74 Text feature [potential] present in test data point [True]\n",
      "75 Text feature [12] present in test data point [True]\n",
      "76 Text feature [one] present in test data point [True]\n",
      "77 Text feature [also] present in test data point [True]\n",
      "78 Text feature [33] present in test data point [True]\n",
      "79 Text feature [detection] present in test data point [True]\n",
      "80 Text feature [our] present in test data point [True]\n",
      "81 Text feature [this] present in test data point [True]\n",
      "82 Text feature [characterized] present in test data point [True]\n",
      "83 Text feature [previously] present in test data point [True]\n",
      "84 Text feature [are] present in test data point [True]\n",
      "85 Text feature [kinase] present in test data point [True]\n",
      "86 Text feature [therapeutic] present in test data point [True]\n",
      "87 Text feature [distinct] present in test data point [True]\n",
      "88 Text feature [common] present in test data point [True]\n",
      "90 Text feature [same] present in test data point [True]\n",
      "91 Text feature [genomic] present in test data point [True]\n",
      "92 Text feature [been] present in test data point [True]\n",
      "93 Text feature [therapy] present in test data point [True]\n",
      "95 Text feature [these] present in test data point [True]\n",
      "96 Text feature [activating] present in test data point [True]\n",
      "97 Text feature [analysis] present in test data point [True]\n",
      "98 Text feature [10] present in test data point [True]\n",
      "99 Text feature [by] present in test data point [True]\n",
      "Out of the top  100  features  74 are present in query point\n"
     ]
    }
   ],
   "source": [
    "#Feature Importance, Correctly classified point\n",
    "test_point_index = 1\n",
    "no_feature = 100\n",
    "predicted_cls = sig_clf.predict(test_x_onehotCoding[test_point_index])\n",
    "print(\"Predicted Class :\", predicted_cls[0])\n",
    "print(\"Predicted Class Probabilities:\", np.round(sig_clf.predict_proba(test_x_onehotCoding[test_point_index]),4))\n",
    "print(\"Actual Class :\", test_y[test_point_index])\n",
    "indices=np.argsort(-1*clf.coef_)[predicted_cls-1][:,:no_feature]\n",
    "print(\"-\"*50)\n",
    "get_impfeature_names(indices[0], x_test['TEXT'].iloc[test_point_index],x_test['Gene'].iloc[test_point_index],x_test['Variation'].iloc[test_point_index], no_feature)"
   ]
  },
  {
   "cell_type": "code",
   "execution_count": 57,
   "metadata": {},
   "outputs": [
    {
     "data": {
      "text/plain": [
       "'We assessed somatic alleles of six receptor tyrosine kinase genes mutated in lung adenocarcinoma for oncogenic activity. Five of these genes failed to score in transformation assays; however, novel recurring extracellular domain mutations of the receptor tyrosine kinase gene ERBB2 were potently oncogenic. These ERBB2 extracellular domain mutants were activated by two distinct mechanisms, characterized by elevated C-terminal tail phosphorylation or by covalent dimerization mediated by intermolecular disulfide bond formation. These distinct mechanisms of receptor activation converged upon tyrosine phosphorylation of cellular proteins, impacting cell motility. Survival of Ba/F3 cells transformed to IL-3 independence by the ERBB2 extracellular domain mutants was abrogated by treatment with small-molecule inhibitors of ERBB2, raising the possibility that patients harboring such mutations could benefit from ERBB2-directed therapy.  Keywords: HER2, breast cancer, bladder cancer Lung cancer is the leading cause of cancer death, accounting for over 150,000 deaths annually in the United States alone (1). Current treatment options are thus inadequate for the majority of patients and additional therapies are needed. Mutationally activated oncogenes that promote tumorigenesis represent potential drug targets due to frequent dependency of tumor cells on such oncogenes (2, 3), and somatically altered receptor tyrosine kinases in particular have been successfully exploited as therapeutic targets in several cancers.  The prototypical therapy targeted to a somatically activated tyrosine kinase oncogene is imatinib mesylate, which targets the BCR-ABL fusion protein in chronic myelogenous leukemia (4). Targeted therapies developed for lung cancer include gefitinib and erlotinib, small-molecule inhibitors of mutationally activated EGFR in lung adenocarcinoma (5–8), and crizotinib, a small-molecule inhibitor of the EML4-ALK translocation product in lung adenocarcinoma (9). Trastuzumab, a monoclonal antibody inhibitor targeting ERBB2, and the small-molecule EGFR/ERBB2 inhibitor lapatinib are effective in ERBB2-amplified patients with breast cancer (10, 11).  The advent of next-generation sequencing technologies has enabled compilation of large somatic mutation datasets from cancer sequencing studies. Statistical methods that examine differences in gene mutation frequency can reveal evidence of positive selection; however, demonstration of the contribution of a mutated gene to tumorigenesis additionally requires functional validation. To identify new lung cancer oncogenes, we systematically assessed somatic alleles of significantly mutated receptor tyrosine kinase genes reported in patients with lung adenocarcinoma (12) for activity in cellular transformation assays. Although most receptor tyrosine kinase mutations tested failed to score, novel extracellular domain mutations of ERBB2 were oncogenic. Our results indicate a unique therapeutic opportunity for patients with lung and breast cancer who harbor extracellular domain mutations of ERBB2.  Go to: RESULTS Extracellular Domain Mutations of ERBB2 Found in Cancer are Oncogenic. In the most comprehensive lung adenocarcinoma targeted sequencing experiment thus far, 623 genes were sequenced in 188 lung adenocarcinomas, identifying 1,013 nonsynonymous somatic mutations and 26 significantly mutated genes (12). In addition to mutated genes already well characterized in lung adenocarcinoma (13), the significant genes included known tumor suppressors and several receptor tyrosine kinases, putative but unproven oncogenes. In an effort to determine whether these uncharacterized receptor tyrosine kinase mutations are oncogenic, we analyzed the four most significantly mutated receptor tyrosine kinase genes identified by multiple statistical methods, EPHA3, ERBB4, FGFR4, and NTRK3, and two genes that failed to achieve statistical significance, NTRK2 and ERBB2, due to a cluster of mutations in the kinase domain of NTRK2 and an extracellular domain mutation of unknown significance in ERBB2 (Fig. S1). We expressed the mutant alleles in NIH 3T3 cells and examined oncogenic activity in soft agar assays.  None of the somatic alleles of EPHA3, ERBB4, FGFR4, NTRK2, or NTRK3 were found to support anchorage-independent proliferation in soft agar assays (Figs. S1 and S2A). In contrast, ectopic expression of FGFR4 V550E, recurrent in rhabdomyosarcoma and oncogenic in NIH 3T3 cells (14), and FGFR4 K645E, modeled after the activating FGFR3 K650E mutation found in multiple cancers (15), resulted in soft agar colony formation (Fig. S2A). Moreover, we could not detect EPHA3 protein expression in three lung cancer cell lines harboring EPHA3 mutations (Fig. S2B). Somatic mutations of EPHA3, ERBB4, FGFR4, NTRK2, and NTRK3 reported in lung adenocarcinoma thus do not confer phenotypes expected of receptor tyrosine kinase oncogenes.  Of the four mutations reported in ERBB2, S310F and A775_G776insYVMA (“insYVMA”) are predicted to encode the full-length protein (Fig. S1). Whereas the insYVMA mutation of the kinase domain of ERBB2 is already well characterized (16, 17), mutations of the extracellular domain have not been functionally analyzed. We therefore focused on the S310F mutation in exon 8 of ERBB2, found in 1/188 lung adenocarcinoma samples (12). Additional reports of extracellular domain mutations of ERBB2 included G309E in 1/183 breast cancer samples and S310Y in 1/63 squamous lung cancer samples (18), S310F in 2/112 breast cancers (19), 1 S310F and 1 S310Y in 258 lung adenocarcinomas sequenced by the Cancer Genome Atlas Network (Fig. S3 A and B), S310F in 1/65 breast cancers (20), and S310F in 1/316 ovarian cancers (21). An S310F mutation was also found in a bladder cancer cell line, 5637 (22).  We examined genomic data for samples with extracellular domain mutations of ERBB2. One breast cancer sample harbored an additional kinase domain mutation of ERBB2, L755S, and one lung cancer sample harbored a mutation of KRAS, G12F (Fig. S3C); none had mutations of EGFR. One breast cancer sample exhibited high-level amplification of ERBB2 in the genome, whereas the other samples did not (Fig. S3C). Two of four patients with lung cancer were former smokers. However, given the small number of samples analyzed, we lack power to determine whether there are any systematic associations of ERBB2 extracellular domain mutations with the presence or absence of other known driver mutations, ERBB2 amplification, or smoking status.  NIH 3T3 cells overexpressing wild-type ERBB2 exhibited a weak anchorage-independent phenotype (Fig. 1 A and B), consistent with previous reports (23). In contrast, the G309E, S310F, and S310Y mutants supported robust colony formation in soft agar (Fig. 1 A and B), similar to an ERBB2 kinase domain insertion mutant (16, 24–26). A kinase-inactive mutant, D845A, failed to form any colonies. AALE human lung epithelial cells were similarly transformed to anchorage independence by the extracellular mutants of ERBB2 (Fig. 1 C and D). We have thus identified oncogenic somatic mutations of the extracellular domain of ERBB2 in lung and breast cancer, occurring at a rate of about 1%, approximately half that of the ERBB2 kinase domain mutations previously described in lung adenocarcinoma (12, 24, 26).  Fig. 1. Fig. 1. Extracellular domain mutations of ERBB2 found in lung and breast cancer are oncogenic. (A) NIH 3T3 cells expressing ERBB2 extracellular mutants were assessed for colony formation in soft agar. (B) Anti-ERBB2 immunoblot on NIH 3T3 lysates. (C) AALE human ... ERBB2 was reported to be a significantly mutated gene in glioblastoma (27). Paradoxically, only three of the reported mutations, C311R, E321G, and C334S, were transforming (Fig. 1 E and F). Upon closer inspection, it became apparent that all 7 glioblastoma samples harboring ERBB2 mutations were from a single TCGA sample batch. Because the reported data were derived from 91 samples in four sample batches, it was unlikely that all 7 samples would be in the same sample batch by chance (Fisher’s exact P = 0.000002). Nor could prior patient treatment account for this cluster of ERBB2-mutated samples. This analysis raised the possibility that the reported mutations were artifacts of whole-genome amplification, as the mutations in the TCGA study were not validated in unamplified DNA.  Sequenom genotyping of the original unamplified glioblastoma DNA samples, corresponding to the whole-genome amplified material in which the ERBB2 mutations were discovered, failed to detect the reported ERBB2 mutations (Fig. S4A), whereas most mutations reported in other significantly mutated genes in this sample batch were present in the unamplified DNA (Fig. S4B). Consistent with the possibility that these ERBB2 mutations are artifacts, no mutations of ERBB2 were reported in a parallel study (28). Because of these inconsistencies, we checked unamplified tumor DNA for the three mutations in lung and breast cancer originally detected in whole-genome amplified material. All three mutations were confirmed in native DNA (Figs. S3C and S4 C–F).  ERBB2 Extracellular Domain Mutations Activate the Receptor by Two Distinct Mechanisms. The oncogenic mutations of the ERBB2 extracellular domain cluster in subdomain II, a region characterized by 11 disulfide bonds (29). Because two ERBB2 mutants with in vitro transforming activity, C311R and C334S, affect cysteine residues, we examined the crystal structure of ERBB2 (29) to ask whether these changes affect disulfide bonds. Both C311 and C334 are involved in disulfide bond formation, with C299 and C338, respectively (Fig. 2A). These intramolecular disulfide bonds are presumably disrupted in the C311R and C334S mutants.  Fig. 2. Fig. 2. Oncogenic extracellular domain mutations of ERBB2 reported in glioblastoma cause disulfide bond remodeling. (A) Model of the ERBB2 dimer made by superimposing the human [Protein Data Bank (PDB) ID code 2A91] and rat (PDB ID code 1N8Y) ERBB2 extracellular ... We hypothesized that disruption of intramolecular disulfide bonds might result in formation of intermolecular disulfide bonds by the remaining unpaired cysteines. We tested this hypothesis by running lysates on nonreducing and reducing gels in parallel. Whereas wild-type ERBB2 showed no evidence of dimerization under these conditions, C311R and C334S formed high-molecular-weight species consistent with ERBB2 dimers on nonreducing SDS/PAGE gels (Fig. 2B). E321G did as well, possibly due to disruption of salt bridges that E321 forms with K369 and R434 that stabilize the structure of the disulfide-bonded loops (Fig. 2 A and B). In contrast, there was no evidence of dimerization by the transforming insYVMA kinase domain mutant (Fig. 2B).  We then examined the mechanism of activation of the mutants found in breast and lung cancer. The S310F mutant protein was hyperphosphorylated, similar to the kinase domain mutant insYVMA (Fig. 3A). However, the C-terminal tail of the G309E mutant was not hyperphosphorylated (Fig. 3A), like that of other mutants of ERBB2 that dimerized by intermolecular disulfide bonding (Figs. 1F and and3A).3A). We therefore investigated the dimerization capacity of ERBB2 G309E and found that this mutant did indeed form reduction-sensitive dimers (Fig. 3B).  Fig. 3. Fig. 3. ERBB2 mutants found in lung and breast cancer form reduction-sensitive dimers that exhibit diminished C-terminal tail phosphorylation. (A) Immunoblot analysis of ERBB2 protein and tyrosine 1221/1222 phosphorylation state on lysates of NIH 3T3 expressing ... There are six cysteine residues involved in three intramolecular disulfide bonds in the region below the dimerization arm of ERBB2; replacement of any of these six cysteines with serine conferred the ability to form reduction-sensitive dimers and transform NIH 3T3 cells (Fig. S5 A and B). A decrease in C-terminal phosphorylation was also observed on the ERBB2 cysteine mutants despite a robust soft agar phenotype (Fig. S5C).  ERBB2 Extracellular Domain Mutants Effect Transformation Using Common Downstream Machinery. We have thus defined two distinct mechanisms of activation of extracellular domain mutants of the ERBB2 receptor tyrosine kinase: elevation of C-terminal phosphorylation and formation of disulfide-linked dimers. In order to determine whether these two classes of ERBB2 mutants use similar pathways to effect oncogenic transformation, we used stable isotope labeling by amino acids in cell culture (SILAC) combined with immunoaffinity enrichment of tyrosine-phosphorylated peptides to compare differences in global protein tyrosine phosphorylation using quantitative mass spectrometry.  Whereas only a slight increase in phosphopeptide ratios was seen in the ERBB2 G309E-expressing cells over wild type, the cells expressing ERBB2 S310F exhibited a more substantial increase in peptide phosphorylation (Fig. S6), correlating with the greater oncogenic activity of S310F. Forty-four of 47 endogenous proteins with peptides phosphorylated twofold or higher in the ERBB2 S310F-expressing cells (Table 1) were also hyperphosphorylated in the G309E-expressing cells (Dataset S1). Furthermore, the 92 individual peptides phosphorylated twofold or higher in the ERBB2 S310F-expressing cells compared with ERBB2 wild-type–expressing cells exhibit a fold change distribution that is skewed toward the top of the list of hyperphosphorylated peptides in the G309E-expressing cells in a statistically significant manner, with a rank-test P value of 2.2 × 10−16 (SI Experimental Procedures). These data indicate that despite activation by distinct mechanisms, the two ERBB2 mutants use similar downstream effector pathways to transform cells.  Table 1. Table 1. Proteins containing peptides phosphorylated twofold or higher in cells expressing ERBB2 S310F than in cells expressing wild-type ERBB2 implicate events that impact cell motility ERBB2 itself was hyperphosphorylated in S310F-expressing cells but not G309E-expressing cells, consistent with immunoblot data (Table 1, Dataset S1, and Fig. 3A). Interestingly, the EGFR/ERBB2 inhibitor MIG6, encoded in human DNA by ERRFI1, was hyperphosphorylated in both the G309E- and S310F-expressing cells (Table 1 and Dataset S1), correlating with the previously described dependence of association with ERBB2 on ERBB2 activity but not C-terminal autophosphorylation (30).  A number of proteins regulating cytoskeletal dynamics and cell motility were found to be prominently hyperphosphorylated in the ERBB2 S310F cells (Table 1), including the murine homologs of CRK, DLG1, CCD88A, IQGAP, and PEAK1, as well as components of the cytoskeleton (Table 1). Altered cell motility may thus be closely linked to the transformed phenotype measured by the soft agar assay. PTPN11, a phosphatase involved in activation of Erk proteins in response to growth factor stimulation and intriguingly required for growth and metastasis of HER2-positive breast cancer cells (31, 32), was also prominently phosphorylated in the ERBB2 S310F cells. Of note, there was considerable overlap between the proteins phosphorylated in response to ERBB2 S310F expression and proteins reported to be phosphorylated in human mammary epithelial cells in response to knockdown of PTPN12, a negative regulator of EGFR and ERBB2 (33).  Oncogenic Activity of ERBB2 Extracellular Domain Mutants Is Sensitive to Treatment with ERBB2 Inhibitors. Introduction of a kinase-inactivating D845A mutation into cDNAs harboring ERBB2 extracellular domain mutations prevented soft agar colony formation by transduced NIH 3T3 cells (Fig. S5B, Bottom Right). To facilitate inhibitor testing, we expressed the ERBB2 mutants in murine Ba/F3 cells and derived IL-3 independent lines. Expression of the extracellular mutations of ERBB2 conferred IL-3 independence more efficiently than wild-type ERBB2, whereas the vector control and kinase-inactive form of ERBB2 were not able to support IL-3–independent growth (Fig. 4A).  Fig. 4. Fig. 4. Ba/F3 cells transformed to IL-3 independence with the ERBB2 extracellular domain mutants are sensitive to ERBB2 inhibition. (A) Proliferation of Ba/F3 cells expressing mutant forms of ERBB2 upon IL-3 withdrawal. (B) Survival of ERBB2-transformed Ba/F3 ... Ba/F3 cells transformed with the ERBB2 extracellular domain mutants were treated with the irreversible ERBB2 inhibitors neratinib and afatinib, resulting in effective abrogation of cell survival, with IC50s in the low nanomolar range (Fig. 4 B and C). Cells expressing the extracellular domain mutants exhibited increased sensitivity to these inhibitors relative to cells expressing the wild-type ERBB2 or the kinase domain mutant, insYVMA. Importantly, the 95% confidence intervals of the IC50s for extracellular domain mutants S310F, S310Y, and E321G in response to treatment with small-molecule inhibitors were generally lower than the corresponding limits for wild-type ERBB2 or insYVMA (Fig. S7A). Inhibitor efficacy furthermore correlated with inhibition of ERBB2 phosphorylation (Fig. S7 B–E).  The reversible inhibitor lapatinib was 5- to 10-fold less effective than neratinib and afatinib (Fig. 4D), perhaps due to the more efficient recovery of receptor activity, evidenced by increases in phospho-ERBB2 and phospho-Akt following inhibitor washout in lapatinib-treated cells but not in neratinib-treated cells (Fig. S8). However, cells expressing the extracellular domain mutants were significantly more sensitive to lapatinib than cells expressing insYVMA (Fig. 4D). Trastuzumab treatment effectively inhibited survival of Ba/F3 cells expressing mutants of G309 and S310, but curiously had less of an effect on cells transformed by the other mutants (Fig. 4E). Although the cancer-derived mutations are located in the same region of the receptor as the epitope bound by trastuzumab, these results indicate that mutations of G309 or S310 do not inhibit trastuzumab binding.  We have previously shown that the lung cancer cell line NCI-H1781, harboring an ERBB2 kinase domain mutation, is sensitive to treatment with the irreversible inhibitor afatinib (34). In contrast, the endometrial cancer cell line AN3CA is characterized by FGFR2 mutation but not by ERBB2 mutation (35). Using these two cancer cell lines as controls, we tested whether ERBB2 inhibition affected survival of a bladder cancer cell line, 5637, harboring an ERBB2 S310F mutation (22). Whereas ERBB2 inhibition alone was effective against the NCI-H1781 cells, a combination of ERBB2 inhibition and Mek inhibition was necessary for abrogation of 5637 cell survival with an IC50 comparable to that for the NCI-H1781 cells (Fig. 4F). Neither inhibitor had a significant effect on the AN3CA cells alone or in combination. These results suggest a possible treatment option for patients with lung and breast cancer harboring these mutations.  Go to: DISCUSSION We functionally analyzed mutated receptor tyrosine kinase genes found in lung adenocarcinomas. None of the somatic alleles of EPHA3, ERBB4, FGFR4, NTRK3, or NTRK2 were found to be oncogenic in NIH 3T3 cells. There are three possible explanations for the lack of oncogenic transformation by these mutant receptor tyrosine kinase genes. The reported significantly mutated genes may in fact be tumor suppressor genes, contributing to tumorigenesis but not scoring in a transformation assay designed to detect dominant gain-of-function oncogenes. The absence of nonsense and frameshifting mutations of EPHA3, ERBB4, NTRK2, and NTRK3 argues against a role in tumor suppression, as all known significantly mutated tumor suppressor genes found in the lung adenocarcinoma study harbored mutations resulting in premature termination.  A second explanation for the absence of oncogenic transformation is that the tested somatic alleles are in fact gain-of-function and oncogenic, and we simply used the wrong assay to uncover an oncogenic phenotype. This argument is difficult to refute; however, the ability of FGFR4 V550E and K645E and an ETV6-NTRK3 gene fusion (34) to support anchorage-independent growth argues against such an explanation. Furthermore, we find it unlikely that three of three lung adenocarcinoma cell lines harboring EPHA3 mutations would fail to express detectable EPHA3 if such mutations were in fact oncogenic.  A third explanation for the absence of oncogenic transformation is that the reported mutations are passenger mutations, and more refined statistical methods are needed to detect evidence of positive selection. For example, as nonexpressed genes may exhibit higher mutation rates than expressed genes (37), incorporation of sample-specific gene expression data from parallel RNA sequencing may assist in a more accurate estimation of gene-specific background mutation rates. Moreover, the effect of replication timing on mutation of individual genes (38, 39) was not modeled into the background mutation rate calculation and may similarly confound the results of significance testing.  In contrast to the other receptor tyrosine kinase mutants tested, an extracellular domain mutation of ERBB2 transformed NIH 3T3 cells to anchorage independence. This result demonstrates that infrequently mutated but genuine oncogenes can be found in cancer sequencing data even if the genes fail to achieve statistical significance. ERBB2 was reported as significantly mutated in glioblastoma (27) but the observed mutations could not be confirmed in patient-matched unamplified tumor DNA, raising the possibility that the reported mutations were artifacts of whole-genome amplification. In response to these data, the TCGA consortium is no longer to our knowledge performing any sequence analysis of whole-genome–amplified DNA.  We have identified a unique mechanism of activation of ERBB2 in tumor cells, namely, formation of covalent dimers linked by intermolecular disulfide bonds in subdomain II. It is straightforward to envision how the cysteine substitution mutants of the ERBB2 extracellular domain may lead to intermolecular disulfide bonding. G309 is located in close proximity to the C299-C311 disulfide bond; replacement of this compact residue with a bulkier residue such as glutamate may prevent formation of this intracellular disulfide bond, leaving unpaired cysteine residues available for intermolecular disulfide bond formation. We furthermore speculate that the S310F and S310Y mutations may result in hydrophobic interactions between the aromatic rings of the newly introduced 310F or 310Y with Y274 and F279 of the neighboring molecule, promoting noncovalent dimerization and kinase activation.  There is precedent in the literature for activation of receptor tyrosine kinases by disulfide-mediated dimerization. Somatic and germ-line mutations of the extracellular domain of the receptor tyrosine kinase FGFR3 that introduce unpaired cysteine residues have been described in bladder cancer and thanatophoric dysplasia, respectively (15). These mutations caused reduction-sensitive dimer formation, activated FGFR3 kinase activity, and supported anchorage-independent proliferation of NIH 3T3 cells (40, 41). The rat neu oncogene, an ERBB2 ortholog identified as the transforming agent in nitrosoethylurea-induced rat neuroblastomas (42), harbors a mutation corresponding to V659E in the transmembrane domain of human ERBB2 (43). Mutant neu but not wild-type neu formed covalent high-molecular-weight species under nonreducing conditions, consistent with disulfide bond-mediated receptor dimerization (44). Mice expressing a mouse mammary tumor virus encoding wild-type neu developed mammary tumors from which spontaneously mutated forms of neu, characterized by in-frame deletions in domain IV of the extracellular domain, could be isolated (45). These spontaneous deletion mutants, which typically removed a single cysteine residue, were oncogenic and migrated as dimers on nonreducing gels (46).  The availability of inhibitors effective against the extracellular ERBB2 mutants present in lung, breast, ovarian, and bladder cancer raises therapeutic possibilities. The efficacy of a combination of ERBB2 and Mek inhibition on a bladder cancer cell line harboring an ERBB2 S310F mutation further indicates the clinical utility of this approach; however, it is not yet mechanistically clear why both inhibitors are necessary for this effect, requiring further study. More broadly, our results suggest that a clinical trial of ERBB2 inhibition, alone or in combination with other agents, in patients with cancer harboring extracellular domain mutations of ERBB2 across tumor types is warranted.  Glioblastoma multiforme (GBM) is the most common and lethal type of brain cancer. To identify the genetic alterations in GBMs, we sequenced 20,661 protein coding genes, determined the presence of amplifications and deletions using high-density oligonucleotide arrays, and performed gene expression analyses using next-generation sequencing technologies in 22 human tumor samples. This comprehensive analysis led to the discovery of a variety of genes that were not known to be altered in GBMs. Most notably, we found recurrent mutations in the active site of isocitrate dehydrogenase 1 (IDH1) in 12% of GBM patients. Mutations in IDH1 occurred in a large fraction of young patients and in most patients with secondary GBMs and were associated with an increase in overall survival. These studies demonstrate the value of unbiased genomic analyses in the characterization of human brain cancer and identify a potentially useful genetic alteration for the classification and targeted therapy of GBMs.  Malignant gliomas are the most frequent and lethal cancers originating in the central nervous system. The most biologically aggressive subtype is glioblastoma multiforme (GBM) [World Health Organization (WHO) grade IV astrocytoma], a tumor associated with a dismal prognosis (1). The current standard of care for GBM patients—surgical resection followed by adjuvant radiation therapy and chemotherapy with the oral alkylating agent temozolomide—produces a median survival of only 15 months (2). Historically, GBMs have been categorized into two groups (“primary” and “secondary”) on the basis of clinical presentation (3). Secondary GBMs are defined as cancers that have clinical, radiologic, or histopathologic evidence of malignant progression from a preexisting lower-grade tumor, whereas primary GBMs have no such history and present at diagnosis as advanced cancers (4). Clinical differences have been re ported between the two groups, with secondary GBMs occurring less frequently (~5% of GBMs) and predominantly in younger patients (median age ~45 years versus ~60 years for primary GBM) (5, 6). The histopathologic findings of primary and secondary GBMs are indistinguishable, and the prognosis does not appear to be different after adjustment for age (5, 6).  Substantial research effort has focused on the identification of genetic alterations in GBMs that might help define subclasses of GBM patients with differing prognoses and/or response to specific therapies (7). Distinctions between the genetic lesions found in primary and secondary GBMs have been made, with TP53 mutations occurring more commonly in secondary GBMs and EGFR amplifications and PTEN mutations occurring more frequently in primary GBMs (6, 8, 9); however, none of these alterations is sufficiently specific to distinguish between primary and secondary GBMs. This issue is further confounded by the possibility that a fraction of GBMs designated as primary tumors may follow a sequence of genetic events similar to that of secondary lesions but not come to clinical attention until malignant progression to a GBM has occurred.  The comprehensive elucidation of genetic alterations in GBMs could provide novel targets that might be used for diagnostic, prognostic, or therapeutic purposes as well as to identify subgroups of patients that preferentially respond to particular targeted therapies. The determination of the human genome sequence and improvements in sequencing and bioinformatic technologies have recently permitted genome-wide sequence analyses in human cancers. We have previously studied the genomes of 11 breast and 11 colorectal cancers by determining the sequence of the more than 18,000 Consensus Coding Sequence (CCDS) and Reference Sequence (RefSeq) genes (10, 11). Here, we have analyzed 20,661 protein coding genes in 22 human GBM samples. To complement these sequencing data, we have also performed a genome-wide analysis of focal copy number alterations, including amplifications and homozygous deletions, using high-density oligonucleotide microarrays on the same GBM tumors. Finally, we have examined the expression profiles of these same samples using serial analysis of gene expression (SAGE) and next-generation sequencing technologies.  Go to: Sequencing strategy We extended our previous sequencing strategy for identification of somatic mutations to include 23,219 transcripts from 20,661 genes (fig. S1). These included 2783 additional genes from the Ensembl databases that were not present in the CCDS or RefSeq databases analyzed in the previous studies (10, 11). In addition, we redesigned polymerase chain reaction (PCR) primers for regions of the genome that (i) were difficult to PCR amplify in previous studies or (ii) were found to share substantial identity with other human or mouse sequences. The combination of these new, redesigned, and existing primers sequences resulted in a total of 208,311 primer pairs (table S1) that were successfully used for sequence analysis of the coding exons of these genes.  Twenty-two GBM samples (table S2) were selected for PCR sequence analysis, consisting of 7 samples extracted directly from patient tumors and 15 samples passaged in nude mice as xenografts. In the first stage of this analysis, called the Discovery Screen, the primer pairs were used to amplify and sequence 175,471 coding exons and adjacent intronic splice donor and acceptor sequences in the 22 GBM samples and in one matched normal sample. The data were assembled for each amplified region and evaluated using stringent quality criteria (12), resulting in successful amplification and sequencing of 95.0% of targeted amplicons in the 22 tumors (Table 1). A total of 689 Mb of sequence data was generated in this fashion. The amplicon traces were analyzed using automated approaches to identify changes in the tumor sequences that were not present in the reference sequences of each gene. Alterations present in the normal control sample and in single nucleotide polymorphism (SNP) databases were then removed from further analyses. The remaining sequence traces of potential alterations were visually inspected to remove false-positive mutation calls generated by the automated software. All exons containing putative mutations were then reamplified and sequenced in both the affected tumor and the matched normal DNA sample. This process allowed us to confirm the presence of the mutation in the tumor sample and determine whether the alteration was somatic (i.e., tumor-specific) or was present in the germ-line. All putative somatic mutations were examined computationally and experimentally to confirm that the alterations did not arise through the aberrant coamplification of related gene sequences (12).  Table 1 Table 1 Summary of genomic analyses. Go to: Analysis of sequence alterations Analysis of the identified somatic mutations revealed that one tumor (Br27P), from a patient previously treated with radiation therapy and temozolomide, had 17 times as many alterations as any of the other 21 patients (table S3). The mutation spectrum of this sample was also dramatically different from those of the other GBM patients (12) and was consistent with previous observations of a hypermutation phenotype in glioma samples of patients treated with temozolomide (13, 14). After removing Br27P from consideration, we found that 685 genes (3.3% of the 20,661 genes analyzed) contained at least one nonsilent somatic mutation. The vast majority of these alterations were single-base substitutions (94%), whereas the others were small insertions, deletions, or duplications (Table 1). The 993 somatic mutations were observed to be distributed relatively evenly among the 21 remaining tumors (table S3), with a mean of 47 mutations per tumor, representing 1.51 mutations per Mb of GBM tumor genome sequenced. The six DNA samples extracted directly from patient tumors had smaller numbers of mutations than those obtained from xenografts, likely because of the masking effect of nonneoplastic cells in the former. It has previously been shown that cell lines and xenografts provide the optimal template DNA for cancer genome sequencing analyses (15) and that they faithfully represent the alterations present in the original tumors (16). Both the total number and the frequency of sequence alterations in GBMs were substantially smaller than the number and frequency of such alterations observed in colorectal or breast cancers and slightly less than in pancreatic cancers (10, 11, 17). The most likely explanation for this difference is the reduced number of cell generations in glial cells before the onset of neoplasia (18).  We further evaluated a set of 21 mutated genes identified in the Discovery Screen in a second screen, called a Prevalence Screen, comprising an additional 83 GBMs with well-documented clinical histories (table S2). The 21 genes selected were mutated in at least two Discovery Screen tumors and had mutation frequencies of >10 mutations per Mb of tumor DNA sequenced. Nonsilent somatic mutations were identified in 16 of these 21 genes in the additional tumor samples (table S4). The mutation frequency of all analyzed genes in the Prevalence Screen was 23 mutations per Mb of tumor DNA, markedly increased from the overall mutation frequency in the Discovery Screen of 1.5 mutations per Mb (P < 0.001). Additionally, the observed ratio of nonsilent to silent mutations among mutations in the Prevalence Screen was 14.5:1, substantially higher than the 3.1:1 ratio that was observed in the Discovery Screen (P < 0.001). The increased mutation frequency and higher fraction of nonsilent mutations suggested that genes mutated in the Prevalence Screen were enriched for genes that actively contributed to tumorigenesis.  In addition to the frequency of mutations in a gene, the type of mutation can provide information useful for evaluating its potential role in disease (19). The likely effect of missense mutations can be assessed through evaluation of the mutated residue by evolutionary or structural means. To evaluate missense mutations, we developed an algorithm (LS-MUT) that employs machine learning of 58 predictive features based on evolutionary conservation and the physical-chemical properties of amino acids involved in the alteration (12). About 15% of the missense mutations evaluated were predicted to have a statistically significant effect on protein function when assessed by this method (table S3). We also were able to make structural models of 244 of the 870 missense mutations identified in this study (20). In each case, the model was based on x-ray crystallography or nuclear magnetic resonance spectroscopy of the normal protein or a closely related homolog. This analysis showed that 35 of the missense mutations are located close to a domain interface or substrate-binding site and thus are likely to affect protein function [links to structural models are available in (12)].  Go to: Analysis of copy number changes The same tumors were then evaluated for copy number alterations through genomic hybridization of DNA samples to Illumina SNP arrays containing ~1 million probes (21). We have recently developed a sensitive and specific approach for the identification of focal amplifications resulting in 12 or more copies per nucleus (amplification by a factor of 6 or more compared with the diploid genome) as well as deletions of both copies of a gene (homozygous deletions) using such arrays (22). Unlike larger chromosomal aberrations, such focused alterations can be used to identify underlying candidate genes in these regions.  We identified a total of 147 amplifications (table S5) and 134 homozygous deletions (table S6) in the 22 samples used in the Discovery Screen (Table 1). Although the number of amplifications was similar in samples extracted from patient tumors and those that had been passaged as xenografts, the latter samples allowed detection of a larger number of homozygous deletions (average of 8.0 deletions per sample in the xenografts versus 2.2 per sample in the tumors). These observations are consistent with previous reports that document the difficulty of identifying homozygous deletions in samples containing contaminating normal DNA (23) and highlight the importance of using purified human tumor cells, such as those present in xenografts or cell lines, for genomic analyses.  Go to: Integration of sequencing, copy number, and expression analyses Mutations that arise during tumorigenesis may provide a selective advantage to the tumor cell (driver mutations) or have no net effect on tumor growth (passenger mutations). The mutational data obtained from sequencing and analysis of copy number alterations were integrated to identify GBM candidate cancer genes (CAN-genes) that are most likely to be drivers and therefore worthy of further investigation. To determine whether a gene was likely to harbor driver mutations, we compared the number and type of mutations observed (including sequence changes, amplifications, and homozygous deletions) and determined the probability that these alterations would result from passenger mutation rates alone (12) (fig. S1).  The CAN-genes, together with their passenger probabilities, are listed in table S7. The CAN-genes included several with established roles in gliomas, including TP53, PTEN, CDKN2A, RB1, EGFR, NF1, PIK3CA, and PIK3R1 (24–34). Of these genes, the most frequently altered were CDKN2A (altered in 50% of GBMs); TP53, EGFR, and PTEN (altered in 30 to 40%); NF1, CDK4, and RB1 (altered in 12 to 15%); and PIK3CA and PIK3R1 (altered in 8 to 10%) (Table 2). Overall, these frequencies, which are similar to or in some cases higher than those previously reported, validate the sensitivity of our approach for detecting somatic alterations.  Table 2 Table 2 Most frequently altered GBM CAN-genes. All CAN-genes are listed in table S7. Through analysis of additional gene members within cell signaling pathways affected by these genes, we identified alterations of critical genes in the TP53 pathway (TP53, MDM2, and MDM4), the RB1 pathway (RB1, CDK4, and CDKN2A), and the PI3K/PTEN pathway (PIK3CA, PIK3R1, PTEN, and IRS1). These alterations affected pathways in a majority of tumors (64%, 68%, and 50%, respectively), and in all cases but one, mutations within each tumor affected only a single member of each pathway in a mutually exclusive manner (P < 0.05) (Table 3).  Table 3 Table 3 Mutations of the TP53, PI3K, and RB1 pathways in GBM samples. Mut, mutated; Amp, amplified; Del, deleted; Alt, altered. Systematic analyses of functional gene groups and pathways contained within the well-annotated MetaCore database (35) identified enrichment of alterations in a variety of cellular processes in GBMs, including additional members of the TP53 and PI3K/PTEN pathways. Many of the pathways identified were similar to core signaling pathways found to be altered in pancreas, colorectal, and breast tumors, such as those regulating control of cellular growth, apoptosis, and cell adhesion (17, 22, 36). However, several pathways were enriched only in GBMs. These included channels involved in transport of sodium, potassium, and calcium ions, as well as nervous system–specific cellular pathways such as synaptic transmission, transmission of nerve impulses, and axonal guidance (table S8). Mutations in these latter pathways may represent a subversion of normal glial cell processes to promote dysregulated growth and invasion.  Gene expression patterns can inform the analysis of pathways because they can reflect epigenetic alterations not detectable by sequencing or copy number analyses. To analyze the transcriptome of GBMs, we performed SAGE (37, 38) on all GBM samples for which sufficient RNA was available (total of 16 samples), as well as on two independent normal brain RNA controls (table S9). When combined with sequencing-by-synthesis methods (39–42), SAGE provides a highly quantitative and sensitive measure of gene expression. We first used the transcript analysis to help identify previously uncharacterized target genes from the amplified and deleted regions that were revealed by our study. In tables S5 and S6, a candidate target gene could be identified within several of these regions through the use of the mutational as well as transcriptional data. Second, we used the transcript analysis to help identify genes that were differentially expressed in GBMs compared to normal brain. A large number of genes (143) were expressed on average at levels 10 times as high in the GBMs. Among the overexpressed genes, 16 encoded proteins that are predicted to be secreted or expressed on the cell surface, suggesting new opportunities for diagnostic and therapeutic applications. Third, we used expression data to help assess the significance of genes containing missense mutations (table S3). Finally, we assessed whether the gene sets implicated in the pathways enriched for genetic alterations were also altered through expression changes. Notably, the gene sets in these pathways were more highly enriched for differentially expressed genes than the remaining sets (P < 0.001) (12). These expression data thus independently highlight the potential importance of these pathways in the development of GBMs.  Go to: High-frequency alterations of IDH1 in GBM The CAN-gene list (table S7) included a number of individual genes that had not previously been linked to GBMs. The most frequently mutated of these genes, IDH1 on chromosome 2q33, encodes isocitrate dehydrogenase 1, which catalyzes the oxidative carboxylation of isocitrate to α-ketoglutarate, resulting in the production of nicotinamide adenine dinucleotide phosphate (NADPH). Of the five isocitrate dehydrogenase proteins encoded in the human genome, at least three are localized to the mitochondria, while IDH1 is localized within the cytoplasm and peroxisomes (43). The IDH1 protein forms an asymmetric homodimer (44) and is thought to play a substantial role in cellular control of oxidative damage through generation of NADPH (45, 46). None of the other IDH genes were found to be genetically altered in our analysis.  IDH1 was somatically mutated in 5 of the 22 GBM tumors in the Discovery Screen. Surprisingly, all 5 had the same heterozygous point mutation, a change of a guanine to an adenine at position 395 of the IDH1 transcript (G395A), leading to the replacement of an arginine with a histidine at amino acid residue 132 of the protein (R132H). In our previous study of colorectal cancers, this same codon was mutated in a single case through alteration of the adjacent nucleotide, resulting in a R132C amino acid change (10). Five GBMs evaluated in our Prevalence Screen were found to have heterozygous somatic R132H mutations, and an additional two tumors had a third distinct somatic mutation affecting the same amino acid residue, R132S (fig. S2 and Table 4). In addition to the Discovery and Prevalence Screen samples, 44 other GBMs were analyzed for IDH1 mutations, revealing six tumors with somatic mutations affecting R132. In total, 18 of 149 GBMs (12%) analyzed had alterations in IDH1. The R132 residue is conserved in all known species and is localized to the substrate binding site, where it forms hydrophilic interactions with the alpha-carboxylate of isocitrate (Fig. 1) (44, 47).  Fig. 1 Fig. 1 Structure of the active site of IDH1. The crystal structure of the human cytosolic NADP(+)–dependent IDH is shown in ribbon format (PDBID: 1T0L) (44). The active cleft of IDH1 consists of a NADP-binding site and the isocitrate-metal ion-binding ... Table 4 Table 4 Characteristics of GBM patients with IDH1 mutations Several important observations were made about IDH1 mutations and their potential clinical importance. First, mutations in IDH1 preferentially occurred in younger GBM patients, with a mean age of 33 years for IDH1-mutated patients, as opposed to 53 years for patients with wild-type IDH1 (P < 0.001, t test) (Table 4). In patients under 35 years of age, nearly 50% (9 of 19) had mutations in IDH1. Second, mutations in IDH1 were found in nearly all of the patients with secondary GBMs (mutations in 5 of 6 secondary GBM patients, as compared to 7 of 99 patients with primary GBMs) (P < 0.001, binomial test). Third, patients with IDH1 mutations had a significantly improved prognosis, with a median overall survival of 3.8 years as compared to 1.1 years for patients with wild-type IDH1 (Fig. 2) (P < 0.001, log-rank test). Although both younger age and mutated TP53 are known to be positive prognostic factors for GBM patients, this association between IDH1 mutation and improved survival was noted even in the subgroup of young patients with TP53 mutations (P < 0.02, log-rank test).  Fig. 2 Fig. 2 Overall survival according to IDH1 mutation status. The hazard ratio for death among patients with wild-type IDH1 (n = 79), as compared to those with mutant IDH1 (n = 11), was 3.7 (95 percent confidence interval, 2.1 to 6.5; P < 0.001). The median ... Go to: Discussion The data resulting from this integrated analysis of mutations and copy number alterations have provided a novel view of the genetic landscape of glioblastomas. Like all large-scale genetic analyses, our study has limitations. We did not assess certain molecular alterations, including chromosomal translocations and epigenetic changes. However, our large-scale expression studies should have identified any genes that were differentially expressed through these mechanisms (table S9). Additionally, we focused on copy number changes that were focal amplifications or homozygous deletions, because these have historically been most useful in identifying cancer genes. The array data we have generated can also be analyzed to determine loss of heterozygosity (LOH) or low-amplitude regions of copy number gains, but such changes cannot generally be used to pinpoint new candidate cancer genes. Finally, the samples directly extracted from patient tumors contained small amounts of contaminating normal tissue, which limited our ability to detect homozygous deletions and, to a lesser extent, somatic mutations, in those specific tumors.  Despite these limitations, our study provides a number of important genetic and clinical insights into GBMs. First, it revealed that some of the pathways known to be altered in GBMs affect a larger fraction of genes and patients than previously anticipated. A majority of the tumors analyzed had alterations in genes encoding components of each of the TP53, RB1, and PI3K pathways. The fact that all but one of the cancers with mutations in members of a pathway did not have alterations in other members of the same pathway suggests that such alterations are functionally equivalent in tumorigenesis. Second, these results have identified a variety of new genes and signaling pathways not previously implicated in GBMs (table S7 and S8). Some of these pathways were found to be altered in previous genome-wide analyses of pancreatic, breast, and colorectal cancers and may represent core processes that underlie human tumorigenesis (17, 22, 36). A number of the signaling pathways mutated or altered through expression differences in GBMs appear to be involved in nervous system signaling processes and represent novel and potentially useful aspects of GBM biology.  The comprehensive nature of our study allowed us to identify IDH1 as an unexpected target of genetic alteration in patients with GBM. All mutations in this gene resulted in amino acid substitutions at position 132, an evolutionarily conserved residue located within the isocitrate binding site (44). The recurrent nature of the mutations is reminiscent of activating alterations in oncogenes such as BRAF, KRAS, and PIK3CA. Our speculation that this sequence change is an activating mutation is strengthened by the absence of inactivating changes (e.g., frameshift or stop mutations), the absence of other alterations in key residues of the active site, and the fact that all mutations observed to date were heterozygous (without any evidence of loss of the second allele through LOH). Interestingly, enzymatic studies have shown that in vitro engineered substitution of arginine at residue 132 with a different amino acid (glutamate) than that observed in patients results in a catalytically inactive enzyme, suggesting a critical role for this residue (48). Further biochemical and molecular analyses will be needed to determine the effect of alterations of IDH1 on enzymatic activity and cellular phenotype.  Regardless of the specific molecular consequences of IDH1 alterations, detection of mutations in IDH1 is likely to be clinically useful. Although considerable effort has focused on the identification of characteristic genetic lesions in primary and secondary GBMs, the altered genes identified to date are not optimal for this purpose (5). Our study revealed IDH1 mutation to be a novel and potentially more specific marker for secondary GBM. One hypothesis is that IDH1 alterations identify a biologically specific subgroup of GBM patients, including both patients who would be classified as having secondary GBMs and a subpopulation of primary GBM patients with a similar tumor biology and a more protracted clinical course (Table 4). Interestingly, patients with IDH1 mutations had a very high frequency of TP53 mutation and a very low frequency of mutations in other commonly altered GBM genes (Table 4). Patients with mutated IDH1 also had distinct clinical characteristics, including younger age and a considerably improved clinical prognosis (Table 4). It is conceivable that new treatments could be designed to take advantage of IDH1 alterations in these patients, because inhibition of a different IDH enzyme (IDH2) has recently been shown to result in increased sensitivity of tumor cells to a variety of chemotherapeutic agents (49). In summary, the discovery of IDH1 and other genes previously not known to play a role in human tumors (table S7) validates the utility of genome-wide genetic analysis of tumors in general and opens new avenues of basic and clinical brain tumor research.  Human cancer cells typically harbor multiple chromosomal aberrations, nucleotide substitutions and epigenetic modifications that drive malignant transformation. The Cancer Genome Atlas (TCGA) pilot project aims to assess the value of large-scale multidimensional analysis of these molecular characteristics in human cancer and to provide the data rapidly to the research community. Here, we report the interim integrative analysis of DNA copy number, gene expression and DNA methylation aberrations in 206 glioblastomas (GBM), the most common type of adult brain cancer, and nucleotide sequence aberrations in 91 of the 206 GBMs. This analysis provides new insights into the roles of ERBB2, NF1 and TP53, uncovers frequent mutations of the PI3 kinase regulatory subunit gene PIK3R1, and provides a network view of the pathways altered in the development of GBM. Furthermore, integration of mutation, DNA methylation and clinical treatment data reveals a link between MGMT promoter methylation and a hypermutator phenotype consequent to mismatch repair deficiency in treated glioblastomas, an observation with potential clinical implications. Together, these findings establish the feasibility and power of TCGA, demonstrating that it can rapidly expand knowledge of the molecular basis of cancer.  Cancer is a disease of genome alterations: DNA sequence changes, copy number aberrations, chromosomal rearrangements, and modification in DNA methylation together drive the development and progression of human malignancies. With the complete sequencing of the human genome and continuing improvement of high-throughput genomic technologies, it is now feasible to contemplate comprehensive surveys of human cancer genomes. The Cancer Genome Atlas (TCGA) aims to catalogue and discover major cancer-causing genome alterations in large cohorts of human tumors through integrated multi-dimensional analyses.  The first cancer studied by TCGA is glioblastoma (GBM), the most common primary brain tumor in adults 1. Primary GBM, which comprises more than 90% of biopsied or resected cases, arises de novo without antecedent history of low grade disease, whereas secondary GBM progresses from previously diagnosed low-grade gliomas 1. Patients with newly diagnosed GBM have a median survival of approximately one year with generally poor responses to all therapeutic modalities 2. Two decades of molecular studies have identified important genetic events in human GBMs, including (i) dysregulation of growth factor signaling via amplification and mutational activation of receptor tyrosine kinase (RTK) genes; (ii) activation of the phosphatidyl inositol 3-kinase (PI3K) pathway; and (iii) inactivation of the p53 and retinoblastoma tumor suppressor pathways 1. Recent genome-wide profiling studies have also shown remarkable genomic heterogeneity among GBM and the existence of molecular subclasses within GBM that may, when fully defined, allow stratification of treatment 3–8. Albeit fragmentary, such baseline knowledge of GBM genetics sets the stage to explore whether novel insights can be gained from a more systematic examination of the GBM genome.  Go to: Results As a public resource, all TCGA data are deposited at the Data Coordinating Center (DCC) for public access (http://cancergenome.nih.gov/). TCGA data are classified by data type (e.g. clinical, mutations, gene expression) and data level to allow structured access to this resource with appropriate patient privacy protection. An overview of the data organization is provided in Methods, and a detailed description is available in the TCGA Data Primer (http://tcga-data.nci.nih.gov/docs/TCGA_Data_Primer.pdf).  Biospecimen collection  Retrospective biospecimen repositories were screened for newly diagnosed GBM based on surgical pathology reports and clinical records (Fig. S1). Samples were further selected for having matched peripheral blood as well as associated demographic, clinical and pathological data (Table S1). Corresponding frozen tissues were reviewed at the Biospecimen Core Resource (BCR) to ensure a minimum of 80% tumor nuclei and a maximum of 50% necrosis (Fig. S1). DNA and RNA extracted from qualified biospecimens were subjected to additional quality control measurements (Methods) prior to distribution to TCGA centers for analyses (Fig. S2).  After exclusion based on insufficient tumor content (n=234) and suboptimal nucleic acid quality or quantity (n=147), 206 of the 587 biospecimens screened (35%) were qualified for copy number, expression, and DNA methylation analyses. Of these, 143 cases had matched normal peripheral blood DNAs and were therefore appropriate for re-sequencing. This cohort also included 21 post-treatment GBM cases used for exploratory comparisons (Table S1). While it is possible that a small number of progressive secondary GBMs were among the remaining 185 cases of newly diagnosed glioblastomas, this cohort represents predominantly primary GBM. Indeed, when compared with published cohorts, overall survival of the newly diagnosed glioblastoma cases in TCGA is similar to that reported in the literature (Fig. S3, p=0.2)9–12.  Genomic and transcriptional aberrations  Genomic copy number alterations (CNAs) were measured on three microarray platforms (Methods) and analyzed with multiple analytical algorithms13–15 (Fig. S4; Tables S2–S4). Besides the well-known alterations3,13,14, we detected significantly recurrent focal alterations not previously reported in GBMs, such as homozygous deletions involving NF1 and PARK2 and amplifications of AKT3 (Fig. 1a; Tables S2–S4). Search for informative but infrequent CNAs also uncovered rare focal events, such as amplifications of FGFR2 and IRS2 and deletion of PTPRD (Table S4). Abundances of protein-coding genes and non-coding microRNA were also measured by transcript-specific and exon-specific probes on multiple platforms (Methods, and manuscript in preparation). The resulting integrated gene expression data set showed that ~76% of genes within recurrent CNAs have expression patterns that correlate with copy number (Table S2). In addition, SNP-based analyses also catalogued copy-neutral loss of heterozygosity (LOH), with the most significant region being 17p, which contains TP53 (Methods).  Figure 1 Figure 1 Significant copy number aberrations and pattern of somatic mutations Patterns of somatic nucleotide alterations in GBM  91 matched tumor-normal pairs (72 untreated and 19 treated cases) were selected from the 143 cases for detection of somatic mutations in 601 selected genes (Table S5). The resulting sequences, totaling 97 million base pairs (1.1±0.1 million bases per sample), uncovered 453 validated non-silent somatic mutations(Table S6; http://tcga-data.nci.nih.gov/docs/somatic_mutations/tcga_mutations.htm). The background mutation rates differed drastically between untreated and treated GBMs, averaging 1.4 versus 5.8 somatic silent mutations per sample (98 among 72 untreated vs 111 among 19 treated, p<10−21), respectively. This difference was predominantly driven by seven hypermutated samples, as determined by frequencies of both silent and non-silent mutations (Fig. 1b,c). Four of the 7 hypermutated tumors were from patients previously treated with temozolomide and 3 from patients treated with CCNU alone or in combination (Table S1b). A hypermutator phenotype in GBM has been described in 3 GBM specimens with MSH6 mutations 16,17, prompting us to perform a systematic analysis of the genes involved in mismatch repair (MMR). Indeed, 6 of the 7 hypermutated samples harbored mutations in at least one of the mismatch repair genes MLH1, MSH2, MSH6, or PMS2, as compared with only one sample among the 84 non-hypermutated samples (p = 7×10−8), suggesting a role of decreased DNA repair competency in these highly mutated samples derived from treated patients.  By applying a statistical analysis of mutation significance 18, we identified eight genes as significantly mutated (false discovery rate (FDR) <10−3) (Fig. 2d, Table S6). Interestingly, 27 TP53 mutations were detected in the 72 untreated GBMs (37.5%) and 11 mutations in the 19 treated samples (58%). All of those mutations clustered in the DNA binding domain, a well-known hotspot for p53 mutations in human cancers (Fig. S5; Table S6). Given the predominance of primary GBM among this newly diagnosed collection, that result unequivocally proves that p53 mutation is a common event in primary GBM.  Figure 2 Figure 2 Mutations in NF1 tumor suppressor gene and EGFR family members NF1 is a human glioblastoma suppressor gene Although somatic mutations in NF1 have been reported in a small series of human GBM tumors 21, their role remains controversial 22, despite strong genetic data in mouse model systems 19,20. Here, 19 NF1 somatic mutations were identified in 13 samples (14% of 91), including six nonsense mutations, four splice site mutations, five missense changes, and four frameshift indels (Fig. 2a). Five of these mutations—R1391S (23), R1513* (24), e25 −1 and e29 +1 (25), and Q1966* (26)—have been reported as germline alterations in neurofibromatosis patients, thus are likely inactivating. In addition, 30 heterozygous deletions in NF1 were observed among the entire interim sample set of 206 cases, 6 of which also harbor point mutation (Tables S8 and S9). Some samples also exhibited loss of expression without evidence of genomic alteration (Fig. 2b). Overall, at least 47 of these 206 patient samples (23%) harbored somatic NF1 inactivating mutations or deletions, definitively address NF1’s relevance to sporadic human GBM.  Prevalence of EGFR family activation EGFR is frequently activated in primary GBMs. Variant III deletion of the extracellular domain (so-called “vIII mutant”)27 has been the most commonly described event, in addition to extracellular domain point mutations and cytoplasmic domain deletions 28.29. Here, high resolution genomic and exon-specific transcriptomic profiling readily detected vIII and C-terminal deletions with correspondingly altered transcripts (Fig. 2c). Among the 91 GBM cases with somatic mutation data, 22 harbored focal amplification of wild type EGFR with no point mutation, 16 had point mutations in addition to focal amplification, and three had EGFR point mutations but no amplification (Fig. S6; Table S9). Collectively, EGFR alterations were observed in 41 of the 91 sequenced samples.  ERBB2 mutation has previously been reported in only one GBM tumor 30. In the TCGA cohort, 11 somatic ERBB2 mutations in 7 of 91 samples were validated, including 3 in the kinase domain and two involving V777A, a site of recurrent missense and in-frame insertion mutations in lung, gastric, and colon cancers 31. The remaining eight mutations (including seven missense and one splice-site mutation) occurred in the extracellular domain of the protein, similar to somatic EGFR substitutions in GBM (Fig. 2d). Unlike in breast cancers, focal amplifications of ERBB2 were not observed in GBMs.  Somatic mutations of the PI3K complex in human glioblastoma The PI3 kinase complex is comprised of a catalytically active protein, p110α, encoded by PIK3CA, and a regulatory protein, p85α, encoded by PIK3R1. Frequent activating missense mutations of PIK3CA have been reported in multiple tumor types, including GBM32,33. These mutations occur primarily in the adaptor binding domain (ABD) as well as the C2 helical and kinase domains 34–36. Indeed, PIK3CA somatic nucleotide substitutions were detected in six of the 91 sequenced samples (Table S6). Besides the 4 matching events already reported in the COSMIC database (http://www.sanger.ac.uk/genetics/CGP/cosmic/), two novel in-frame deletions were detected in the ABD of PIK3CA (“L10del” and “P17del”). Those deletions may disrupt interactions between p110α and its regulatory subunit, p85α 37.  Unlike PIK3CA, PIK3R1 has rarely been reported as mutated in cancers. Among the five reported PIK3R1 nucleotide substitutions in cancers 38,39, one was in a glioblastoma 39. In our TCGA cohort, 9 PIK3R1 somatic mutations were detected among the 91 sequenced GBMs. None of them was in samples with PIK3CA mutations. Of the nine mutations, eight lay within the intervening SH2 (or iSH2) domain and four are 3-basepair in-frame deletions (Fig. 3a and Table S6). In accord with the crystal structure of PI3 kinase, which identifies the D560 and N564 amino acid residues in p85α as contact points with the N345 amino acid residue in the C2 domain of p110α37, the mutations detected in GBM cluster around those three amino acid residues (Fig. 3b), including a N345K mutation in PIK3CA (previously reported in colon and breast cancers 40) and two novel D560 mutations in PIK3R1 (D560Y and N564K). We also identified an 18-basepair deletion spanning residues D560 to S565 (DKRMNS) in PIK3R1 (Fig. 3b) in addition to three other novel deletions (R574del, T576del, and W583del) in proximity to the 3 key residues. We speculate that spatial constraints due to these deletions might prevent inhibitory contact of p85α nSH2 with the helical domain of p110α, causing constitutive PI3K activity. Taken together, the pattern of clustering of the mutations around key residues defined by the crystal structure of PI3K strongly suggest that these novel PIK3R1 point mutations and insertions/deletions disrupt the important C2-iSH2 interaction, relieving the inhibitory effect of p85α on p110α.  Figure 3 Figure 3 PIK3R1 and PIK3CA mutations in GBM MGMT methylation and MMR proficiency in post-treatment GBMs  Cancer-specific DNA methylation of CpG dinucleotides located in CpG islands within the promoters of 2,305 genes were measured relative to normal brain DNA (Table S7; Methods). The promoter methylation status of MGMT, a DNA repair enzyme that removes alkyl groups from guanine residues 41, is associated with GBM sensitivity to alkylating agents 42,43. Among the 91 sequenced cases, 19 samples were found to contain MGMT promoter methylation (including 13 of the 72 untreated and 6 of the 19 treated cases). When juxtaposed with somatic mutation data, an intriguing relationship between the hypermutator phenotype and MGMT methylation status emerged in the treated samples. Specifically, MGMT methylation was associated with a profound shift in the nucleotide substitution spectrum of treated GBMs (Fig. 4a). Among the treated samples lacking MGMT methylation (n=13), 29% (29/99) of the validated somatic mutations occurred as G:C to A:T transitions in CpG dinucleotides (characteristic of spontaneous deamination of methylated cytosines), and a comparable 23% (23/99) of all mutations occurred as G:C to A:T transitions in non-CpG dinucleotides. In contrast, in the treated samples with MGMT methylation (n=6), 81% of all mutations (146/181) turned out to be of the G:C to A:T transition type in non-CpG dinucleotides whereas only 4% (8/181) of all mutations were G:C to A:T transition mutations within CpGs. That pattern is consistent with a failure to repair alkylated guanine residues caused by treatment. In other words, MGMT methylation shifted the mutation spectrum of treated samples to a preponderance of G:C to A:T transition at non-CpG sites.  Figure 4 Figure 4 Pattern of somatic mutations, MGMT DNA methylation, and MMR gene mutations in treated GBMs Significantly, the mutational spectra in the mismatch repairs (MMR) genes themselves reflected MGMT methylation status and treatment consequences. All seven mutations in MMR genes found in six MGMT methylated hypermutated (treated) tumors occurred as G:C to A:T mutations at non-CpG sites (Fig. 4b; Table S6), while neither MMR mutations in non-methylated hypermutated tumors was of this characteristic. Hence, these data show that MMR deficiency and MGMT methylation together, in the context of treatment, exert a powerful influence on the overall frequency and pattern of somatic point mutations in GBM tumors, an observation of potential clinical importance.  Integrative analyses define core pathways required for GBM pathogenesis  To begin to construct an integrated view of common genetic alterations in the GBM genome, we mapped the unequivocal genetic alterations—validated somatic nucleotide substitutions, homozygous deletions and focal amplifications—onto major pathways implicated in GBM 1. That analysis identified a highly interconnected network of aberrations (Figs. S7–S8), including three major pathways: receptor tyrosine kinases (RTKs) signaling, and the p53/RB tumor suppressor pathways (Fig. 5).  Figure 5 Figure 5 Frequent genetic alterations in three critical signaling pathways By copy number data alone, 66%, 70% and 59% of the 206 samples harbored somatic alterations of the RB, TP53 and RTK pathways, respectively (Table S8). In the 91 samples for which there was also sequencing data, the frequencies of somatic alterations increased to 87%, 78% and 88%, respectively (Table S9). There was a statistical tendency toward mutual exclusivity of alterations of components within each pathway (p-values of 9.3×10−10, 2.5×10−13, and 0.022, respectively for the p53, RB, and RTK pathways; Tables S10), consistent with the thesis that deregulation of one component in the pathway relieves the selective pressure for additional ones. However, we observed a greater than random chance (one-tailed p = 0.0018) that a given sample harbors at least one aberrant gene from each of the three pathways (Table S10). In fact, 74% harbored aberrations in all three pathways, a pattern suggesting that deregulation of the three pathways is a core requirement for glioblastoma pathogenesis.  Besides frequent deletions and mutations of the PTEN lipid phosphatase tumor suppressor gene, 86% of the GBM samples harbored at least one genetic event in the core RTK/PI3K pathway (Fig. 5a). In addition to EGFR and ERBB, PDGFRA (13%) and MET (4%) showed frequent aberrations (Tables S9). 10 of the 91 sequenced samples have amplifications or point mutations in at least two of the four RTKs catalogued (EGFR, ERBB2, PDGFRA and MET) (Table S9), suggesting genomic activation can be a mechanism for co-activated RTKs 44.  Inactivation of the p53 pathway occurred in the form of ARF deletions (55%), amplifications of MDM2 (11%) and MDM4 (4%), in addition to mutations of p53 itself (Fig. 5b; Table S8). Among 91 sequenced samples (Table S9), genetic lesions in TP53 were mutually exclusive of those in MDM2 or MDM4 (odds ratios of 0.00 for both; p = 0.02 and 0.068, respectively; Tables S10), but not of those in ARF. In fact, 10 of the 32 tumors with TP53 mutations also deleted ARF, suggesting that homozygous deletion of the CDKN2A locus (which encodes both p16INK4A and ARF) was at least in part driven by p16INK4A.  Among the 77% samples harboring RB pathway aberrations (Fig. 5c), the most common event was deletion of the CDKN2A/CDKN2B locus on chromosome 9p21 (55% and 53%), followed by amplification of the CDK4 locus (14%) (Fig. 1a; Table S8 and S9). Although copy number alterations in the CDK/RB pathway members can co-occur in the same tumor 14, all nine samples with RB1 nucleotide substitutions (Table S9) lacked CDKN2A/B deletion or other copy number alterations in the pathway, suggesting that inactivation of RB1 by nucleotide substitution, in contrast to copy number loss, obviates the genetic pressure for activation of upstream cyclin/cyclin-dependent kinases..  Go to: Discussion In establishing this pilot program, TCGA has developed important principles in biospecimen banking and collection (manuscript in preparation), and established the infrastructure that will serve similar efforts in the future. Although it ensured high quality data, the stringent biospecimen selection criteria may have introduced a degree of bias because small samples and samples with high levels of necrosis were excluded. Nonetheless, the clinical parameters of this cohort are similar to other published cohorts (Table S1; Fig. S3).  The integrated analyses of multi-dimensional genomic data from complementary technology platforms have proved informative. In addition to pinpointing deregulation of RB, p53 and RTK/RAS/PI3K pathways as obligatory events in most, and perhaps all, GBM tumors, the patterns of mutations may also inform future therapeutic decisions. It would be reasonable to speculate that patients with deletions or inactivating mutations in CDKN2A or CDKN2C or patients with amplifications of CDK4/CDK6 would be candidates for treatment with CDK inhibitors, a strategy not likely to be effective in patients with RB1 mutation. Similarly, patients with PTEN deletions or activating mutations in PIK3CA or PIK3R might be expected to benefit from a PI3 kinase or PDK1 inhibitor, while tumors in which the PI3 kinase pathway is altered by AKT3 amplification might prove refractory to those modalities. The presence of genomic co-amplification reinforces the recent report of multiple phosphorylated (activated) RTKs in individual GBM specimens 44, suggesting a way to tailor anti-RTK therapeutic cocktails to specific patterns of RTK mutation. In addition, combination anti-RTK therapy might synergize with downstream inhibition of PI3K or cell cycle mediators. In contrast, GBMs with NF1 mutations might benefit from a RAF or MEK inhibitor as part of a combination, as shown for BRAF mutant cancers 45.  One of the most important biomarkers for GBM is the methylation status of MGMT, which predicts sensitivity to temozolomide 42,43, an alkylating agent that is the current standard of care for GBM patients. Integrative analysis of mutation, DNA methylation and clinical (treatment) data, albeit with small sample numbers, suggests a series of inter-related events that may impact clinical response and outcome. Newly diagnosed glioblastomas with MGMT methylation respond well to treatment with alkylating agents, in part as a consequence of unrepaired alkylated guanine residues initiating cycles of futile mismatch repair, which can lead to cell death 46–48. Therefore, treatment of MGMT-deficient GBMs with alkylating therapy introduces a strong selective pressure to lose mismatch repair function 49. That conclusion is consistent with our observation that the mismatch repair genes themselves are mutated with characteristic C:G → A:T transitions at non-CpG sites resulting from unrepaired alkylated guanine residues. Thus, initial methylation of MGMT, in conjunction with treatment, may lead to both a shift in mutation spectrum affecting mutations at mismatch repair genes and selective pressure to lose mismatch repair function. In other words, our finding raises the possibility that patients who initially respond to the frontline therapy in use today may evolve not only treatment resistance, but also an MMR-defective hypermutator phenotype. If such a mechanism indeed underlies emergence of MMR-defective resistance, one may speculate that selective strategies targeting mismatch-repair deficiency 50 would represent a rational upfront combination that may prevent or minimize emergence of such resistance. Validation of this hypothesis will have immediate clinical impact and implication for therapeutic design. For one, it suggests that treatment mediated mutator phenotype may lead to pathway mutations that confer resistance to new targeted therapies thereby raising the concern that combined or serial treatment with alkylating agents and pathway targeted therapies may substantially increase the probability of developing resistance to such targeted drugs.  In conclusion, the power of TCGA to produce unprecedented multi-dimensional data sets employing statistically robust numbers of samples sets the stage for a new era in the discovery of new cancer interventions. The integrative analyses leading to formulation of an unanticipated hypothesis on a potential mechanism of resistance highlights precisely the value and power of such project design, demonstrating how unbiased and systematic cancer genome analyses of large sample cohorts can lead to paradigm-shifting discoveries.  In this Article, we reported somatic mutations in the human ERBB2 gene in 7 of 91 cases analysed by capillary DNA sequencing and validated by mass spectrometric genotyping. Further analysis of these cases has revealed that the mutations were present only in the wholegenome amplified tumour DNA used for the study but not in the unamplified tumour DNA (see ref. 1 for more details). The reported mutations are likely to be artefacts of whole-genome amplification, because the ERBB2 mutations in our Article were not validated in unamplified DNA. The validity of recurrent mutations in other genes besides ERBB2 that were reported to be significantly mutated in our Article (namely TP53, PTEN, NF1, EGFR, RB1, PIK3R1 and PIK3CA) has been confirmed by The Cancer Genome Atlas Research Network using unamplified DNA (ref. 2).'"
      ]
     },
     "execution_count": 57,
     "metadata": {},
     "output_type": "execute_result"
    }
   ],
   "source": [
    "x_test['TEXT'].iloc[test_point_index]"
   ]
  },
  {
   "cell_type": "code",
   "execution_count": 58,
   "metadata": {},
   "outputs": [
    {
     "data": {
      "text/plain": [
       "'ERBB2'"
      ]
     },
     "execution_count": 58,
     "metadata": {},
     "output_type": "execute_result"
    }
   ],
   "source": [
    "x_test['Gene'].iloc[test_point_index]"
   ]
  },
  {
   "cell_type": "code",
   "execution_count": 59,
   "metadata": {},
   "outputs": [
    {
     "data": {
      "text/plain": [
       "'N319D'"
      ]
     },
     "execution_count": 59,
     "metadata": {},
     "output_type": "execute_result"
    }
   ],
   "source": [
    "x_test['Variation'].iloc[test_point_index]"
   ]
  },
  {
   "cell_type": "code",
   "execution_count": 60,
   "metadata": {},
   "outputs": [
    {
     "data": {
      "text/plain": [
       "(9, 55916)"
      ]
     },
     "execution_count": 60,
     "metadata": {},
     "output_type": "execute_result"
    }
   ],
   "source": [
    "clf.coef_.shape"
   ]
  },
  {
   "cell_type": "code",
   "execution_count": 61,
   "metadata": {},
   "outputs": [
    {
     "data": {
      "text/plain": [
       "array([27957, 29667, 29666, 29664, 29663, 29660, 29659, 29654, 29652,\n",
       "       29648, 29645, 29636, 29633, 29628, 29627, 29626, 29624, 29623,\n",
       "       29622, 29618, 29611, 29609, 29604, 29599, 29598, 29596, 29668,\n",
       "       29669, 29670, 29671, 29715, 29713, 29712, 29707, 29706, 29705,\n",
       "       29704, 29700, 29699, 29695, 29694, 29687, 29595, 29685, 29683,\n",
       "       29682, 29681, 29680, 29679, 29678, 29677, 29676, 29675, 29674,\n",
       "       29673, 29672, 29684, 29593, 29590, 29586, 29516, 29515, 29512,\n",
       "       29510, 29509, 29507, 29495, 29492, 29487, 29485, 29477, 29474,\n",
       "       29520, 29473, 29459, 29458, 29457, 29456, 29454, 29451, 29444,\n",
       "       29442, 29439, 29438, 29434, 29432, 29468, 29716, 29521, 29526,\n",
       "       29585, 29577, 29575, 29574, 29573, 29572, 29567, 29565, 29564,\n",
       "       29563], dtype=int64)"
      ]
     },
     "execution_count": 61,
     "metadata": {},
     "output_type": "execute_result"
    }
   ],
   "source": [
    "indices=np.argsort(-1*abs(clf.coef_))[predicted_cls-1][:,:no_feature]\n",
    "indices[0]"
   ]
  },
  {
   "cell_type": "code",
   "execution_count": 62,
   "metadata": {},
   "outputs": [],
   "source": [
    "# this function will be used just for naive bayes\n",
    "# for the given indices, we will print the name of the features\n",
    "# and we will check whether the feature present in the test point text or not\n",
    "def get_impfeature_names(indices, text, gene, var, no_features):\n",
    "    gene_count_vec = CountVectorizer()\n",
    "    var_count_vec = CountVectorizer()\n",
    "    text_count_vec = CountVectorizer(min_df=3)\n",
    "    \n",
    "    gene_vec = gene_count_vec.fit(train_df['Gene'])\n",
    "    var_vec  = var_count_vec.fit(train_df['Variation'])\n",
    "    text_vec = text_count_vec.fit(train_df['TEXT'])\n",
    "    \n",
    "    fea1_len = len(gene_vec.get_feature_names())\n",
    "    fea2_len = len(var_count_vec.get_feature_names())\n",
    "    \n",
    "    word_present = 0\n",
    "    for i,v in enumerate(indices):\n",
    "        if (v < fea1_len):\n",
    "            word = gene_vec.get_feature_names()[v]\n",
    "            yes_no = True if word == gene else False\n",
    "            if yes_no:\n",
    "                word_present += 1\n",
    "                print(i, \"Gene feature [{}] present in test data point [{}]\".format(word,yes_no))\n",
    "        elif (v < fea1_len+fea2_len):\n",
    "            word = var_vec.get_feature_names()[v-(fea1_len)]\n",
    "            yes_no = True if word == var else False\n",
    "            if yes_no:\n",
    "                word_present += 1\n",
    "                print(i, \"variation feature [{}] present in test data point [{}]\".format(word,yes_no))\n",
    "        else:\n",
    "            word = text_vec.get_feature_names()[v-(fea1_len+fea2_len)]\n",
    "            yes_no = True if word in text.split() else False\n",
    "            if yes_no:\n",
    "                word_present += 1\n",
    "                print(i, \"Text feature [{}] present in test data point [{}]\".format(word,yes_no))\n",
    "\n",
    "    print(\"Out of the top \",no_features,\" features \", word_present, \"are present in query point\")"
   ]
  },
  {
   "cell_type": "code",
   "execution_count": null,
   "metadata": {},
   "outputs": [
    {
     "name": "stdout",
     "output_type": "stream",
     "text": [
      "Predicted Class : 7\n",
      "Predicted Class Probabilities: [[0.0858 0.0834 0.0102 0.1173 0.0371 0.0371 0.6183 0.0054 0.0053]]\n",
      "Actual Class : 7\n",
      "--------------------------------------------------\n",
      "70 Text feature [chromodomain] present in test data point [True]\n",
      "75 Text feature [phophatases] present in test data point [True]\n",
      "668 Text feature [preemptively] present in test data point [True]\n",
      "966 Text feature [postsynaptic] present in test data point [True]\n",
      "3353 Text feature [anisotropy] present in test data point [True]\n",
      "4306 Text feature [bidentate] present in test data point [True]\n",
      "6427 Text feature [incubate] present in test data point [True]\n",
      "6805 Text feature [immunosuppressant] present in test data point [True]\n",
      "8632 Text feature [elaborates] present in test data point [True]\n",
      "8981 Text feature [equilibria] present in test data point [True]\n",
      "10885 Text feature [ultrafiltration] present in test data point [True]\n",
      "14595 Text feature [spectropolarimeter] present in test data point [True]\n",
      "15428 Text feature [buttressed] present in test data point [True]\n",
      "15456 Text feature [helicase] present in test data point [True]\n",
      "15517 Text feature [nucleoporin] present in test data point [True]\n",
      "15677 Text feature [deleterious] present in test data point [True]\n",
      "15766 Text feature [tryptophans] present in test data point [True]\n",
      "15971 Text feature [distortion] present in test data point [True]\n",
      "16070 Text feature [trinucleotides] present in test data point [True]\n",
      "16236 Text feature [duplex] present in test data point [True]\n",
      "16270 Text feature [ruxolitinib] present in test data point [True]\n",
      "16347 Text feature [inoculate] present in test data point [True]\n",
      "16380 Text feature [thresholds] present in test data point [True]\n",
      "16397 Text feature [painful] present in test data point [True]\n",
      "16907 Text feature [regenerated] present in test data point [True]\n",
      "16942 Text feature [thrombin] present in test data point [True]\n",
      "16945 Text feature [457] present in test data point [True]\n",
      "17172 Text feature [demanding] present in test data point [True]\n",
      "17281 Text feature [shuttling] present in test data point [True]\n",
      "17374 Text feature [lipofected] present in test data point [True]\n",
      "17381 Text feature [liters] present in test data point [True]\n",
      "17586 Text feature [fulfilling] present in test data point [True]\n",
      "17626 Text feature [conjugates] present in test data point [True]\n",
      "17774 Text feature [insoluble] present in test data point [True]\n",
      "18189 Text feature [caspase] present in test data point [True]\n",
      "18446 Text feature [import] present in test data point [True]\n",
      "18512 Text feature [calculates] present in test data point [True]\n",
      "18583 Text feature [dinucleotide] present in test data point [True]\n",
      "18584 Text feature [nonsilent] present in test data point [True]\n",
      "18594 Text feature [mutator] present in test data point [True]\n",
      "18768 Text feature [stirred] present in test data point [True]\n",
      "18937 Text feature [intrigued] present in test data point [True]\n",
      "18946 Text feature [yeast] present in test data point [True]\n",
      "19005 Text feature [959] present in test data point [True]\n",
      "19137 Text feature [truncations] present in test data point [True]\n",
      "19140 Text feature [shuttles] present in test data point [True]\n",
      "19459 Text feature [truncating] present in test data point [True]\n",
      "19481 Text feature [reexpression] present in test data point [True]\n",
      "19494 Text feature [492] present in test data point [True]\n",
      "19524 Text feature [protrusion] present in test data point [True]\n",
      "19676 Text feature [exposes] present in test data point [True]\n",
      "19911 Text feature [ethanolamine] present in test data point [True]\n",
      "20165 Text feature [nucleoplasmic] present in test data point [True]\n",
      "20279 Text feature [asymmetry] present in test data point [True]\n",
      "20363 Text feature [abolish] present in test data point [True]\n",
      "20380 Text feature [alternating] present in test data point [True]\n",
      "20397 Text feature [oropharyngeal] present in test data point [True]\n",
      "20556 Text feature [haploid] present in test data point [True]\n",
      "20654 Text feature [dock] present in test data point [True]\n",
      "21289 Text feature [analyte] present in test data point [True]\n",
      "22008 Text feature [mediator] present in test data point [True]\n",
      "22028 Text feature [185] present in test data point [True]\n",
      "22032 Text feature [866] present in test data point [True]\n",
      "22059 Text feature [phosphorimaging] present in test data point [True]\n",
      "22139 Text feature [geneset] present in test data point [True]\n",
      "22290 Text feature [groove] present in test data point [True]\n",
      "22337 Text feature [heat] present in test data point [True]\n",
      "22462 Text feature [cancer17] present in test data point [True]\n",
      "22517 Text feature [likelihood] present in test data point [True]\n",
      "22582 Text feature [resin] present in test data point [True]\n",
      "22624 Text feature [acceptors] present in test data point [True]\n",
      "22737 Text feature [described12] present in test data point [True]\n",
      "22749 Text feature [p38] present in test data point [True]\n",
      "22811 Text feature [posterior] present in test data point [True]\n",
      "22815 Text feature [rigid] present in test data point [True]\n",
      "22868 Text feature [methyltransferase] present in test data point [True]\n",
      "22901 Text feature [knowing] present in test data point [True]\n",
      "23074 Text feature [branches] present in test data point [True]\n",
      "23288 Text feature [untagged] present in test data point [True]\n",
      "23418 Text feature [lamin] present in test data point [True]\n",
      "23430 Text feature [fingerprints] present in test data point [True]\n",
      "23486 Text feature [prefer] present in test data point [True]\n",
      "23550 Text feature [stathmin] present in test data point [True]\n",
      "23832 Text feature [orthologous] present in test data point [True]\n",
      "24015 Text feature [huge] present in test data point [True]\n",
      "24145 Text feature [ensues] present in test data point [True]\n",
      "24391 Text feature [80i] present in test data point [True]\n",
      "24576 Text feature [activity20] present in test data point [True]\n",
      "24788 Text feature [dephosphorylation] present in test data point [True]\n",
      "24821 Text feature [frameshift] present in test data point [True]\n",
      "24862 Text feature [swabs] present in test data point [True]\n",
      "24951 Text feature [outlook] present in test data point [True]\n",
      "24989 Text feature [dielectric] present in test data point [True]\n",
      "24992 Text feature [probability] present in test data point [True]\n",
      "24999 Text feature [ventral] present in test data point [True]\n",
      "25070 Text feature [disc] present in test data point [True]\n",
      "25131 Text feature [ellipticity] present in test data point [True]\n",
      "25263 Text feature [countered] present in test data point [True]\n",
      "25477 Text feature [lip] present in test data point [True]\n",
      "25533 Text feature [splicing] present in test data point [True]\n",
      "25545 Text feature [transcriptomic] present in test data point [True]\n",
      "25667 Text feature [equals] present in test data point [True]\n",
      "25739 Text feature [modes] present in test data point [True]\n",
      "25773 Text feature [tight] present in test data point [True]\n",
      "25827 Text feature [epidemiologic] present in test data point [True]\n",
      "25836 Text feature [zeste] present in test data point [True]\n",
      "25886 Text feature [bortezomib] present in test data point [True]\n",
      "25911 Text feature [flexibility] present in test data point [True]\n",
      "26018 Text feature [keratinocyte] present in test data point [True]\n",
      "26029 Text feature [ionomycin] present in test data point [True]\n",
      "26050 Text feature [sequester] present in test data point [True]\n",
      "26052 Text feature [gal] present in test data point [True]\n",
      "26057 Text feature [export] present in test data point [True]\n",
      "26122 Text feature [repressive] present in test data point [True]\n",
      "26175 Text feature [paramagnetic] present in test data point [True]\n",
      "26212 Text feature [damaging] present in test data point [True]\n",
      "26264 Text feature [discordant] present in test data point [True]\n",
      "26273 Text feature [936] present in test data point [True]\n",
      "26367 Text feature [beta] present in test data point [True]\n",
      "26559 Text feature [ideograms] present in test data point [True]\n",
      "26680 Text feature [protooncogenes] present in test data point [True]\n",
      "27356 Gene feature [mapk1] present in test data point [True]\n",
      "27635 Text feature [quaternary] present in test data point [True]\n",
      "27654 Text feature [plant] present in test data point [True]\n",
      "27655 Text feature [unstructured] present in test data point [True]\n"
     ]
    },
    {
     "name": "stdout",
     "output_type": "stream",
     "text": [
      "27698 Text feature [sources] present in test data point [True]\n",
      "27803 Text feature [prolymphocytic] present in test data point [True]\n",
      "27852 Text feature [doxycyline] present in test data point [True]\n",
      "27871 Text feature [manipulations] present in test data point [True]\n",
      "27884 Text feature [stacking] present in test data point [True]\n",
      "27917 Text feature [pulldown] present in test data point [True]\n",
      "28330 Text feature [normalizing] present in test data point [True]\n",
      "28407 Text feature [blunting] present in test data point [True]\n",
      "28539 Text feature [donors] present in test data point [True]\n",
      "28583 Text feature [nonsense] present in test data point [True]\n",
      "28610 Text feature [insertional] present in test data point [True]\n",
      "28808 Text feature [aggregate] present in test data point [True]\n",
      "28866 Text feature [orientations] present in test data point [True]\n",
      "29091 Text feature [neoadjuvant] present in test data point [True]\n",
      "29130 Text feature [multivalent] present in test data point [True]\n",
      "29189 Text feature [phenocopy] present in test data point [True]\n",
      "29213 Text feature [nicely] present in test data point [True]\n",
      "29619 Text feature [endofree] present in test data point [True]\n",
      "29638 Text feature [dichroism] present in test data point [True]\n",
      "29948 Text feature [reexpressing] present in test data point [True]\n",
      "31055 Text feature [relax] present in test data point [True]\n",
      "31065 Text feature [410] present in test data point [True]\n",
      "31082 Text feature [defect] present in test data point [True]\n",
      "31148 Text feature [dissimilar] present in test data point [True]\n",
      "31408 Text feature [virtual] present in test data point [True]\n",
      "31474 Text feature [reconstruction] present in test data point [True]\n",
      "31530 Text feature [uncomplicated] present in test data point [True]\n",
      "31626 Text feature [260] present in test data point [True]\n",
      "31633 Text feature [transformants] present in test data point [True]\n",
      "31713 Text feature [eyes] present in test data point [True]\n",
      "31717 Text feature [neomycin] present in test data point [True]\n",
      "31733 Text feature [dihedral] present in test data point [True]\n",
      "31817 Text feature [gamma] present in test data point [True]\n",
      "31821 Text feature [spliced] present in test data point [True]\n",
      "31845 Text feature [elaborate] present in test data point [True]\n",
      "31850 Text feature [flies] present in test data point [True]\n",
      "31856 Text feature [cytoskeletal] present in test data point [True]\n",
      "31967 Text feature [discontinuous] present in test data point [True]\n",
      "31973 Text feature [ternary] present in test data point [True]\n",
      "31984 Text feature [utilizes] present in test data point [True]\n",
      "31985 Text feature [rescue] present in test data point [True]\n",
      "31986 Text feature [radiolabeled] present in test data point [True]\n",
      "32061 Text feature [corrected] present in test data point [True]\n",
      "32170 Text feature [perturbed] present in test data point [True]\n",
      "32211 Text feature [outlier] present in test data point [True]\n",
      "32221 Text feature [noticeable] present in test data point [True]\n",
      "32331 Text feature [difficulty] present in test data point [True]\n",
      "32342 Text feature [wildtype] present in test data point [True]\n",
      "32377 Text feature [duplexes] present in test data point [True]\n",
      "32394 Text feature [correction] present in test data point [True]\n",
      "32497 Text feature [vendors] present in test data point [True]\n",
      "32535 Text feature [graphed] present in test data point [True]\n",
      "32543 Text feature [958] present in test data point [True]\n",
      "32882 Text feature [tells] present in test data point [True]\n",
      "32913 Text feature [500g] present in test data point [True]\n",
      "32922 Text feature [geometric] present in test data point [True]\n",
      "32930 Text feature [plasmon] present in test data point [True]\n",
      "33019 Text feature [calculations] present in test data point [True]\n",
      "33041 Text feature [401] present in test data point [True]\n",
      "33078 Text feature [phosphoprotein] present in test data point [True]\n",
      "33127 Text feature [tracked] present in test data point [True]\n",
      "33196 Text feature [variants] present in test data point [True]\n",
      "33232 Text feature [bacterially] present in test data point [True]\n",
      "33276 Text feature [bear] present in test data point [True]\n",
      "33287 Text feature [interacted] present in test data point [True]\n",
      "33311 Text feature [cavity] present in test data point [True]\n",
      "33331 Text feature [fly] present in test data point [True]\n",
      "33346 Text feature [minimized] present in test data point [True]\n",
      "33348 Text feature [box] present in test data point [True]\n",
      "33359 Text feature [8q] present in test data point [True]\n",
      "33411 Text feature [wavelength] present in test data point [True]\n",
      "33416 Text feature [renilla] present in test data point [True]\n",
      "33459 Text feature [phosphorimager] present in test data point [True]\n",
      "33677 Text feature [homodimer] present in test data point [True]\n",
      "33706 Text feature [insight] present in test data point [True]\n",
      "33724 Text feature [preserving] present in test data point [True]\n",
      "33745 Text feature [wished] present in test data point [True]\n",
      "33778 Text feature [coupling] present in test data point [True]\n",
      "33822 Text feature [defective] present in test data point [True]\n",
      "33828 Text feature [carboxyl] present in test data point [True]\n",
      "33829 Text feature [atomic] present in test data point [True]\n",
      "33918 Text feature [recognizes] present in test data point [True]\n",
      "33928 Text feature [methodologies] present in test data point [True]\n",
      "33959 Text feature [validity] present in test data point [True]\n",
      "33992 Text feature [angioimmunoblastic] present in test data point [True]\n",
      "34078 Text feature [microtubules] present in test data point [True]\n",
      "34138 Text feature [energies] present in test data point [True]\n",
      "34141 Text feature [pore] present in test data point [True]\n",
      "34188 Text feature [myelin] present in test data point [True]\n",
      "34192 Text feature [rescued] present in test data point [True]\n",
      "34242 Text feature [crystallography] present in test data point [True]\n",
      "34262 Text feature [ara] present in test data point [True]\n",
      "34278 Text feature [p90] present in test data point [True]\n",
      "34284 Text feature [p50] present in test data point [True]\n",
      "35571 Text feature [theory] present in test data point [True]\n",
      "35598 Text feature [granulocytes] present in test data point [True]\n",
      "35612 Text feature [stringent] present in test data point [True]\n",
      "35624 Text feature [equaled] present in test data point [True]\n",
      "35685 Text feature [wing] present in test data point [True]\n",
      "35711 Text feature [dephosphorylates] present in test data point [True]\n",
      "35768 Text feature [refolding] present in test data point [True]\n",
      "35841 Text feature [bilateral] present in test data point [True]\n",
      "35883 Text feature [variations] present in test data point [True]\n",
      "35903 Text feature [reject] present in test data point [True]\n",
      "35927 Text feature [velocity] present in test data point [True]\n",
      "35951 Text feature [960] present in test data point [True]\n",
      "35979 Text feature [buccal] present in test data point [True]\n",
      "36093 Text feature [workflow] present in test data point [True]\n",
      "36514 Text feature [described13] present in test data point [True]\n",
      "36675 Text feature [7300] present in test data point [True]\n",
      "36785 Text feature [rigorous] present in test data point [True]\n",
      "36788 Text feature [assumed] present in test data point [True]\n",
      "36804 Text feature [4500] present in test data point [True]\n",
      "37001 Text feature [computationally] present in test data point [True]\n",
      "37021 Text feature [phosphoryl] present in test data point [True]\n",
      "37038 Text feature [migrating] present in test data point [True]\n",
      "37054 Text feature [strain] present in test data point [True]\n",
      "37061 Text feature [speculation] present in test data point [True]\n",
      "37067 Text feature [monophosphate] present in test data point [True]\n",
      "37103 Text feature [histone] present in test data point [True]\n",
      "37117 Text feature [speed] present in test data point [True]\n",
      "37137 Text feature [converse] present in test data point [True]\n",
      "37202 Text feature [acetyltransferase] present in test data point [True]\n",
      "37211 Text feature [supermix] present in test data point [True]\n",
      "37215 Text feature [guanylate] present in test data point [True]\n",
      "37267 Text feature [choose] present in test data point [True]\n",
      "37306 Text feature [instrumental] present in test data point [True]\n",
      "37364 Text feature [359] present in test data point [True]\n"
     ]
    },
    {
     "name": "stdout",
     "output_type": "stream",
     "text": [
      "37376 Text feature [transactivation] present in test data point [True]\n",
      "37390 Text feature [cervical] present in test data point [True]\n",
      "37474 Text feature [transductions] present in test data point [True]\n",
      "37621 Text feature [expansive] present in test data point [True]\n",
      "38431 Text feature [diminishes] present in test data point [True]\n",
      "38452 Text feature [vacuum] present in test data point [True]\n",
      "38467 Text feature [myristate] present in test data point [True]\n",
      "38474 Text feature [empirical] present in test data point [True]\n",
      "38477 Text feature [homeostatic] present in test data point [True]\n",
      "38500 Text feature [supervision] present in test data point [True]\n",
      "38607 Text feature [flexible] present in test data point [True]\n",
      "38837 Text feature [sphere] present in test data point [True]\n",
      "38864 Text feature [bacterial] present in test data point [True]\n",
      "38880 Text feature [exomes] present in test data point [True]\n",
      "38900 Text feature [fragile] present in test data point [True]\n",
      "39185 Text feature [enters] present in test data point [True]\n",
      "39228 Text feature [compromise] present in test data point [True]\n",
      "39230 Text feature [recognition] present in test data point [True]\n",
      "39262 Text feature [manuscript] present in test data point [True]\n",
      "39290 Text feature [papilloma] present in test data point [True]\n",
      "39311 Text feature [integral] present in test data point [True]\n",
      "39317 Text feature [calling] present in test data point [True]\n",
      "39365 Text feature [geometry] present in test data point [True]\n",
      "39428 Text feature [reproducibility] present in test data point [True]\n",
      "39429 Text feature [substrates] present in test data point [True]\n",
      "39441 Text feature [null] present in test data point [True]\n",
      "39504 Text feature [scanning] present in test data point [True]\n",
      "39544 Text feature [built] present in test data point [True]\n",
      "39599 Text feature [scaffold] present in test data point [True]\n",
      "39639 Text feature [advantageous] present in test data point [True]\n",
      "39642 Text feature [subgroups] present in test data point [True]\n",
      "39697 Text feature [daughter] present in test data point [True]\n",
      "39711 Text feature [correspond] present in test data point [True]\n",
      "39734 Text feature [termination] present in test data point [True]\n",
      "39735 Text feature [erk2] present in test data point [True]\n",
      "39816 Text feature [experimentally] present in test data point [True]\n",
      "39834 Text feature [scheduled] present in test data point [True]\n",
      "39952 Text feature [programs] present in test data point [True]\n",
      "40436 Text feature [terminally] present in test data point [True]\n",
      "40441 Text feature [distributions] present in test data point [True]\n",
      "40484 Text feature [remodeling] present in test data point [True]\n",
      "40557 Text feature [convergent] present in test data point [True]\n",
      "40570 Text feature [optical] present in test data point [True]\n",
      "40576 Text feature [eggs] present in test data point [True]\n",
      "40613 Text feature [uncomplexed] present in test data point [True]\n",
      "40623 Text feature [rings] present in test data point [True]\n",
      "40672 Text feature [adenopathy] present in test data point [True]\n",
      "40753 Text feature [815] present in test data point [True]\n",
      "40836 Text feature [catalysis] present in test data point [True]\n",
      "40849 Text feature [premature] present in test data point [True]\n",
      "40857 Text feature [grossly] present in test data point [True]\n",
      "40895 Text feature [and44] present in test data point [True]\n",
      "40897 Text feature [chemotherapeutics] present in test data point [True]\n",
      "40899 Text feature [spectroscopy] present in test data point [True]\n",
      "40904 Text feature [implemented] present in test data point [True]\n",
      "40924 Text feature [displaces] present in test data point [True]\n",
      "40940 Text feature [ensured] present in test data point [True]\n",
      "40951 Text feature [physiologically] present in test data point [True]\n",
      "40954 Text feature [tongue] present in test data point [True]\n",
      "40959 Text feature [filling] present in test data point [True]\n",
      "40982 Text feature [minimizing] present in test data point [True]\n",
      "40988 Text feature [framework] present in test data point [True]\n",
      "41053 Text feature [permissive] present in test data point [True]\n",
      "41058 Text feature [versa] present in test data point [True]\n",
      "41079 Text feature [anchor] present in test data point [True]\n",
      "41080 Text feature [dissection] present in test data point [True]\n",
      "41084 Text feature [spectral] present in test data point [True]\n",
      "41293 Text feature [previously44] present in test data point [True]\n",
      "41800 Text feature [carcinogenic] present in test data point [True]\n",
      "41818 Text feature [facilitated] present in test data point [True]\n",
      "41819 Text feature [excitation] present in test data point [True]\n",
      "41877 Text feature [fertilized] present in test data point [True]\n",
      "41947 Text feature [mycoplasma] present in test data point [True]\n",
      "41963 Text feature [immobilized] present in test data point [True]\n",
      "41975 Text feature [splice] present in test data point [True]\n",
      "41989 Text feature [missense] present in test data point [True]\n",
      "42014 Text feature [optimization] present in test data point [True]\n",
      "42047 Text feature [sensitized] present in test data point [True]\n",
      "42053 Text feature [preserve] present in test data point [True]\n",
      "42290 Text feature [upright] present in test data point [True]\n",
      "42485 Text feature [coli] present in test data point [True]\n",
      "42494 Text feature [doing] present in test data point [True]\n",
      "42501 Text feature [urea] present in test data point [True]\n",
      "42568 Text feature [equilibrated] present in test data point [True]\n",
      "42633 Text feature [gradually] present in test data point [True]\n",
      "42635 Text feature [retention] present in test data point [True]\n",
      "42676 Text feature [preference] present in test data point [True]\n",
      "42769 Text feature [dabrafenib] present in test data point [True]\n",
      "42792 Text feature [repetitive] present in test data point [True]\n",
      "42814 Text feature [hydrochloride] present in test data point [True]\n",
      "42819 Text feature [avoiding] present in test data point [True]\n",
      "43108 Text feature [triple] present in test data point [True]\n",
      "43116 Text feature [foci] present in test data point [True]\n",
      "43121 Text feature [redistribution] present in test data point [True]\n",
      "43129 Text feature [docks] present in test data point [True]\n",
      "43144 Text feature [lethality] present in test data point [True]\n",
      "43152 Text feature [1980s] present in test data point [True]\n",
      "43172 Text feature [330] present in test data point [True]\n",
      "43198 Text feature [hydrogens] present in test data point [True]\n",
      "43200 Text feature [fibrosarcoma] present in test data point [True]\n",
      "43224 Text feature [phosphatases] present in test data point [True]\n",
      "43238 Text feature [219] present in test data point [True]\n",
      "43244 Text feature [terminate] present in test data point [True]\n",
      "43285 Text feature [capture] present in test data point [True]\n",
      "43298 Text feature [gastric] present in test data point [True]\n",
      "43305 Text feature [papillomavirus] present in test data point [True]\n",
      "43315 Text feature [transmit] present in test data point [True]\n",
      "43322 Text feature [utilize] present in test data point [True]\n",
      "43332 Text feature [immortalized] present in test data point [True]\n",
      "43348 Text feature [microtubule] present in test data point [True]\n",
      "43359 Text feature [stands] present in test data point [True]\n",
      "43431 Text feature [spectra] present in test data point [True]\n",
      "43437 Text feature [quenching] present in test data point [True]\n",
      "43469 Text feature [variant] present in test data point [True]\n",
      "43470 Text feature [engage] present in test data point [True]\n",
      "43472 Text feature [expectation] present in test data point [True]\n",
      "43519 Text feature [etiological] present in test data point [True]\n",
      "43543 Text feature [scores] present in test data point [True]\n",
      "43558 Text feature [radius] present in test data point [True]\n",
      "43569 Text feature [uses] present in test data point [True]\n",
      "43593 Text feature [depleting] present in test data point [True]\n",
      "43610 Text feature [curious] present in test data point [True]\n",
      "43618 Text feature [endometrial] present in test data point [True]\n",
      "43663 Text feature [pairwise] present in test data point [True]\n",
      "43664 Text feature [synergy] present in test data point [True]\n",
      "43675 Text feature [turns] present in test data point [True]\n",
      "43677 Text feature [titration] present in test data point [True]\n"
     ]
    },
    {
     "name": "stdout",
     "output_type": "stream",
     "text": [
      "43692 Text feature [cm2] present in test data point [True]\n",
      "43696 Text feature [dozens] present in test data point [True]\n",
      "43712 Text feature [17q] present in test data point [True]\n",
      "43734 Text feature [buffers] present in test data point [True]\n",
      "43738 Text feature [isopropyl] present in test data point [True]\n"
     ]
    }
   ],
   "source": [
    "for i in range(10):\n",
    "  test_point_index = i\n",
    "  no_feature = 50\n",
    "  predicted_cls = sig_clf.predict(test_x_onehotCoding[test_point_index])\n",
    "  print(\"Predicted Class :\", predicted_cls[0])\n",
    "  print(\"Predicted Class Probabilities:\", np.round(sig_clf.predict_proba(test_x_onehotCoding[test_point_index]),4))\n",
    "  print(\"Actual Class :\", test_y[test_point_index])\n",
    "  indices=np.argsort(-1*abs(clf.coef_))[predicted_cls-1][:,:]\n",
    "  print(\"-\"*50)\n",
    "  get_impfeature_names(indices[0], x_test['TEXT'].iloc[test_point_index],x_test['Gene'].iloc[test_point_index].lower(),x_test['Variation'].iloc[test_point_index], no_feature)"
   ]
  },
  {
   "cell_type": "code",
   "execution_count": null,
   "metadata": {},
   "outputs": [],
   "source": [
    "#Feature Importance, Incorrectly classified point\n",
    "test_point_index = 100\n",
    "no_feature = 100\n",
    "predicted_cls = sig_clf.predict(test_x_onehotCoding[test_point_index])\n",
    "print(\"Predicted Class :\", predicted_cls[0])\n",
    "print(\"Predicted Class Probabilities:\", np.round(sig_clf.predict_proba(test_x_onehotCoding[test_point_index]),4))\n",
    "print(\"Actual Class :\", test_y[test_point_index])\n",
    "indices = np.argsort(-1*abs(clf.coef_))[predicted_cls-1][:,:no_feature]\n",
    "print(\"-\"*50)\n",
    "get_impfeature_names(indices[0], x_test['TEXT'].iloc[test_point_index],x_test['Gene'].iloc[test_point_index],x_test['Variation'].iloc[test_point_index], no_feature)"
   ]
  },
  {
   "cell_type": "markdown",
   "metadata": {},
   "source": [
    "# KNN Nearest Neighbour classification"
   ]
  },
  {
   "cell_type": "code",
   "execution_count": null,
   "metadata": {},
   "outputs": [],
   "source": [
    "# hyperparameter tuning\n",
    "alpha = [5, 11, 15, 21, 31, 41, 51, 99]\n",
    "cv_log_error_array = []\n",
    "for i in alpha:\n",
    "    print(\"for alpha =\", i)\n",
    "    clf = KNeighborsClassifier(n_neighbors=i)\n",
    "    clf.fit(train_x_responseCoding, train_y)\n",
    "    sig_clf = CalibratedClassifierCV(clf, method=\"sigmoid\")\n",
    "    sig_clf.fit(train_x_responseCoding, train_y)\n",
    "    sig_clf_probs = sig_clf.predict_proba(cv_x_responseCoding)\n",
    "    cv_log_error_array.append(log_loss(cv_y, sig_clf_probs, labels=clf.classes_, eps=1e-15))\n",
    "    # to avoid rounding error while multiplying probabilites we use log-probability estimates\n",
    "    print(\"Log Loss :\",log_loss(cv_y, sig_clf_probs)) \n",
    "\n",
    "fig, ax = plt.subplots()\n",
    "ax.plot(alpha, cv_log_error_array,c='g')\n",
    "for i, txt in enumerate(np.round(cv_log_error_array,3)):\n",
    "    ax.annotate((alpha[i],str(txt)), (alpha[i],cv_log_error_array[i]))\n",
    "plt.grid()\n",
    "plt.title(\"Cross Validation Error for each alpha\")\n",
    "plt.xlabel(\"Alpha i's\")\n",
    "plt.ylabel(\"Error measure\")\n",
    "plt.show()\n",
    "\n",
    "\n",
    "best_alpha = np.argmin(cv_log_error_array)\n",
    "clf = KNeighborsClassifier(n_neighbors=alpha[best_alpha])\n",
    "clf.fit(train_x_responseCoding, train_y)\n",
    "sig_clf = CalibratedClassifierCV(clf, method=\"sigmoid\")\n",
    "sig_clf.fit(train_x_responseCoding, train_y)\n",
    "\n",
    "predict_y = sig_clf.predict_proba(train_x_responseCoding)\n",
    "print('For values of best alpha = ', alpha[best_alpha], \"The train log loss is:\",log_loss(y_train, predict_y, labels=clf.classes_, eps=1e-15))\n",
    "predict_y = sig_clf.predict_proba(cv_x_responseCoding)\n",
    "print('For values of best alpha = ', alpha[best_alpha], \"The cross validation log loss is:\",log_loss(cv_y, predict_y, labels=clf.classes_, eps=1e-15))\n",
    "predict_y = sig_clf.predict_proba(test_x_responseCoding)\n",
    "print('For values of best alpha = ', alpha[best_alpha], \"The test log loss is:\",log_loss(y_test, predict_y, labels=clf.classes_, eps=1e-15))\n"
   ]
  },
  {
   "cell_type": "code",
   "execution_count": null,
   "metadata": {},
   "outputs": [],
   "source": [
    "# Testing the model with best hyper parameter\n",
    "clf = KNeighborsClassifier(n_neighbors=alpha[best_alpha])\n",
    "predict_and_plot_confusion_matrix(train_x_responseCoding, train_y, cv_x_responseCoding, cv_y, clf)"
   ]
  },
  {
   "cell_type": "code",
   "execution_count": null,
   "metadata": {},
   "outputs": [],
   "source": [
    "#sample query point-1\n",
    "clf = KNeighborsClassifier(n_neighbors=alpha[best_alpha])\n",
    "clf.fit(train_x_responseCoding, train_y)\n",
    "sig_clf = CalibratedClassifierCV(clf, method=\"sigmoid\")\n",
    "sig_clf.fit(train_x_responseCoding, train_y)\n",
    "\n",
    "test_point_index = 1\n",
    "predicted_cls = sig_clf.predict(test_x_responseCoding[0].reshape(1,-1))\n",
    "print(\"Predicted Class :\", predicted_cls[0])\n",
    "print(\"Actual Class :\", test_y[test_point_index])\n",
    "neighbors = clf.kneighbors(test_x_responseCoding[test_point_index].reshape(1, -1), alpha[best_alpha])\n",
    "print(\"The \",alpha[best_alpha],\" nearest neighbours of the test points belongs to classes\",train_y[neighbors[1][0]])\n",
    "print(\"Fequency of nearest points :\",Counter(train_y[neighbors[1][0]]))"
   ]
  },
  {
   "cell_type": "code",
   "execution_count": null,
   "metadata": {},
   "outputs": [],
   "source": [
    "#sample query point-2\n",
    "clf = KNeighborsClassifier(n_neighbors=alpha[best_alpha])\n",
    "clf.fit(train_x_responseCoding, train_y)\n",
    "sig_clf = CalibratedClassifierCV(clf, method=\"sigmoid\")\n",
    "sig_clf.fit(train_x_responseCoding, train_y)\n",
    "\n",
    "test_point_index = 100\n",
    "\n",
    "predicted_cls = sig_clf.predict(test_x_responseCoding[test_point_index].reshape(1,-1))\n",
    "print(\"Predicted Class :\", predicted_cls[0])\n",
    "print(\"Actual Class :\", test_y[test_point_index])\n",
    "neighbors = clf.kneighbors(test_x_responseCoding[test_point_index].reshape(1, -1), alpha[best_alpha])\n",
    "print(\"the k value for knn is\",alpha[best_alpha],\"and the nearest neighbours of the test points belongs to classes\",train_y[neighbors[1][0]])\n",
    "print(\"Fequency of nearest points :\",Counter(train_y[neighbors[1][0]]))"
   ]
  },
  {
   "cell_type": "markdown",
   "metadata": {},
   "source": [
    "# Logistic Regression\n",
    "\n",
    "# 1)with class balancing\n",
    "# hyperparameter tuning"
   ]
  },
  {
   "cell_type": "code",
   "execution_count": null,
   "metadata": {},
   "outputs": [],
   "source": [
    "alpha = [10 ** x for x in range(-6, 3)]\n",
    "cv_log_error_array = []\n",
    "for i in alpha:\n",
    "    print(\"for alpha =\", i)\n",
    "    clf = SGDClassifier(class_weight='balanced', alpha=i, penalty='l2', loss='log', random_state=42)\n",
    "    clf.fit(train_x_onehotCoding, train_y)\n",
    "    sig_clf = CalibratedClassifierCV(clf, method=\"sigmoid\")\n",
    "    sig_clf.fit(train_x_onehotCoding, train_y)\n",
    "    sig_clf_probs = sig_clf.predict_proba(cv_x_onehotCoding)\n",
    "    cv_log_error_array.append(log_loss(cv_y, sig_clf_probs, labels=clf.classes_, eps=1e-15))\n",
    "    # to avoid rounding error while multiplying probabilites we use log-probability estimates\n",
    "    print(\"Log Loss :\",log_loss(cv_y, sig_clf_probs)) \n",
    "\n",
    "fig, ax = plt.subplots()\n",
    "ax.plot(alpha, cv_log_error_array,c='g')\n",
    "for i, txt in enumerate(np.round(cv_log_error_array,3)):\n",
    "    ax.annotate((alpha[i],str(txt)), (alpha[i],cv_log_error_array[i]))\n",
    "plt.grid()\n",
    "plt.title(\"Cross Validation Error for each alpha\")\n",
    "plt.xlabel(\"Alpha i's\")\n",
    "plt.ylabel(\"Error measure\")\n",
    "plt.show()\n",
    "\n",
    "\n",
    "best_alpha = np.argmin(cv_log_error_array)\n",
    "clf = SGDClassifier(class_weight='balanced', alpha=alpha[best_alpha], penalty='l2', loss='log', random_state=42)\n",
    "clf.fit(train_x_onehotCoding, train_y)\n",
    "sig_clf = CalibratedClassifierCV(clf, method=\"sigmoid\")\n",
    "sig_clf.fit(train_x_onehotCoding, train_y)\n",
    "\n",
    "predict_y = sig_clf.predict_proba(train_x_onehotCoding)\n",
    "print('For values of best alpha = ', alpha[best_alpha], \"The train log loss is:\",log_loss(y_train, predict_y, labels=clf.classes_, eps=1e-15))\n",
    "predict_y = sig_clf.predict_proba(cv_x_onehotCoding)\n",
    "print('For values of best alpha = ', alpha[best_alpha], \"The cross validation log loss is:\",log_loss(y_cv, predict_y, labels=clf.classes_, eps=1e-15))\n",
    "predict_y = sig_clf.predict_proba(test_x_onehotCoding)\n",
    "print('For values of best alpha = ', alpha[best_alpha], \"The test log loss is:\",log_loss(y_test, predict_y, labels=clf.classes_, eps=1e-15))"
   ]
  },
  {
   "cell_type": "code",
   "execution_count": null,
   "metadata": {},
   "outputs": [],
   "source": [
    "# Testing the model with best hyper parameter\n",
    "clf = SGDClassifier(class_weight='balanced', alpha=alpha[best_alpha], penalty='l2', loss='log', random_state=42)\n",
    "predict_and_plot_confusion_matrix(train_x_onehotCoding, train_y, cv_x_onehotCoding, cv_y, clf)"
   ]
  },
  {
   "cell_type": "code",
   "execution_count": null,
   "metadata": {},
   "outputs": [],
   "source": [
    "# Feature importance\n",
    "def get_imp_feature_names(text, indices, removed_ind = []):\n",
    "    word_present = 0\n",
    "    tabulte_list = []\n",
    "    incresingorder_ind = 0\n",
    "    for i in indices:\n",
    "        if i < train_gene_feature_onehotCoding.shape[1]:\n",
    "            tabulte_list.append([incresingorder_ind, \"Gene\", \"Yes\"])\n",
    "        elif i< 18:\n",
    "            tabulte_list.append([incresingorder_ind,\"Variation\", \"Yes\"])\n",
    "        if ((i > 17) & (i not in removed_ind)) :\n",
    "            word = train_text_features[i]\n",
    "            yes_no = True if word in text.split() else False\n",
    "            if yes_no:\n",
    "                word_present += 1\n",
    "            tabulte_list.append([incresingorder_ind,train_text_features[i], yes_no])\n",
    "        incresingorder_ind += 1\n",
    "    print(word_present, \"most importent features are present in our query point\")\n",
    "    print(\"-\"*50)\n",
    "    print(\"The features that are most importent of the \",predicted_cls[0],\" class:\")\n",
    "    print (tabulate(tabulte_list, headers=[\"Index\",'Feature name', 'Present or Not']))"
   ]
  },
  {
   "cell_type": "code",
   "execution_count": null,
   "metadata": {},
   "outputs": [],
   "source": [
    "# correctly classified point\n",
    "# from tabulate import tabulate\n",
    "clf = SGDClassifier(class_weight='balanced', alpha=alpha[best_alpha], penalty='l2', loss='log', random_state=42)\n",
    "clf.fit(train_x_onehotCoding,train_y)\n",
    "test_point_index = 1\n",
    "no_feature = 500\n",
    "predicted_cls = sig_clf.predict(test_x_onehotCoding[test_point_index])\n",
    "print(\"Predicted Class :\", predicted_cls[0])\n",
    "print(\"Predicted Class Probabilities:\", np.round(sig_clf.predict_proba(test_x_onehotCoding[test_point_index]),4))\n",
    "print(\"Actual Class :\", test_y[test_point_index])\n",
    "indices = np.argsort(-1*abs(clf.coef_))[predicted_cls-1][:,:no_feature]\n",
    "print(\"-\"*50)\n",
    "get_impfeature_names(indices[0], x_test['TEXT'].iloc[test_point_index],x_test['Gene'].iloc[test_point_index],x_test['Variation'].iloc[test_point_index], no_feature)"
   ]
  },
  {
   "cell_type": "code",
   "execution_count": null,
   "metadata": {},
   "outputs": [],
   "source": [
    "# incorrectly classified point\n",
    "test_point_index = 100\n",
    "no_feature = 500\n",
    "predicted_cls = sig_clf.predict(test_x_onehotCoding[test_point_index])\n",
    "print(\"Predicted Class :\", predicted_cls[0])\n",
    "print(\"Predicted Class Probabilities:\", np.round(sig_clf.predict_proba(test_x_onehotCoding[test_point_index]),4))\n",
    "print(\"Actual Class :\", test_y[test_point_index])\n",
    "indices = np.argsort(-1*abs(clf.coef_))[predicted_cls-1][:,:no_feature]\n",
    "print(\"-\"*50)\n",
    "get_impfeature_names(indices[0], test_df['TEXT'].iloc[test_point_index],test_df['Gene'].iloc[test_point_index],test_df['Variation'].iloc[test_point_index], no_feature)"
   ]
  },
  {
   "cell_type": "markdown",
   "metadata": {},
   "source": [
    "# without class balancing\n"
   ]
  },
  {
   "cell_type": "code",
   "execution_count": null,
   "metadata": {},
   "outputs": [],
   "source": [
    "#hyperparameter tuning\n",
    "alpha = [10 ** x for x in range(-6, 1)]\n",
    "cv_log_error_array = []\n",
    "for i in alpha:\n",
    "    print(\"for alpha =\", i)\n",
    "    clf = SGDClassifier(alpha=i, penalty='l2', loss='log', random_state=42)\n",
    "    clf.fit(train_x_onehotCoding, train_y)\n",
    "    sig_clf = CalibratedClassifierCV(clf, method=\"sigmoid\")\n",
    "    sig_clf.fit(train_x_onehotCoding, train_y)\n",
    "    sig_clf_probs = sig_clf.predict_proba(cv_x_onehotCoding)\n",
    "    cv_log_error_array.append(log_loss(cv_y, sig_clf_probs, labels=clf.classes_, eps=1e-15))\n",
    "    print(\"Log Loss :\",log_loss(cv_y, sig_clf_probs)) \n",
    "\n",
    "fig, ax = plt.subplots()\n",
    "ax.plot(alpha, cv_log_error_array,c='g')\n",
    "for i, txt in enumerate(np.round(cv_log_error_array,3)):\n",
    "    ax.annotate((alpha[i],str(txt)), (alpha[i],cv_log_error_array[i]))\n",
    "plt.grid()\n",
    "plt.title(\"Cross Validation Error for each alpha\")\n",
    "plt.xlabel(\"Alpha i's\")\n",
    "plt.ylabel(\"Error measure\")\n",
    "plt.show()\n",
    "\n",
    "\n",
    "best_alpha = np.argmin(cv_log_error_array)\n",
    "clf = SGDClassifier(alpha=alpha[best_alpha], penalty='l2', loss='log', random_state=42)\n",
    "clf.fit(train_x_onehotCoding, train_y)\n",
    "sig_clf = CalibratedClassifierCV(clf, method=\"sigmoid\")\n",
    "sig_clf.fit(train_x_onehotCoding, train_y)\n",
    "\n",
    "predict_y = sig_clf.predict_proba(train_x_onehotCoding)\n",
    "print('For values of best alpha = ', alpha[best_alpha], \"The train log loss is:\",log_loss(y_train, predict_y, labels=clf.classes_, eps=1e-15))\n",
    "predict_y = sig_clf.predict_proba(cv_x_onehotCoding)\n",
    "print('For values of best alpha = ', alpha[best_alpha], \"The cross validation log loss is:\",log_loss(y_cv, predict_y, labels=clf.classes_, eps=1e-15))\n",
    "predict_y = sig_clf.predict_proba(test_x_onehotCoding)\n",
    "print('For values of best alpha = ', alpha[best_alpha], \"The test log loss is:\",log_loss(y_test, predict_y, labels=clf.classes_, eps=1e-15))"
   ]
  },
  {
   "cell_type": "code",
   "execution_count": null,
   "metadata": {},
   "outputs": [],
   "source": [
    "#testing model with best hyperparameter\n",
    "clf = SGDClassifier(alpha=alpha[best_alpha], penalty='l2', loss='log', random_state=42)\n",
    "predict_and_plot_confusion_matrix(train_x_onehotCoding, train_y, cv_x_onehotCoding, cv_y, clf)"
   ]
  },
  {
   "cell_type": "code",
   "execution_count": null,
   "metadata": {},
   "outputs": [],
   "source": [
    "# feature importance, correctly classified point\n",
    "clf = SGDClassifier(alpha=alpha[best_alpha], penalty='l2', loss='log', random_state=42)\n",
    "clf.fit(train_x_onehotCoding,train_y)\n",
    "test_point_index = 1\n",
    "no_feature = 500\n",
    "predicted_cls = sig_clf.predict(test_x_onehotCoding[test_point_index])\n",
    "print(\"Predicted Class :\", predicted_cls[0])\n",
    "print(\"Predicted Class Probabilities:\", np.round(sig_clf.predict_proba(test_x_onehotCoding[test_point_index]),4))\n",
    "print(\"Actual Class :\", test_y[test_point_index])\n",
    "indices = np.argsort(-1*abs(clf.coef_))[predicted_cls-1][:,:no_feature]\n",
    "print(\"-\"*50)\n",
    "get_impfeature_names(indices[0], test_df['TEXT'].iloc[test_point_index],test_df['Gene'].iloc[test_point_index],test_df['Variation'].iloc[test_point_index], no_feature)"
   ]
  },
  {
   "cell_type": "code",
   "execution_count": null,
   "metadata": {},
   "outputs": [],
   "source": [
    "#feature importance, Incorrectly classified point\n",
    "test_point_index = 100\n",
    "no_feature = 500\n",
    "predicted_cls = sig_clf.predict(test_x_onehotCoding[test_point_index])\n",
    "print(\"Predicted Class :\", predicted_cls[0])\n",
    "print(\"Predicted Class Probabilities:\", np.round(sig_clf.predict_proba(test_x_onehotCoding[test_point_index]),4))\n",
    "print(\"Actual Class :\", test_y[test_point_index])\n",
    "indices = np.argsort(-1*abs(clf.coef_))[predicted_cls-1][:,:no_feature]\n",
    "print(\"-\"*50)\n",
    "get_impfeature_names(indices[0], test_df['TEXT'].iloc[test_point_index],test_df['Gene'].iloc[test_point_index],test_df['Variation'].iloc[test_point_index], no_feature)"
   ]
  },
  {
   "cell_type": "markdown",
   "metadata": {},
   "source": [
    "# Linear support vector machine"
   ]
  },
  {
   "cell_type": "code",
   "execution_count": null,
   "metadata": {},
   "outputs": [],
   "source": [
    "#hyperparameter tuning\n",
    "alpha = [10 ** x for x in range(-5, 3)]\n",
    "cv_log_error_array = []\n",
    "for i in alpha:\n",
    "    print(\"for C =\", i)\n",
    "#     clf = SVC(C=i,kernel='linear',probability=True, class_weight='balanced')\n",
    "    clf = SGDClassifier( class_weight='balanced', alpha=i, penalty='l2', loss='hinge', random_state=42)\n",
    "    clf.fit(train_x_onehotCoding, train_y)\n",
    "    sig_clf = CalibratedClassifierCV(clf, method=\"sigmoid\")\n",
    "    sig_clf.fit(train_x_onehotCoding, train_y)\n",
    "    sig_clf_probs = sig_clf.predict_proba(cv_x_onehotCoding)\n",
    "    cv_log_error_array.append(log_loss(cv_y, sig_clf_probs, labels=clf.classes_, eps=1e-15))\n",
    "    print(\"Log Loss :\",log_loss(cv_y, sig_clf_probs)) \n",
    "\n",
    "fig, ax = plt.subplots()\n",
    "ax.plot(alpha, cv_log_error_array,c='g')\n",
    "for i, txt in enumerate(np.round(cv_log_error_array,3)):\n",
    "    ax.annotate((alpha[i],str(txt)), (alpha[i],cv_log_error_array[i]))\n",
    "plt.grid()\n",
    "plt.title(\"Cross Validation Error for each alpha\")\n",
    "plt.xlabel(\"Alpha i's\")\n",
    "plt.ylabel(\"Error measure\")\n",
    "plt.show()\n",
    "\n",
    "\n",
    "best_alpha = np.argmin(cv_log_error_array)\n",
    "# clf = SVC(C=i,kernel='linear',probability=True, class_weight='balanced')\n",
    "clf = SGDClassifier(class_weight='balanced', alpha=alpha[best_alpha], penalty='l2', loss='hinge', random_state=42)\n",
    "clf.fit(train_x_onehotCoding, train_y)\n",
    "sig_clf = CalibratedClassifierCV(clf, method=\"sigmoid\")\n",
    "sig_clf.fit(train_x_onehotCoding, train_y)\n",
    "\n",
    "predict_y = sig_clf.predict_proba(train_x_onehotCoding)\n",
    "print('For values of best alpha = ', alpha[best_alpha], \"The train log loss is:\",log_loss(y_train, predict_y, labels=clf.classes_, eps=1e-15))\n",
    "predict_y = sig_clf.predict_proba(cv_x_onehotCoding)\n",
    "print('For values of best alpha = ', alpha[best_alpha], \"The cross validation log loss is:\",log_loss(y_cv, predict_y, labels=clf.classes_, eps=1e-15))\n",
    "predict_y = sig_clf.predict_proba(test_x_onehotCoding)\n",
    "print('For values of best alpha = ', alpha[best_alpha], \"The test log loss is:\",log_loss(y_test, predict_y, labels=clf.classes_, eps=1e-15))"
   ]
  },
  {
   "cell_type": "code",
   "execution_count": null,
   "metadata": {},
   "outputs": [],
   "source": [
    "#testing model with best hyperparamter \n",
    "clf = SGDClassifier(alpha=alpha[best_alpha], penalty='l2', loss='hinge', random_state=42,class_weight='balanced')\n",
    "predict_and_plot_confusion_matrix(train_x_onehotCoding, train_y,cv_x_onehotCoding,cv_y, clf)"
   ]
  },
  {
   "cell_type": "code",
   "execution_count": null,
   "metadata": {},
   "outputs": [],
   "source": [
    "# feature importance ,correctly classified point\n",
    "clf = SGDClassifier(alpha=alpha[best_alpha], penalty='l2', loss='hinge', random_state=42)\n",
    "clf.fit(train_x_onehotCoding,train_y)\n",
    "test_point_index = 1\n",
    "# test_point_index = 100\n",
    "no_feature = 500\n",
    "predicted_cls = sig_clf.predict(test_x_onehotCoding[test_point_index])\n",
    "print(\"Predicted Class :\", predicted_cls[0])\n",
    "print(\"Predicted Class Probabilities:\", np.round(sig_clf.predict_proba(test_x_onehotCoding[test_point_index]),4))\n",
    "print(\"Actual Class :\", test_y[test_point_index])\n",
    "indices = np.argsort(-1*abs(clf.coef_))[predicted_cls-1][:,:no_feature]\n",
    "print(\"-\"*50)\n",
    "get_impfeature_names(indices[0], test_df['TEXT'].iloc[test_point_index],test_df['Gene'].iloc[test_point_index],test_df['Variation'].iloc[test_point_index], no_feature)"
   ]
  },
  {
   "cell_type": "code",
   "execution_count": null,
   "metadata": {},
   "outputs": [],
   "source": [
    "# feature importance,Incorrectly classified point\n",
    "test_point_index = 100\n",
    "no_feature = 500\n",
    "predicted_cls = sig_clf.predict(test_x_onehotCoding[test_point_index])\n",
    "print(\"Predicted Class :\", predicted_cls[0])\n",
    "print(\"Predicted Class Probabilities:\", np.round(sig_clf.predict_proba(test_x_onehotCoding[test_point_index]),4))\n",
    "print(\"Actual Class :\", test_y[test_point_index])\n",
    "indices = np.argsort(-1*abs(clf.coef_))[predicted_cls-1][:,:no_feature]\n",
    "print(\"-\"*50)\n",
    "get_impfeature_names(indices[0], test_df['TEXT'].iloc[test_point_index],test_df['Gene'].iloc[test_point_index],test_df['Variation'].iloc[test_point_index], no_feature)"
   ]
  },
  {
   "cell_type": "markdown",
   "metadata": {},
   "source": [
    "# Random forest classifier"
   ]
  },
  {
   "cell_type": "code",
   "execution_count": null,
   "metadata": {},
   "outputs": [],
   "source": [
    "#hyper parameter tuning(one hot coding)\n",
    "alpha = [100,200,500,1000,2000]\n",
    "max_depth = [5, 10]\n",
    "cv_log_error_array = []\n",
    "for i in alpha:\n",
    "    for j in max_depth:\n",
    "        print(\"for n_estimators =\", i,\"and max depth = \", j)\n",
    "        clf = RandomForestClassifier(n_estimators=i, criterion='gini', max_depth=j, random_state=42, n_jobs=-1)\n",
    "        clf.fit(train_x_onehotCoding, train_y)\n",
    "        sig_clf = CalibratedClassifierCV(clf, method=\"sigmoid\")\n",
    "        sig_clf.fit(train_x_onehotCoding, train_y)\n",
    "        sig_clf_probs = sig_clf.predict_proba(cv_x_onehotCoding)\n",
    "        cv_log_error_array.append(log_loss(cv_y, sig_clf_probs, labels=clf.classes_, eps=1e-15))\n",
    "        print(\"Log Loss :\",log_loss(cv_y, sig_clf_probs)) \n",
    "\n",
    "'''fig, ax = plt.subplots()\n",
    "features = np.dot(np.array(alpha)[:,None],np.array(max_depth)[None]).ravel()\n",
    "ax.plot(features, cv_log_error_array,c='g')\n",
    "for i, txt in enumerate(np.round(cv_log_error_array,3)):\n",
    "    ax.annotate((alpha[int(i/2)],max_depth[int(i%2)],str(txt)), (features[i],cv_log_error_array[i]))\n",
    "plt.grid()\n",
    "plt.title(\"Cross Validation Error for each alpha\")\n",
    "plt.xlabel(\"Alpha i's\")\n",
    "plt.ylabel(\"Error measure\")\n",
    "plt.show()\n",
    "'''\n",
    "\n",
    "best_alpha = np.argmin(cv_log_error_array)\n",
    "clf = RandomForestClassifier(n_estimators=alpha[int(best_alpha/2)], criterion='gini', max_depth=max_depth[int(best_alpha%2)], random_state=42, n_jobs=-1)\n",
    "clf.fit(train_x_onehotCoding, train_y)\n",
    "sig_clf = CalibratedClassifierCV(clf, method=\"sigmoid\")\n",
    "sig_clf.fit(train_x_onehotCoding, train_y)\n",
    "\n",
    "predict_y = sig_clf.predict_proba(train_x_onehotCoding)\n",
    "print('For values of best estimator = ', alpha[int(best_alpha/2)], \"The train log loss is:\",log_loss(y_train, predict_y, labels=clf.classes_, eps=1e-15))\n",
    "predict_y = sig_clf.predict_proba(cv_x_onehotCoding)\n",
    "print('For values of best estimator = ', alpha[int(best_alpha/2)], \"The cross validation log loss is:\",log_loss(y_cv, predict_y, labels=clf.classes_, eps=1e-15))\n",
    "predict_y = sig_clf.predict_proba(test_x_onehotCoding)\n",
    "print('For values of best estimator = ', alpha[int(best_alpha/2)], \"The test log loss is:\",log_loss(y_test, predict_y, labels=clf.classes_, eps=1e-15))"
   ]
  },
  {
   "cell_type": "code",
   "execution_count": null,
   "metadata": {},
   "outputs": [],
   "source": [
    "#testing the model with best hyperparameter\n",
    "clf = RandomForestClassifier(n_estimators=alpha[int(best_alpha/2)], criterion='gini', max_depth=max_depth[int(best_alpha%2)], random_state=42, n_jobs=-1)\n",
    "predict_and_plot_confusion_matrix(train_x_onehotCoding, train_y,cv_x_onehotCoding,cv_y, clf)"
   ]
  },
  {
   "cell_type": "code",
   "execution_count": null,
   "metadata": {},
   "outputs": [],
   "source": [
    "# feature importance,correctly classified point\n",
    "# test_point_index = 10\n",
    "clf = RandomForestClassifier(n_estimators=alpha[int(best_alpha/2)], criterion='gini', max_depth=max_depth[int(best_alpha%2)], random_state=42, n_jobs=-1)\n",
    "clf.fit(train_x_onehotCoding, train_y)\n",
    "sig_clf = CalibratedClassifierCV(clf, method=\"sigmoid\")\n",
    "sig_clf.fit(train_x_onehotCoding, train_y)\n",
    "\n",
    "test_point_index = 1\n",
    "no_feature = 100\n",
    "predicted_cls = sig_clf.predict(test_x_onehotCoding[test_point_index])\n",
    "print(\"Predicted Class :\", predicted_cls[0])\n",
    "print(\"Predicted Class Probabilities:\", np.round(sig_clf.predict_proba(test_x_onehotCoding[test_point_index]),4))\n",
    "print(\"Actual Class :\", test_y[test_point_index])\n",
    "indices = np.argsort(-clf.feature_importances_)\n",
    "print(\"-\"*50)\n",
    "get_impfeature_names(indices[:no_feature], test_df['TEXT'].iloc[test_point_index],test_df['Gene'].iloc[test_point_index],test_df['Variation'].iloc[test_point_index], no_feature)"
   ]
  },
  {
   "cell_type": "code",
   "execution_count": null,
   "metadata": {},
   "outputs": [],
   "source": [
    "# incorrectly classified point\n",
    "test_point_index = 100\n",
    "no_feature = 100\n",
    "predicted_cls = sig_clf.predict(test_x_onehotCoding[test_point_index])\n",
    "print(\"Predicted Class :\", predicted_cls[0])\n",
    "print(\"Predicted Class Probabilities:\", np.round(sig_clf.predict_proba(test_x_onehotCoding[test_point_index]),4))\n",
    "print(\"Actuall Class :\", test_y[test_point_index])\n",
    "indices = np.argsort(-clf.feature_importances_)\n",
    "print(\"-\"*50)\n",
    "get_impfeature_names(indices[:no_feature], test_df['TEXT'].iloc[test_point_index],test_df['Gene'].iloc[test_point_index],test_df['Variation'].iloc[test_point_index], no_feature)"
   ]
  },
  {
   "cell_type": "code",
   "execution_count": null,
   "metadata": {},
   "outputs": [],
   "source": [
    "# hyperparameter tuning(with response coding )\n",
    "alpha = [10,50,100,200,500,1000]\n",
    "max_depth = [2,3,5,10]\n",
    "cv_log_error_array = []\n",
    "for i in alpha:\n",
    "    for j in max_depth:\n",
    "        print(\"for n_estimators =\", i,\"and max depth = \", j)\n",
    "        clf = RandomForestClassifier(n_estimators=i, criterion='gini', max_depth=j, random_state=42, n_jobs=-1)\n",
    "        clf.fit(train_x_responseCoding, train_y)\n",
    "        sig_clf = CalibratedClassifierCV(clf, method=\"sigmoid\")\n",
    "        sig_clf.fit(train_x_responseCoding, train_y)\n",
    "        sig_clf_probs = sig_clf.predict_proba(cv_x_responseCoding)\n",
    "        cv_log_error_array.append(log_loss(cv_y, sig_clf_probs, labels=clf.classes_, eps=1e-15))\n",
    "        print(\"Log Loss :\",log_loss(cv_y, sig_clf_probs)) \n",
    "'''\n",
    "fig, ax = plt.subplots()\n",
    "features = np.dot(np.array(alpha)[:,None],np.array(max_depth)[None]).ravel()\n",
    "ax.plot(features, cv_log_error_array,c='g')\n",
    "for i, txt in enumerate(np.round(cv_log_error_array,3)):\n",
    "    ax.annotate((alpha[int(i/4)],max_depth[int(i%4)],str(txt)), (features[i],cv_log_error_array[i]))\n",
    "plt.grid()\n",
    "plt.title(\"Cross Validation Error for each alpha\")\n",
    "plt.xlabel(\"Alpha i's\")\n",
    "plt.ylabel(\"Error measure\")\n",
    "plt.show()\n",
    "'''\n",
    "\n",
    "best_alpha = np.argmin(cv_log_error_array)\n",
    "clf = RandomForestClassifier(n_estimators=alpha[int(best_alpha/4)], criterion='gini', max_depth=max_depth[int(best_alpha%4)], random_state=42, n_jobs=-1)\n",
    "clf.fit(train_x_responseCoding, train_y)\n",
    "sig_clf = CalibratedClassifierCV(clf, method=\"sigmoid\")\n",
    "sig_clf.fit(train_x_responseCoding, train_y)\n",
    "\n",
    "predict_y = sig_clf.predict_proba(train_x_responseCoding)\n",
    "print('For values of best alpha = ', alpha[int(best_alpha/4)], \"The train log loss is:\",log_loss(y_train, predict_y, labels=clf.classes_, eps=1e-15))\n",
    "predict_y = sig_clf.predict_proba(cv_x_responseCoding)\n",
    "print('For values of best alpha = ', alpha[int(best_alpha/4)], \"The cross validation log loss is:\",log_loss(y_cv, predict_y, labels=clf.classes_, eps=1e-15))\n",
    "predict_y = sig_clf.predict_proba(test_x_responseCoding)\n",
    "print('For values of best alpha = ', alpha[int(best_alpha/4)], \"The test log loss is:\",log_loss(y_test, predict_y, labels=clf.classes_, eps=1e-15))"
   ]
  },
  {
   "cell_type": "code",
   "execution_count": null,
   "metadata": {},
   "outputs": [],
   "source": [
    "#test model with best hyper parameter \n",
    "clf = RandomForestClassifier(max_depth=max_depth[int(best_alpha%4)], n_estimators=alpha[int(best_alpha/4)], criterion='gini', max_features='auto',random_state=42)\n",
    "predict_and_plot_confusion_matrix(train_x_responseCoding, train_y,cv_x_responseCoding,cv_y, clf)"
   ]
  },
  {
   "cell_type": "code",
   "execution_count": null,
   "metadata": {},
   "outputs": [],
   "source": [
    "#feature importance,correctly classified point\n",
    "clf = RandomForestClassifier(n_estimators=alpha[int(best_alpha/4)], criterion='gini', max_depth=max_depth[int(best_alpha%4)], random_state=42, n_jobs=-1)\n",
    "clf.fit(train_x_responseCoding, train_y)\n",
    "sig_clf = CalibratedClassifierCV(clf, method=\"sigmoid\")\n",
    "sig_clf.fit(train_x_responseCoding, train_y)\n",
    "\n",
    "\n",
    "test_point_index = 1\n",
    "no_feature = 27\n",
    "predicted_cls = sig_clf.predict(test_x_responseCoding[test_point_index].reshape(1,-1))\n",
    "print(\"Predicted Class :\", predicted_cls[0])\n",
    "print(\"Predicted Class Probabilities:\", np.round(sig_clf.predict_proba(test_x_responseCoding[test_point_index].reshape(1,-1)),4))\n",
    "print(\"Actual Class :\", test_y[test_point_index])\n",
    "indices = np.argsort(-clf.feature_importances_)\n",
    "print(\"-\"*50)\n",
    "for i in indices:\n",
    "    if i<9:\n",
    "        print(\"Gene is important feature\")\n",
    "    elif i<18:\n",
    "        print(\"Variation is important feature\")\n",
    "    else:\n",
    "        print(\"Text is important feature\")"
   ]
  },
  {
   "cell_type": "code",
   "execution_count": null,
   "metadata": {},
   "outputs": [],
   "source": [
    "#feature importance,Incorrectly classified point\n",
    "test_point_index = 100\n",
    "predicted_cls = sig_clf.predict(test_x_responseCoding[test_point_index].reshape(1,-1))\n",
    "print(\"Predicted Class :\", predicted_cls[0])\n",
    "print(\"Predicted Class Probabilities:\", np.round(sig_clf.predict_proba(test_x_responseCoding[test_point_index].reshape(1,-1)),4))\n",
    "print(\"Actual Class :\", test_y[test_point_index])\n",
    "indices = np.argsort(-clf.feature_importances_)\n",
    "print(\"-\"*50)\n",
    "for i in indices:\n",
    "    if i<9:\n",
    "        print(\"Gene is important feature\")\n",
    "    elif i<18:\n",
    "        print(\"Variation is important feature\")\n",
    "    else:\n",
    "        print(\"Text is important feature\")"
   ]
  },
  {
   "cell_type": "markdown",
   "metadata": {},
   "source": [
    "# stacking the model"
   ]
  },
  {
   "cell_type": "code",
   "execution_count": null,
   "metadata": {},
   "outputs": [],
   "source": [
    "# testing with hyperparameter tuning\n",
    "clf1 = SGDClassifier(alpha=0.001, penalty='l2', loss='log', class_weight='balanced', random_state=0)\n",
    "clf1.fit(train_x_onehotCoding, train_y)\n",
    "sig_clf1 = CalibratedClassifierCV(clf1, method=\"sigmoid\")\n",
    "\n",
    "clf2 = SGDClassifier(alpha=1, penalty='l2', loss='hinge', class_weight='balanced', random_state=0)\n",
    "clf2.fit(train_x_onehotCoding, train_y)\n",
    "sig_clf2 = CalibratedClassifierCV(clf2, method=\"sigmoid\")\n",
    "\n",
    "\n",
    "clf3 = MultinomialNB(alpha=0.001)\n",
    "clf3.fit(train_x_onehotCoding, train_y)\n",
    "sig_clf3 = CalibratedClassifierCV(clf3, method=\"sigmoid\")\n",
    "\n",
    "sig_clf1.fit(train_x_onehotCoding, train_y)\n",
    "print(\"Logistic Regression :  Log Loss: %0.2f\" % (log_loss(cv_y, sig_clf1.predict_proba(cv_x_onehotCoding))))\n",
    "sig_clf2.fit(train_x_onehotCoding, train_y)\n",
    "print(\"Support vector machines : Log Loss: %0.2f\" % (log_loss(cv_y, sig_clf2.predict_proba(cv_x_onehotCoding))))\n",
    "sig_clf3.fit(train_x_onehotCoding, train_y)\n",
    "print(\"Naive Bayes : Log Loss: %0.2f\" % (log_loss(cv_y, sig_clf3.predict_proba(cv_x_onehotCoding))))\n",
    "print(\"-\"*50)\n",
    "alpha = [0.0001,0.001,0.01,0.1,1,10] \n",
    "best_alpha = 999\n",
    "for i in alpha:\n",
    "    lr = LogisticRegression(C=i)\n",
    "    sclf = StackingClassifier(classifiers=[sig_clf1, sig_clf2, sig_clf3], meta_classifier=lr, use_probas=True)\n",
    "    sclf.fit(train_x_onehotCoding, train_y)\n",
    "    print(\"Stacking Classifer : for the value of alpha: %f Log Loss: %0.3f\" % (i, log_loss(cv_y, sclf.predict_proba(cv_x_onehotCoding))))\n",
    "    log_error =log_loss(cv_y, sclf.predict_proba(cv_x_onehotCoding))\n",
    "    if best_alpha > log_error:\n",
    "        best_alpha = log_error"
   ]
  },
  {
   "cell_type": "code",
   "execution_count": null,
   "metadata": {},
   "outputs": [],
   "source": [
    "#testing the model with the best hyper parameters\n",
    "lr = LogisticRegression(C=0.1)\n",
    "sclf = StackingClassifier(classifiers=[sig_clf1, sig_clf2, sig_clf3], meta_classifier=lr, use_probas=True)\n",
    "sclf.fit(train_x_onehotCoding, train_y)\n",
    "\n",
    "log_error = log_loss(train_y, sclf.predict_proba(train_x_onehotCoding))\n",
    "print(\"Log loss (train) on the stacking classifier :\",log_error)\n",
    "\n",
    "log_error = log_loss(cv_y, sclf.predict_proba(cv_x_onehotCoding))\n",
    "print(\"Log loss (CV) on the stacking classifier :\",log_error)\n",
    "\n",
    "log_error = log_loss(test_y, sclf.predict_proba(test_x_onehotCoding))\n",
    "print(\"Log loss (test) on the stacking classifier :\",log_error)\n",
    "\n",
    "print(\"Number of missclassified point :\", np.count_nonzero((sclf.predict(test_x_onehotCoding)- test_y))/test_y.shape[0])\n",
    "plot_confusion_matrix(test_y=test_y, predict_y=sclf.predict(test_x_onehotCoding))"
   ]
  },
  {
   "cell_type": "code",
   "execution_count": null,
   "metadata": {},
   "outputs": [],
   "source": [
    "#Maximum Voting classifier\n",
    "from sklearn.ensemble import VotingClassifier\n",
    "vclf = VotingClassifier(estimators=[('lr', sig_clf1), ('svc', sig_clf2), ('rf', sig_clf3)], voting='soft')\n",
    "vclf.fit(train_x_onehotCoding, train_y)\n",
    "print(\"Log loss (train) on the VotingClassifier :\", log_loss(train_y, vclf.predict_proba(train_x_onehotCoding)))\n",
    "print(\"Log loss (CV) on the VotingClassifier :\", log_loss(cv_y, vclf.predict_proba(cv_x_onehotCoding)))\n",
    "print(\"Log loss (test) on the VotingClassifier :\", log_loss(test_y, vclf.predict_proba(test_x_onehotCoding)))\n",
    "print(\"Number of missclassified point :\", np.count_nonzero((vclf.predict(test_x_onehotCoding)- test_y))/test_y.shape[0])\n",
    "plot_confusion_matrix(test_y=test_y, predict_y=vclf.predict(test_x_onehotCoding))"
   ]
  }
 ],
 "metadata": {
  "kernelspec": {
   "display_name": "Python 3",
   "language": "python",
   "name": "python3"
  },
  "language_info": {
   "codemirror_mode": {
    "name": "ipython",
    "version": 3
   },
   "file_extension": ".py",
   "mimetype": "text/x-python",
   "name": "python",
   "nbconvert_exporter": "python",
   "pygments_lexer": "ipython3",
   "version": "3.7.4"
  }
 },
 "nbformat": 4,
 "nbformat_minor": 2
}
